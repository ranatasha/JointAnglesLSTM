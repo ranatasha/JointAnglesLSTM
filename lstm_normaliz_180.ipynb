{
 "cells": [
  {
   "cell_type": "markdown",
   "metadata": {},
   "source": [
    "### Подключение библиотек"
   ]
  },
  {
   "cell_type": "code",
   "execution_count": 2,
   "metadata": {},
   "outputs": [],
   "source": [
    "import tensorflow as tf\n",
    "import pandas as pd\n",
    "import numpy as np\n",
    "import matplotlib.pyplot as plt"
   ]
  },
  {
   "cell_type": "code",
   "execution_count": 2,
   "metadata": {},
   "outputs": [],
   "source": [
    "from tensorflow.keras.models import Sequential\n",
    "from tensorflow.keras.layers import *\n",
    "from tensorflow.keras.callbacks import ModelCheckpoint\n",
    "from tensorflow.keras.losses import MeanSquaredError\n",
    "from tensorflow.keras.metrics import RootMeanSquaredError\n",
    "from tensorflow.keras.optimizers import Adam\n",
    "from keras.regularizers import l2"
   ]
  },
  {
   "cell_type": "markdown",
   "metadata": {},
   "source": [
    "### Подключение к GPU"
   ]
  },
  {
   "cell_type": "code",
   "execution_count": 3,
   "metadata": {},
   "outputs": [
    {
     "name": "stdout",
     "output_type": "stream",
     "text": [
      "Found GPU at: /device:GPU:0\n"
     ]
    }
   ],
   "source": [
    "device_name = tf.test.gpu_device_name()\n",
    "if device_name != '/device:GPU:0':\n",
    "  raise SystemError('GPU device not found')\n",
    "print('Found GPU at: {}'.format(device_name))"
   ]
  },
  {
   "cell_type": "markdown",
   "metadata": {},
   "source": [
    "### Загрузка датасета с НОРМАЛИЗАЦИЕЙ 180. Формат X и Y"
   ]
  },
  {
   "cell_type": "code",
   "execution_count": 4,
   "metadata": {},
   "outputs": [
    {
     "data": {
      "text/html": [
       "<div>\n",
       "<style scoped>\n",
       "    .dataframe tbody tr th:only-of-type {\n",
       "        vertical-align: middle;\n",
       "    }\n",
       "\n",
       "    .dataframe tbody tr th {\n",
       "        vertical-align: top;\n",
       "    }\n",
       "\n",
       "    .dataframe thead th {\n",
       "        text-align: right;\n",
       "    }\n",
       "</style>\n",
       "<table border=\"1\" class=\"dataframe\">\n",
       "  <thead>\n",
       "    <tr style=\"text-align: right;\">\n",
       "      <th></th>\n",
       "      <th>HumFlex-L</th>\n",
       "      <th>HumFlex-R</th>\n",
       "      <th>HumAdd-L</th>\n",
       "      <th>HumAdd-R</th>\n",
       "      <th>HumPron-L</th>\n",
       "      <th>HumPron-R</th>\n",
       "      <th>CubFlex-L</th>\n",
       "      <th>CubFlex-R</th>\n",
       "      <th>CubPron-L</th>\n",
       "      <th>CubPron-R</th>\n",
       "      <th>RadFlex-L</th>\n",
       "      <th>RadFlex-R</th>\n",
       "      <th>RadAdd-L</th>\n",
       "      <th>RadAdd-R</th>\n",
       "    </tr>\n",
       "  </thead>\n",
       "  <tbody>\n",
       "    <tr>\n",
       "      <th>0</th>\n",
       "      <td>25.3891</td>\n",
       "      <td>9.27357</td>\n",
       "      <td>8.17163</td>\n",
       "      <td>8.20268</td>\n",
       "      <td>6.54854</td>\n",
       "      <td>31.5294</td>\n",
       "      <td>131.409</td>\n",
       "      <td>12.6733</td>\n",
       "      <td>25.9416</td>\n",
       "      <td>-72.2202</td>\n",
       "      <td>12.4294</td>\n",
       "      <td>-0.131512</td>\n",
       "      <td>-37.7395</td>\n",
       "      <td>1.51097</td>\n",
       "    </tr>\n",
       "    <tr>\n",
       "      <th>1</th>\n",
       "      <td>25.3891</td>\n",
       "      <td>9.27357</td>\n",
       "      <td>8.17163</td>\n",
       "      <td>8.20268</td>\n",
       "      <td>6.54854</td>\n",
       "      <td>31.5294</td>\n",
       "      <td>131.409</td>\n",
       "      <td>12.6733</td>\n",
       "      <td>25.9416</td>\n",
       "      <td>-72.2202</td>\n",
       "      <td>12.4294</td>\n",
       "      <td>-0.131512</td>\n",
       "      <td>-37.7395</td>\n",
       "      <td>1.51097</td>\n",
       "    </tr>\n",
       "    <tr>\n",
       "      <th>2</th>\n",
       "      <td>25.3868</td>\n",
       "      <td>9.27080</td>\n",
       "      <td>8.17124</td>\n",
       "      <td>8.20132</td>\n",
       "      <td>6.54858</td>\n",
       "      <td>31.5304</td>\n",
       "      <td>131.410</td>\n",
       "      <td>12.6754</td>\n",
       "      <td>25.9413</td>\n",
       "      <td>-72.2209</td>\n",
       "      <td>12.4288</td>\n",
       "      <td>-0.131742</td>\n",
       "      <td>-37.7401</td>\n",
       "      <td>1.51067</td>\n",
       "    </tr>\n",
       "    <tr>\n",
       "      <th>3</th>\n",
       "      <td>25.3868</td>\n",
       "      <td>9.27080</td>\n",
       "      <td>8.17124</td>\n",
       "      <td>8.20132</td>\n",
       "      <td>6.54858</td>\n",
       "      <td>31.5304</td>\n",
       "      <td>131.410</td>\n",
       "      <td>12.6754</td>\n",
       "      <td>25.9413</td>\n",
       "      <td>-72.2209</td>\n",
       "      <td>12.4288</td>\n",
       "      <td>-0.131742</td>\n",
       "      <td>-37.7401</td>\n",
       "      <td>1.51067</td>\n",
       "    </tr>\n",
       "    <tr>\n",
       "      <th>4</th>\n",
       "      <td>25.3844</td>\n",
       "      <td>9.26813</td>\n",
       "      <td>8.17081</td>\n",
       "      <td>8.19961</td>\n",
       "      <td>6.54859</td>\n",
       "      <td>31.5316</td>\n",
       "      <td>131.411</td>\n",
       "      <td>12.6767</td>\n",
       "      <td>25.9409</td>\n",
       "      <td>-72.2216</td>\n",
       "      <td>12.4281</td>\n",
       "      <td>-0.131909</td>\n",
       "      <td>-37.7408</td>\n",
       "      <td>1.51038</td>\n",
       "    </tr>\n",
       "    <tr>\n",
       "      <th>...</th>\n",
       "      <td>...</td>\n",
       "      <td>...</td>\n",
       "      <td>...</td>\n",
       "      <td>...</td>\n",
       "      <td>...</td>\n",
       "      <td>...</td>\n",
       "      <td>...</td>\n",
       "      <td>...</td>\n",
       "      <td>...</td>\n",
       "      <td>...</td>\n",
       "      <td>...</td>\n",
       "      <td>...</td>\n",
       "      <td>...</td>\n",
       "      <td>...</td>\n",
       "    </tr>\n",
       "    <tr>\n",
       "      <th>85395</th>\n",
       "      <td>26.4817</td>\n",
       "      <td>8.81054</td>\n",
       "      <td>10.46340</td>\n",
       "      <td>10.15400</td>\n",
       "      <td>13.71280</td>\n",
       "      <td>44.9465</td>\n",
       "      <td>149.520</td>\n",
       "      <td>44.0545</td>\n",
       "      <td>31.3010</td>\n",
       "      <td>-80.1557</td>\n",
       "      <td>10.8189</td>\n",
       "      <td>1.841450</td>\n",
       "      <td>-51.1252</td>\n",
       "      <td>1.24794</td>\n",
       "    </tr>\n",
       "    <tr>\n",
       "      <th>85396</th>\n",
       "      <td>26.4827</td>\n",
       "      <td>8.81207</td>\n",
       "      <td>10.46390</td>\n",
       "      <td>10.15460</td>\n",
       "      <td>13.71320</td>\n",
       "      <td>44.9472</td>\n",
       "      <td>149.519</td>\n",
       "      <td>44.0548</td>\n",
       "      <td>31.3012</td>\n",
       "      <td>-80.1564</td>\n",
       "      <td>10.8193</td>\n",
       "      <td>1.841770</td>\n",
       "      <td>-51.1252</td>\n",
       "      <td>1.24859</td>\n",
       "    </tr>\n",
       "    <tr>\n",
       "      <th>85397</th>\n",
       "      <td>26.4827</td>\n",
       "      <td>8.81207</td>\n",
       "      <td>10.46390</td>\n",
       "      <td>10.15460</td>\n",
       "      <td>13.71320</td>\n",
       "      <td>44.9472</td>\n",
       "      <td>149.519</td>\n",
       "      <td>44.0548</td>\n",
       "      <td>31.3012</td>\n",
       "      <td>-80.1564</td>\n",
       "      <td>10.8193</td>\n",
       "      <td>1.841770</td>\n",
       "      <td>-51.1252</td>\n",
       "      <td>1.24859</td>\n",
       "    </tr>\n",
       "    <tr>\n",
       "      <th>85398</th>\n",
       "      <td>26.4837</td>\n",
       "      <td>8.81374</td>\n",
       "      <td>10.46450</td>\n",
       "      <td>10.15540</td>\n",
       "      <td>13.71340</td>\n",
       "      <td>44.9475</td>\n",
       "      <td>149.519</td>\n",
       "      <td>44.0552</td>\n",
       "      <td>31.3014</td>\n",
       "      <td>-80.1570</td>\n",
       "      <td>10.8199</td>\n",
       "      <td>1.841800</td>\n",
       "      <td>-51.1252</td>\n",
       "      <td>1.24873</td>\n",
       "    </tr>\n",
       "    <tr>\n",
       "      <th>85399</th>\n",
       "      <td>26.4837</td>\n",
       "      <td>8.81374</td>\n",
       "      <td>10.46450</td>\n",
       "      <td>10.15540</td>\n",
       "      <td>13.71340</td>\n",
       "      <td>44.9475</td>\n",
       "      <td>149.519</td>\n",
       "      <td>44.0552</td>\n",
       "      <td>31.3014</td>\n",
       "      <td>-80.1570</td>\n",
       "      <td>10.8199</td>\n",
       "      <td>1.841800</td>\n",
       "      <td>-51.1252</td>\n",
       "      <td>1.24873</td>\n",
       "    </tr>\n",
       "  </tbody>\n",
       "</table>\n",
       "<p>85400 rows × 14 columns</p>\n",
       "</div>"
      ],
      "text/plain": [
       "       HumFlex-L  HumFlex-R  HumAdd-L  HumAdd-R  HumPron-L  HumPron-R  \\\n",
       "0        25.3891    9.27357   8.17163   8.20268    6.54854    31.5294   \n",
       "1        25.3891    9.27357   8.17163   8.20268    6.54854    31.5294   \n",
       "2        25.3868    9.27080   8.17124   8.20132    6.54858    31.5304   \n",
       "3        25.3868    9.27080   8.17124   8.20132    6.54858    31.5304   \n",
       "4        25.3844    9.26813   8.17081   8.19961    6.54859    31.5316   \n",
       "...          ...        ...       ...       ...        ...        ...   \n",
       "85395    26.4817    8.81054  10.46340  10.15400   13.71280    44.9465   \n",
       "85396    26.4827    8.81207  10.46390  10.15460   13.71320    44.9472   \n",
       "85397    26.4827    8.81207  10.46390  10.15460   13.71320    44.9472   \n",
       "85398    26.4837    8.81374  10.46450  10.15540   13.71340    44.9475   \n",
       "85399    26.4837    8.81374  10.46450  10.15540   13.71340    44.9475   \n",
       "\n",
       "       CubFlex-L  CubFlex-R  CubPron-L  CubPron-R  RadFlex-L  RadFlex-R  \\\n",
       "0        131.409    12.6733    25.9416   -72.2202    12.4294  -0.131512   \n",
       "1        131.409    12.6733    25.9416   -72.2202    12.4294  -0.131512   \n",
       "2        131.410    12.6754    25.9413   -72.2209    12.4288  -0.131742   \n",
       "3        131.410    12.6754    25.9413   -72.2209    12.4288  -0.131742   \n",
       "4        131.411    12.6767    25.9409   -72.2216    12.4281  -0.131909   \n",
       "...          ...        ...        ...        ...        ...        ...   \n",
       "85395    149.520    44.0545    31.3010   -80.1557    10.8189   1.841450   \n",
       "85396    149.519    44.0548    31.3012   -80.1564    10.8193   1.841770   \n",
       "85397    149.519    44.0548    31.3012   -80.1564    10.8193   1.841770   \n",
       "85398    149.519    44.0552    31.3014   -80.1570    10.8199   1.841800   \n",
       "85399    149.519    44.0552    31.3014   -80.1570    10.8199   1.841800   \n",
       "\n",
       "       RadAdd-L  RadAdd-R  \n",
       "0      -37.7395   1.51097  \n",
       "1      -37.7395   1.51097  \n",
       "2      -37.7401   1.51067  \n",
       "3      -37.7401   1.51067  \n",
       "4      -37.7408   1.51038  \n",
       "...         ...       ...  \n",
       "85395  -51.1252   1.24794  \n",
       "85396  -51.1252   1.24859  \n",
       "85397  -51.1252   1.24859  \n",
       "85398  -51.1252   1.24873  \n",
       "85399  -51.1252   1.24873  \n",
       "\n",
       "[85400 rows x 14 columns]"
      ]
     },
     "execution_count": 4,
     "metadata": {},
     "output_type": "execute_result"
    }
   ],
   "source": [
    "# Чтение датасета из файла, зарегистрированного кинект\n",
    "test_df = pd.read_csv(\"test_data.txt\", sep='\\t', comment='#', encoding='utf-8')\n",
    "# Сдвиг значений из индекса на колонку вперед\n",
    "test_df = test_df.shift(periods=1, axis=\"columns\")\n",
    "test_df['HumFlex-L'] = test_df.index\n",
    "test_df.index=[_ for _ in range(85400) ]\n",
    "# Готовый Датасет\n",
    "test_df"
   ]
  },
  {
   "cell_type": "code",
   "execution_count": 5,
   "metadata": {},
   "outputs": [
    {
     "data": {
      "text/html": [
       "<div>\n",
       "<style scoped>\n",
       "    .dataframe tbody tr th:only-of-type {\n",
       "        vertical-align: middle;\n",
       "    }\n",
       "\n",
       "    .dataframe tbody tr th {\n",
       "        vertical-align: top;\n",
       "    }\n",
       "\n",
       "    .dataframe thead th {\n",
       "        text-align: right;\n",
       "    }\n",
       "</style>\n",
       "<table border=\"1\" class=\"dataframe\">\n",
       "  <thead>\n",
       "    <tr style=\"text-align: right;\">\n",
       "      <th></th>\n",
       "      <th>CubFlex-L</th>\n",
       "      <th>CubFlex-R</th>\n",
       "      <th>CubPron-L</th>\n",
       "      <th>CubPron-R</th>\n",
       "      <th>HumFlex-L</th>\n",
       "      <th>HumFlex-R</th>\n",
       "      <th>HumPron-L</th>\n",
       "      <th>HumPron-R</th>\n",
       "      <th>HumAdd-L</th>\n",
       "      <th>HumAdd-R</th>\n",
       "      <th>RadFlex-L</th>\n",
       "      <th>RadFlex-R</th>\n",
       "      <th>RadAdd-L</th>\n",
       "      <th>RadAdd-R</th>\n",
       "    </tr>\n",
       "  </thead>\n",
       "  <tbody>\n",
       "    <tr>\n",
       "      <th>0</th>\n",
       "      <td>0.730050</td>\n",
       "      <td>0.070407</td>\n",
       "      <td>0.144120</td>\n",
       "      <td>-0.401223</td>\n",
       "      <td>0.141051</td>\n",
       "      <td>0.051520</td>\n",
       "      <td>0.036381</td>\n",
       "      <td>0.175163</td>\n",
       "      <td>0.045398</td>\n",
       "      <td>0.045570</td>\n",
       "      <td>0.069052</td>\n",
       "      <td>-0.000731</td>\n",
       "      <td>-0.209664</td>\n",
       "      <td>0.008394</td>\n",
       "    </tr>\n",
       "    <tr>\n",
       "      <th>1</th>\n",
       "      <td>0.730050</td>\n",
       "      <td>0.070407</td>\n",
       "      <td>0.144120</td>\n",
       "      <td>-0.401223</td>\n",
       "      <td>0.141051</td>\n",
       "      <td>0.051520</td>\n",
       "      <td>0.036381</td>\n",
       "      <td>0.175163</td>\n",
       "      <td>0.045398</td>\n",
       "      <td>0.045570</td>\n",
       "      <td>0.069052</td>\n",
       "      <td>-0.000731</td>\n",
       "      <td>-0.209664</td>\n",
       "      <td>0.008394</td>\n",
       "    </tr>\n",
       "    <tr>\n",
       "      <th>2</th>\n",
       "      <td>0.730056</td>\n",
       "      <td>0.070419</td>\n",
       "      <td>0.144118</td>\n",
       "      <td>-0.401227</td>\n",
       "      <td>0.141038</td>\n",
       "      <td>0.051504</td>\n",
       "      <td>0.036381</td>\n",
       "      <td>0.175169</td>\n",
       "      <td>0.045396</td>\n",
       "      <td>0.045563</td>\n",
       "      <td>0.069049</td>\n",
       "      <td>-0.000732</td>\n",
       "      <td>-0.209667</td>\n",
       "      <td>0.008393</td>\n",
       "    </tr>\n",
       "    <tr>\n",
       "      <th>3</th>\n",
       "      <td>0.730056</td>\n",
       "      <td>0.070419</td>\n",
       "      <td>0.144118</td>\n",
       "      <td>-0.401227</td>\n",
       "      <td>0.141038</td>\n",
       "      <td>0.051504</td>\n",
       "      <td>0.036381</td>\n",
       "      <td>0.175169</td>\n",
       "      <td>0.045396</td>\n",
       "      <td>0.045563</td>\n",
       "      <td>0.069049</td>\n",
       "      <td>-0.000732</td>\n",
       "      <td>-0.209667</td>\n",
       "      <td>0.008393</td>\n",
       "    </tr>\n",
       "    <tr>\n",
       "      <th>4</th>\n",
       "      <td>0.730061</td>\n",
       "      <td>0.070426</td>\n",
       "      <td>0.144116</td>\n",
       "      <td>-0.401231</td>\n",
       "      <td>0.141024</td>\n",
       "      <td>0.051490</td>\n",
       "      <td>0.036381</td>\n",
       "      <td>0.175176</td>\n",
       "      <td>0.045393</td>\n",
       "      <td>0.045553</td>\n",
       "      <td>0.069045</td>\n",
       "      <td>-0.000733</td>\n",
       "      <td>-0.209671</td>\n",
       "      <td>0.008391</td>\n",
       "    </tr>\n",
       "    <tr>\n",
       "      <th>...</th>\n",
       "      <td>...</td>\n",
       "      <td>...</td>\n",
       "      <td>...</td>\n",
       "      <td>...</td>\n",
       "      <td>...</td>\n",
       "      <td>...</td>\n",
       "      <td>...</td>\n",
       "      <td>...</td>\n",
       "      <td>...</td>\n",
       "      <td>...</td>\n",
       "      <td>...</td>\n",
       "      <td>...</td>\n",
       "      <td>...</td>\n",
       "      <td>...</td>\n",
       "    </tr>\n",
       "    <tr>\n",
       "      <th>85395</th>\n",
       "      <td>0.830667</td>\n",
       "      <td>0.244747</td>\n",
       "      <td>0.173894</td>\n",
       "      <td>-0.445309</td>\n",
       "      <td>0.147121</td>\n",
       "      <td>0.048947</td>\n",
       "      <td>0.076182</td>\n",
       "      <td>0.249703</td>\n",
       "      <td>0.058130</td>\n",
       "      <td>0.056411</td>\n",
       "      <td>0.060105</td>\n",
       "      <td>0.010230</td>\n",
       "      <td>-0.284029</td>\n",
       "      <td>0.006933</td>\n",
       "    </tr>\n",
       "    <tr>\n",
       "      <th>85396</th>\n",
       "      <td>0.830661</td>\n",
       "      <td>0.244749</td>\n",
       "      <td>0.173896</td>\n",
       "      <td>-0.445313</td>\n",
       "      <td>0.147126</td>\n",
       "      <td>0.048956</td>\n",
       "      <td>0.076184</td>\n",
       "      <td>0.249707</td>\n",
       "      <td>0.058133</td>\n",
       "      <td>0.056414</td>\n",
       "      <td>0.060107</td>\n",
       "      <td>0.010232</td>\n",
       "      <td>-0.284029</td>\n",
       "      <td>0.006937</td>\n",
       "    </tr>\n",
       "    <tr>\n",
       "      <th>85397</th>\n",
       "      <td>0.830661</td>\n",
       "      <td>0.244749</td>\n",
       "      <td>0.173896</td>\n",
       "      <td>-0.445313</td>\n",
       "      <td>0.147126</td>\n",
       "      <td>0.048956</td>\n",
       "      <td>0.076184</td>\n",
       "      <td>0.249707</td>\n",
       "      <td>0.058133</td>\n",
       "      <td>0.056414</td>\n",
       "      <td>0.060107</td>\n",
       "      <td>0.010232</td>\n",
       "      <td>-0.284029</td>\n",
       "      <td>0.006937</td>\n",
       "    </tr>\n",
       "    <tr>\n",
       "      <th>85398</th>\n",
       "      <td>0.830661</td>\n",
       "      <td>0.244751</td>\n",
       "      <td>0.173897</td>\n",
       "      <td>-0.445317</td>\n",
       "      <td>0.147132</td>\n",
       "      <td>0.048965</td>\n",
       "      <td>0.076186</td>\n",
       "      <td>0.249708</td>\n",
       "      <td>0.058136</td>\n",
       "      <td>0.056419</td>\n",
       "      <td>0.060111</td>\n",
       "      <td>0.010232</td>\n",
       "      <td>-0.284029</td>\n",
       "      <td>0.006937</td>\n",
       "    </tr>\n",
       "    <tr>\n",
       "      <th>85399</th>\n",
       "      <td>0.830661</td>\n",
       "      <td>0.244751</td>\n",
       "      <td>0.173897</td>\n",
       "      <td>-0.445317</td>\n",
       "      <td>0.147132</td>\n",
       "      <td>0.048965</td>\n",
       "      <td>0.076186</td>\n",
       "      <td>0.249708</td>\n",
       "      <td>0.058136</td>\n",
       "      <td>0.056419</td>\n",
       "      <td>0.060111</td>\n",
       "      <td>0.010232</td>\n",
       "      <td>-0.284029</td>\n",
       "      <td>0.006937</td>\n",
       "    </tr>\n",
       "  </tbody>\n",
       "</table>\n",
       "<p>85400 rows × 14 columns</p>\n",
       "</div>"
      ],
      "text/plain": [
       "       CubFlex-L  CubFlex-R  CubPron-L  CubPron-R  HumFlex-L  HumFlex-R  \\\n",
       "0       0.730050   0.070407   0.144120  -0.401223   0.141051   0.051520   \n",
       "1       0.730050   0.070407   0.144120  -0.401223   0.141051   0.051520   \n",
       "2       0.730056   0.070419   0.144118  -0.401227   0.141038   0.051504   \n",
       "3       0.730056   0.070419   0.144118  -0.401227   0.141038   0.051504   \n",
       "4       0.730061   0.070426   0.144116  -0.401231   0.141024   0.051490   \n",
       "...          ...        ...        ...        ...        ...        ...   \n",
       "85395   0.830667   0.244747   0.173894  -0.445309   0.147121   0.048947   \n",
       "85396   0.830661   0.244749   0.173896  -0.445313   0.147126   0.048956   \n",
       "85397   0.830661   0.244749   0.173896  -0.445313   0.147126   0.048956   \n",
       "85398   0.830661   0.244751   0.173897  -0.445317   0.147132   0.048965   \n",
       "85399   0.830661   0.244751   0.173897  -0.445317   0.147132   0.048965   \n",
       "\n",
       "       HumPron-L  HumPron-R  HumAdd-L  HumAdd-R  RadFlex-L  RadFlex-R  \\\n",
       "0       0.036381   0.175163  0.045398  0.045570   0.069052  -0.000731   \n",
       "1       0.036381   0.175163  0.045398  0.045570   0.069052  -0.000731   \n",
       "2       0.036381   0.175169  0.045396  0.045563   0.069049  -0.000732   \n",
       "3       0.036381   0.175169  0.045396  0.045563   0.069049  -0.000732   \n",
       "4       0.036381   0.175176  0.045393  0.045553   0.069045  -0.000733   \n",
       "...          ...        ...       ...       ...        ...        ...   \n",
       "85395   0.076182   0.249703  0.058130  0.056411   0.060105   0.010230   \n",
       "85396   0.076184   0.249707  0.058133  0.056414   0.060107   0.010232   \n",
       "85397   0.076184   0.249707  0.058133  0.056414   0.060107   0.010232   \n",
       "85398   0.076186   0.249708  0.058136  0.056419   0.060111   0.010232   \n",
       "85399   0.076186   0.249708  0.058136  0.056419   0.060111   0.010232   \n",
       "\n",
       "       RadAdd-L  RadAdd-R  \n",
       "0     -0.209664  0.008394  \n",
       "1     -0.209664  0.008394  \n",
       "2     -0.209667  0.008393  \n",
       "3     -0.209667  0.008393  \n",
       "4     -0.209671  0.008391  \n",
       "...         ...       ...  \n",
       "85395 -0.284029  0.006933  \n",
       "85396 -0.284029  0.006937  \n",
       "85397 -0.284029  0.006937  \n",
       "85398 -0.284029  0.006937  \n",
       "85399 -0.284029  0.006937  \n",
       "\n",
       "[85400 rows x 14 columns]"
      ]
     },
     "execution_count": 5,
     "metadata": {},
     "output_type": "execute_result"
    }
   ],
   "source": [
    "# Перемещение 4х прогнозируемых колонок вперед (локтевой сустав)\n",
    "# Обозначения:\n",
    "# L / R - левая и правая рука\n",
    "# CubFlex / CubPron- локтевое сгибание / пронация\n",
    "# HumFlex / HumPron / HumAdd - плечевое сгибание / пронация / приведение\n",
    "# RadFlex / RadAdd - лучезапястное сгибание / приведение\n",
    "tmp_test_df = pd.DataFrame({\n",
    "                            'CubFlex-L': test_df['CubFlex-L'] / 180, 'CubFlex-R': test_df['CubFlex-R'] / 180,\n",
    "                            'CubPron-L': test_df['CubPron-L'] / 180, 'CubPron-R': test_df['CubPron-R'] / 180,\n",
    "                            'HumFlex-L': test_df['HumFlex-L'] / 180, 'HumFlex-R': test_df['HumFlex-R'] / 180,\n",
    "                            'HumPron-L': test_df['HumPron-L'] / 180, 'HumPron-R': test_df['HumPron-R'] / 180,\n",
    "                            'HumAdd-L': test_df['HumAdd-L'] / 180, 'HumAdd-R': test_df['HumAdd-R'] / 180,\n",
    "                            'RadFlex-L': test_df['RadFlex-L'] / 180, 'RadFlex-R': test_df['RadFlex-R'] / 180,\n",
    "                            'RadAdd-L': test_df['RadAdd-L'] / 180, 'RadAdd-R': test_df['RadAdd-R'] / 180,\n",
    "                             })\n",
    "\n",
    "output_df = tmp_test_df.loc[:, 'CubFlex-L' : 'CubPron-R']\n",
    "input_df = tmp_test_df.loc[:, 'HumFlex-L' : 'RadAdd-R']\n",
    "# Нормализованный датасет\n",
    "tmp_test_df"
   ]
  },
  {
   "cell_type": "code",
   "execution_count": 7,
   "metadata": {},
   "outputs": [],
   "source": [
    "WINDOW_SIZE = 20\n",
    "# Структура входных и выходных данных (для window_size=20)\n",
    "# 0, 1, ... - индекс строки в df\n",
    "# [0:3] - Срез по индексам прогнозируемых колонок\n",
    "#        X - входные данные        |   y  - выходные данные             \n",
    "# [                                | [\n",
    "#   [[0], [1], [2], ..., [19]],    |  [20[0:3]]\n",
    "#   [[1], [2], [3], ..., [20]],    |  [21[0:3]]\n",
    "#   [[2], [3], [4], ..., [21]],    |  [22[0:3]]\n",
    "#   ...                            |  ...\n",
    "#   [[85379],[85380],...,[85398]], |  [85399[0:3]]\n",
    "# ]                                | ]\n",
    "\n",
    "def df_to_X(df, window_size = WINDOW_SIZE):\n",
    "  df_as_np = df.to_numpy()\n",
    "  X = []\n",
    "  for i in range(len(df_as_np)-window_size):\n",
    "    row = np.array([r for r in df_as_np[i:i+window_size]])\n",
    "\n",
    "    if np.isnan(row).any():\n",
    "      print(row)\n",
    "      continue\n",
    "    X.append(row)\n",
    "  return np.array(X)\n",
    "\n",
    "def df_to_y(df, window_size = WINDOW_SIZE):\n",
    "  df_as_np = df.to_numpy()\n",
    "  y = []\n",
    "  for i in range(len(df_as_np)-window_size):\n",
    "    label = []\n",
    "    for j in range(len(output_df.axes[1])):\n",
    "      label.append(df_as_np[i+window_size][j])\n",
    "    y.append(label)\n",
    "  return np.array(y)"
   ]
  },
  {
   "cell_type": "code",
   "execution_count": 8,
   "metadata": {},
   "outputs": [
    {
     "data": {
      "text/plain": [
       "((85380, 20, 14), (85380, 4))"
      ]
     },
     "execution_count": 8,
     "metadata": {},
     "output_type": "execute_result"
    }
   ],
   "source": [
    "X, y = df_to_X(tmp_test_df), df_to_y(output_df)\n",
    "X.shape, y.shape"
   ]
  },
  {
   "cell_type": "markdown",
   "metadata": {},
   "source": [
    "### Разбиение на training, validation and test dataset"
   ]
  },
  {
   "cell_type": "code",
   "execution_count": 9,
   "metadata": {},
   "outputs": [],
   "source": [
    "def splitToTrainValTest(X, y):\n",
    "    X_train, y_train = X[:55000], y[:55000] # Было :60-60:70-70: стало 80%()\n",
    "    X_val, y_val = X[55000:75000], y[55000:75000]\n",
    "    X_test, y_test = X[75000:], y[75000:]\n",
    "    print(\"Train:\\n\\t{}\\n\\t{}\\nValidation:\\n\\t{}\\n\\t{}\\nTest:\\n\\t{}\\n\\t{}\".format(X_train.shape,  y_train.shape, X_val.shape, y_val.shape, X_test.shape, y_test.shape))\n",
    "    return X_train, y_train, X_val, y_val, X_test, y_test"
   ]
  },
  {
   "cell_type": "code",
   "execution_count": 10,
   "metadata": {},
   "outputs": [
    {
     "name": "stdout",
     "output_type": "stream",
     "text": [
      "Train:\n",
      "\t(55000, 20, 14)\n",
      "\t(55000, 4)\n",
      "Validation:\n",
      "\t(20000, 20, 14)\n",
      "\t(20000, 4)\n",
      "Test:\n",
      "\t(10380, 20, 14)\n",
      "\t(10380, 4)\n"
     ]
    }
   ],
   "source": [
    "X_train, y_train, X_val, y_val, X_test, y_test = splitToTrainValTest(X, y)"
   ]
  },
  {
   "cell_type": "markdown",
   "metadata": {},
   "source": [
    "### Отображение графиков результатов и расчет RMSE"
   ]
  },
  {
   "cell_type": "code",
   "execution_count": 11,
   "metadata": {},
   "outputs": [],
   "source": [
    "def plot_predictions(predictions, actuals_y, start, end, isNormalized=False):\n",
    "  CubFlexL_preds, CubFlexR_preds, CubPronL_preds, CubPronR_preds = predictions[:, 0], predictions[:, 1], predictions[:, 2], predictions[:, 3]\n",
    "  CubFlexL_actuals, CubFlexR_actuals, CubPronL_actuals, CubPronR_actuals = actuals_y[:, 0], actuals_y[:, 1], actuals_y[:, 2], actuals_y[:, 3],\n",
    "  df = pd.DataFrame(data={'CubFlex-L Predictions': CubFlexL_preds,\n",
    "                          'CubFlex-L Actuals':CubFlexL_actuals,\n",
    "                          'CubFlex-R Predictions': CubFlexR_preds,\n",
    "                          'CubFlex-R Actuals':CubFlexR_actuals,\n",
    "                          'CubPron-L Predictions': CubPronL_preds,\n",
    "                          'CubPron-L Actuals':CubPronL_actuals,\n",
    "                          'CubPron-R Predictions': CubPronR_preds,\n",
    "                          'CubPron-R Actuals':CubPronR_actuals,\n",
    "                          })\n",
    "  fig = plt.figure(figsize=[12, 7])\n",
    "  plt.subplot(2, 2, 1)\n",
    "  plt.grid()\n",
    "  plt.title('Локтевое сгибание-L')\n",
    "  plt.xlabel('№ временного шага')\n",
    "  if (isNormalized):\n",
    "    plt.ylabel('Нормализованный суставной угол')\n",
    "  else:\n",
    "    plt.ylabel('Суставной угол в градусах')\n",
    "  l1 = plt.plot(df['CubFlex-L Predictions'][start:end], 'r--')\n",
    "  l2 = plt.plot(df['CubFlex-L Actuals'][start:end], 'green')\n",
    "\n",
    "  plt.subplot(2, 2, 2)\n",
    "  plt.grid()\n",
    "\n",
    "  plt.title('Локтевое сгибание-R')\n",
    "  plt.xlabel('№ временного шага')\n",
    "  if (isNormalized):\n",
    "    plt.ylabel('Нормализованный суставной угол')\n",
    "  else:\n",
    "    plt.ylabel('Суставной угол в градусах')\n",
    "  plt.plot(df['CubFlex-R Predictions'][start:end], 'r--')\n",
    "  plt.plot(df['CubFlex-R Actuals'][start:end], 'green')\n",
    "  \n",
    "  plt.subplot(2, 2, 3)\n",
    "  plt.grid()\n",
    "  plt.title('Локтевая пронация-L')\n",
    "  plt.xlabel('№ временного шага')\n",
    "  if (isNormalized):\n",
    "    plt.ylabel('Нормализованный суставной угол')\n",
    "  else:\n",
    "    plt.ylabel('Суставной угол в градусах')\n",
    "  plt.plot(df['CubPron-L Predictions'][start:end], 'r--')\n",
    "  plt.plot(df['CubPron-L Actuals'][start:end], 'green')\n",
    "\n",
    "  plt.subplot(2, 2, 4)\n",
    "  plt.grid()\n",
    "  plt.title('Локтевая пронация-R')\n",
    "  plt.xlabel('№ временного шага')\n",
    "  if (isNormalized):\n",
    "    plt.ylabel('Нормализованный суставной угол')\n",
    "  else:\n",
    "    plt.ylabel('Суставной угол в градусах')\n",
    "  plt.plot(df['CubPron-R Predictions'][start:end], 'r--',)\n",
    "  plt.plot(df['CubPron-R Actuals'][start:end], 'green')\n",
    "\n",
    "  plt.subplots_adjust( hspace=0.4)\n",
    "  fig.legend([l1, l2], labels=['Прогнозируемые значения', 'Истинные значения'], loc=\"center\")\n",
    "  \n",
    "  return df"
   ]
  },
  {
   "cell_type": "code",
   "execution_count": 12,
   "metadata": {},
   "outputs": [],
   "source": [
    "def rmse(predictions, actuals):\n",
    "    return np.sqrt(((predictions - actuals) ** 2).mean())"
   ]
  },
  {
   "cell_type": "markdown",
   "metadata": {},
   "source": [
    "### Объявление функции Predict по нормализованным X_test"
   ]
  },
  {
   "cell_type": "code",
   "execution_count": 20,
   "metadata": {},
   "outputs": [],
   "source": [
    "def get_normalized_predictions(model, X_normalized):\n",
    "    normalized_predictions = model.predict(X_normalized)\n",
    "    return normalized_predictions"
   ]
  },
  {
   "cell_type": "markdown",
   "metadata": {},
   "source": [
    "### Модель 180"
   ]
  },
  {
   "cell_type": "code",
   "execution_count": 13,
   "metadata": {},
   "outputs": [
    {
     "name": "stdout",
     "output_type": "stream",
     "text": [
      "Model: \"sequential\"\n",
      "_________________________________________________________________\n",
      " Layer (type)                Output Shape              Param #   \n",
      "=================================================================\n",
      " lstm (LSTM)                 (None, 128)               73216     \n",
      "                                                                 \n",
      " dropout (Dropout)           (None, 128)               0         \n",
      "                                                                 \n",
      " dense (Dense)               (None, 16)                2064      \n",
      "                                                                 \n",
      " dense_1 (Dense)             (None, 4)                 68        \n",
      "                                                                 \n",
      "=================================================================\n",
      "Total params: 75,348\n",
      "Trainable params: 75,348\n",
      "Non-trainable params: 0\n",
      "_________________________________________________________________\n"
     ]
    }
   ],
   "source": [
    "model_180 = Sequential() # создаёт последовательную модель с пошаговым добавлением слоёв в неё\n",
    "model_180.add(InputLayer((WINDOW_SIZE, 14)))\n",
    "model_180.add(LSTM(128))\n",
    "model_180.add(Dropout(0.5)) # помогает избавиться от переобучения модели.\n",
    "# Таким образом, некоторые нейроны становятся равными 0, и это сокращает вычисления в процессе обучения.\n",
    "\n",
    "# Dense - является самым необходимым и базовым.\n",
    "# отвечает за соединение нейронов из предыдущего и следующего слоя.\n",
    "# Например, если первый слой имеет 5 нейронов, а второй 3, то общее количество соединений между слоями будет равно 15.\n",
    "# отвечает за эти соединения, и у него есть настраиваемые гиперпараметры: количество нейронов, тип активации, инициализация типа ядра.\n",
    "model_180.add(Dense(16, 'relu'))\n",
    "model_180.add(Dense(4, 'linear'))\n",
    "\n",
    "model_180.summary()"
   ]
  },
  {
   "cell_type": "code",
   "execution_count": 14,
   "metadata": {},
   "outputs": [],
   "source": [
    "cp_180 = ModelCheckpoint('model_180/{epoch:02d}-{val_loss:.4f}', save_best_only=True)\n",
    "model_180.compile(loss=MeanSquaredError(), optimizer=Adam(learning_rate=0.0001), metrics=[RootMeanSquaredError()])"
   ]
  },
  {
   "cell_type": "code",
   "execution_count": 15,
   "metadata": {},
   "outputs": [
    {
     "name": "stdout",
     "output_type": "stream",
     "text": [
      "Epoch 1/70\n",
      "1719/1719 [==============================] - ETA: 0s - loss: 0.0078 - root_mean_squared_error: 0.0884"
     ]
    },
    {
     "name": "stderr",
     "output_type": "stream",
     "text": [
      "WARNING:absl:Found untraced functions such as lstm_cell_layer_call_fn, lstm_cell_layer_call_and_return_conditional_losses while saving (showing 2 of 2). These functions will not be directly callable after loading.\n"
     ]
    },
    {
     "name": "stdout",
     "output_type": "stream",
     "text": [
      "INFO:tensorflow:Assets written to: model_180\\01-0.0023\\assets\n"
     ]
    },
    {
     "name": "stderr",
     "output_type": "stream",
     "text": [
      "INFO:tensorflow:Assets written to: model_180\\01-0.0023\\assets\n"
     ]
    },
    {
     "name": "stdout",
     "output_type": "stream",
     "text": [
      "1719/1719 [==============================] - 34s 11ms/step - loss: 0.0078 - root_mean_squared_error: 0.0884 - val_loss: 0.0023 - val_root_mean_squared_error: 0.0484\n",
      "Epoch 2/70\n",
      "1718/1719 [============================>.] - ETA: 0s - loss: 0.0018 - root_mean_squared_error: 0.0428"
     ]
    },
    {
     "name": "stderr",
     "output_type": "stream",
     "text": [
      "WARNING:absl:Found untraced functions such as lstm_cell_layer_call_fn, lstm_cell_layer_call_and_return_conditional_losses while saving (showing 2 of 2). These functions will not be directly callable after loading.\n"
     ]
    },
    {
     "name": "stdout",
     "output_type": "stream",
     "text": [
      "INFO:tensorflow:Assets written to: model_180\\02-0.0021\\assets\n"
     ]
    },
    {
     "name": "stderr",
     "output_type": "stream",
     "text": [
      "INFO:tensorflow:Assets written to: model_180\\02-0.0021\\assets\n"
     ]
    },
    {
     "name": "stdout",
     "output_type": "stream",
     "text": [
      "1719/1719 [==============================] - 19s 11ms/step - loss: 0.0018 - root_mean_squared_error: 0.0428 - val_loss: 0.0021 - val_root_mean_squared_error: 0.0460\n",
      "Epoch 3/70\n",
      "1715/1719 [============================>.] - ETA: 0s - loss: 0.0010 - root_mean_squared_error: 0.0324"
     ]
    },
    {
     "name": "stderr",
     "output_type": "stream",
     "text": [
      "WARNING:absl:Found untraced functions such as lstm_cell_layer_call_fn, lstm_cell_layer_call_and_return_conditional_losses while saving (showing 2 of 2). These functions will not be directly callable after loading.\n"
     ]
    },
    {
     "name": "stdout",
     "output_type": "stream",
     "text": [
      "INFO:tensorflow:Assets written to: model_180\\03-0.0017\\assets\n"
     ]
    },
    {
     "name": "stderr",
     "output_type": "stream",
     "text": [
      "INFO:tensorflow:Assets written to: model_180\\03-0.0017\\assets\n"
     ]
    },
    {
     "name": "stdout",
     "output_type": "stream",
     "text": [
      "1719/1719 [==============================] - 18s 11ms/step - loss: 0.0010 - root_mean_squared_error: 0.0323 - val_loss: 0.0017 - val_root_mean_squared_error: 0.0411\n",
      "Epoch 4/70\n",
      "1716/1719 [============================>.] - ETA: 0s - loss: 5.1919e-04 - root_mean_squared_error: 0.0228"
     ]
    },
    {
     "name": "stderr",
     "output_type": "stream",
     "text": [
      "WARNING:absl:Found untraced functions such as lstm_cell_layer_call_fn, lstm_cell_layer_call_and_return_conditional_losses while saving (showing 2 of 2). These functions will not be directly callable after loading.\n"
     ]
    },
    {
     "name": "stdout",
     "output_type": "stream",
     "text": [
      "INFO:tensorflow:Assets written to: model_180\\04-0.0016\\assets\n"
     ]
    },
    {
     "name": "stderr",
     "output_type": "stream",
     "text": [
      "INFO:tensorflow:Assets written to: model_180\\04-0.0016\\assets\n"
     ]
    },
    {
     "name": "stdout",
     "output_type": "stream",
     "text": [
      "1719/1719 [==============================] - 18s 10ms/step - loss: 5.1885e-04 - root_mean_squared_error: 0.0228 - val_loss: 0.0016 - val_root_mean_squared_error: 0.0399\n",
      "Epoch 5/70\n",
      "1713/1719 [============================>.] - ETA: 0s - loss: 2.3287e-04 - root_mean_squared_error: 0.0153"
     ]
    },
    {
     "name": "stderr",
     "output_type": "stream",
     "text": [
      "WARNING:absl:Found untraced functions such as lstm_cell_layer_call_fn, lstm_cell_layer_call_and_return_conditional_losses while saving (showing 2 of 2). These functions will not be directly callable after loading.\n"
     ]
    },
    {
     "name": "stdout",
     "output_type": "stream",
     "text": [
      "INFO:tensorflow:Assets written to: model_180\\05-0.0010\\assets\n"
     ]
    },
    {
     "name": "stderr",
     "output_type": "stream",
     "text": [
      "INFO:tensorflow:Assets written to: model_180\\05-0.0010\\assets\n"
     ]
    },
    {
     "name": "stdout",
     "output_type": "stream",
     "text": [
      "1719/1719 [==============================] - 18s 11ms/step - loss: 2.3268e-04 - root_mean_squared_error: 0.0153 - val_loss: 0.0010 - val_root_mean_squared_error: 0.0320\n",
      "Epoch 6/70\n",
      "1713/1719 [============================>.] - ETA: 0s - loss: 1.0526e-04 - root_mean_squared_error: 0.0103"
     ]
    },
    {
     "name": "stderr",
     "output_type": "stream",
     "text": [
      "WARNING:absl:Found untraced functions such as lstm_cell_layer_call_fn, lstm_cell_layer_call_and_return_conditional_losses while saving (showing 2 of 2). These functions will not be directly callable after loading.\n"
     ]
    },
    {
     "name": "stdout",
     "output_type": "stream",
     "text": [
      "INFO:tensorflow:Assets written to: model_180\\06-0.0002\\assets\n"
     ]
    },
    {
     "name": "stderr",
     "output_type": "stream",
     "text": [
      "INFO:tensorflow:Assets written to: model_180\\06-0.0002\\assets\n"
     ]
    },
    {
     "name": "stdout",
     "output_type": "stream",
     "text": [
      "1719/1719 [==============================] - 19s 11ms/step - loss: 1.0513e-04 - root_mean_squared_error: 0.0103 - val_loss: 2.3446e-04 - val_root_mean_squared_error: 0.0153\n",
      "Epoch 7/70\n",
      "1713/1719 [============================>.] - ETA: 0s - loss: 5.4490e-05 - root_mean_squared_error: 0.0074"
     ]
    },
    {
     "name": "stderr",
     "output_type": "stream",
     "text": [
      "WARNING:absl:Found untraced functions such as lstm_cell_layer_call_fn, lstm_cell_layer_call_and_return_conditional_losses while saving (showing 2 of 2). These functions will not be directly callable after loading.\n"
     ]
    },
    {
     "name": "stdout",
     "output_type": "stream",
     "text": [
      "INFO:tensorflow:Assets written to: model_180\\07-0.0001\\assets\n"
     ]
    },
    {
     "name": "stderr",
     "output_type": "stream",
     "text": [
      "INFO:tensorflow:Assets written to: model_180\\07-0.0001\\assets\n"
     ]
    },
    {
     "name": "stdout",
     "output_type": "stream",
     "text": [
      "1719/1719 [==============================] - 18s 10ms/step - loss: 5.4457e-05 - root_mean_squared_error: 0.0074 - val_loss: 1.4677e-04 - val_root_mean_squared_error: 0.0121\n",
      "Epoch 8/70\n",
      "1711/1719 [============================>.] - ETA: 0s - loss: 4.1347e-05 - root_mean_squared_error: 0.0064"
     ]
    },
    {
     "name": "stderr",
     "output_type": "stream",
     "text": [
      "WARNING:absl:Found untraced functions such as lstm_cell_layer_call_fn, lstm_cell_layer_call_and_return_conditional_losses while saving (showing 2 of 2). These functions will not be directly callable after loading.\n"
     ]
    },
    {
     "name": "stdout",
     "output_type": "stream",
     "text": [
      "INFO:tensorflow:Assets written to: model_180\\08-0.0001\\assets\n"
     ]
    },
    {
     "name": "stderr",
     "output_type": "stream",
     "text": [
      "INFO:tensorflow:Assets written to: model_180\\08-0.0001\\assets\n"
     ]
    },
    {
     "name": "stdout",
     "output_type": "stream",
     "text": [
      "1719/1719 [==============================] - 18s 10ms/step - loss: 4.1331e-05 - root_mean_squared_error: 0.0064 - val_loss: 1.0873e-04 - val_root_mean_squared_error: 0.0104\n",
      "Epoch 9/70\n",
      "1712/1719 [============================>.] - ETA: 0s - loss: 3.6224e-05 - root_mean_squared_error: 0.0060"
     ]
    },
    {
     "name": "stderr",
     "output_type": "stream",
     "text": [
      "WARNING:absl:Found untraced functions such as lstm_cell_layer_call_fn, lstm_cell_layer_call_and_return_conditional_losses while saving (showing 2 of 2). These functions will not be directly callable after loading.\n"
     ]
    },
    {
     "name": "stdout",
     "output_type": "stream",
     "text": [
      "INFO:tensorflow:Assets written to: model_180\\09-0.0001\\assets\n"
     ]
    },
    {
     "name": "stderr",
     "output_type": "stream",
     "text": [
      "INFO:tensorflow:Assets written to: model_180\\09-0.0001\\assets\n"
     ]
    },
    {
     "name": "stdout",
     "output_type": "stream",
     "text": [
      "1719/1719 [==============================] - 17s 10ms/step - loss: 3.6183e-05 - root_mean_squared_error: 0.0060 - val_loss: 9.9089e-05 - val_root_mean_squared_error: 0.0100\n",
      "Epoch 10/70\n",
      "1719/1719 [==============================] - ETA: 0s - loss: 3.3346e-05 - root_mean_squared_error: 0.0058"
     ]
    },
    {
     "name": "stderr",
     "output_type": "stream",
     "text": [
      "WARNING:absl:Found untraced functions such as lstm_cell_layer_call_fn, lstm_cell_layer_call_and_return_conditional_losses while saving (showing 2 of 2). These functions will not be directly callable after loading.\n"
     ]
    },
    {
     "name": "stdout",
     "output_type": "stream",
     "text": [
      "INFO:tensorflow:Assets written to: model_180\\10-0.0001\\assets\n"
     ]
    },
    {
     "name": "stderr",
     "output_type": "stream",
     "text": [
      "INFO:tensorflow:Assets written to: model_180\\10-0.0001\\assets\n"
     ]
    },
    {
     "name": "stdout",
     "output_type": "stream",
     "text": [
      "1719/1719 [==============================] - 16s 10ms/step - loss: 3.3346e-05 - root_mean_squared_error: 0.0058 - val_loss: 9.3424e-05 - val_root_mean_squared_error: 0.0097\n",
      "Epoch 11/70\n",
      "1719/1719 [==============================] - 13s 7ms/step - loss: 3.0914e-05 - root_mean_squared_error: 0.0056 - val_loss: 1.0918e-04 - val_root_mean_squared_error: 0.0104\n",
      "Epoch 12/70\n",
      "1719/1719 [==============================] - 14s 8ms/step - loss: 2.9317e-05 - root_mean_squared_error: 0.0054 - val_loss: 1.2252e-04 - val_root_mean_squared_error: 0.0111\n",
      "Epoch 13/70\n",
      "1719/1719 [==============================] - 14s 8ms/step - loss: 2.8367e-05 - root_mean_squared_error: 0.0053 - val_loss: 1.1847e-04 - val_root_mean_squared_error: 0.0109\n",
      "Epoch 14/70\n",
      "1719/1719 [==============================] - 14s 8ms/step - loss: 2.7350e-05 - root_mean_squared_error: 0.0052 - val_loss: 1.5605e-04 - val_root_mean_squared_error: 0.0125\n",
      "Epoch 15/70\n",
      "1719/1719 [==============================] - 13s 8ms/step - loss: 2.5861e-05 - root_mean_squared_error: 0.0051 - val_loss: 1.8309e-04 - val_root_mean_squared_error: 0.0135\n",
      "Epoch 16/70\n",
      "1719/1719 [==============================] - 14s 8ms/step - loss: 2.5062e-05 - root_mean_squared_error: 0.0050 - val_loss: 2.4868e-04 - val_root_mean_squared_error: 0.0158\n",
      "Epoch 17/70\n",
      "1719/1719 [==============================] - 14s 8ms/step - loss: 2.3858e-05 - root_mean_squared_error: 0.0049 - val_loss: 2.4754e-04 - val_root_mean_squared_error: 0.0157\n",
      "Epoch 18/70\n",
      "1719/1719 [==============================] - 13s 8ms/step - loss: 2.2835e-05 - root_mean_squared_error: 0.0048 - val_loss: 2.3624e-04 - val_root_mean_squared_error: 0.0154\n",
      "Epoch 19/70\n",
      "1719/1719 [==============================] - 13s 8ms/step - loss: 2.2071e-05 - root_mean_squared_error: 0.0047 - val_loss: 3.3022e-04 - val_root_mean_squared_error: 0.0182\n",
      "Epoch 20/70\n",
      "1719/1719 [==============================] - 13s 8ms/step - loss: 2.0970e-05 - root_mean_squared_error: 0.0046 - val_loss: 3.0722e-04 - val_root_mean_squared_error: 0.0175\n",
      "Epoch 21/70\n",
      "1719/1719 [==============================] - 13s 8ms/step - loss: 2.0069e-05 - root_mean_squared_error: 0.0045 - val_loss: 2.9396e-04 - val_root_mean_squared_error: 0.0171\n",
      "Epoch 22/70\n",
      "1719/1719 [==============================] - 13s 8ms/step - loss: 1.9231e-05 - root_mean_squared_error: 0.0044 - val_loss: 4.3080e-04 - val_root_mean_squared_error: 0.0208\n",
      "Epoch 23/70\n",
      "1719/1719 [==============================] - 13s 8ms/step - loss: 1.8752e-05 - root_mean_squared_error: 0.0043 - val_loss: 4.6818e-04 - val_root_mean_squared_error: 0.0216\n",
      "Epoch 24/70\n",
      "1719/1719 [==============================] - 13s 8ms/step - loss: 1.8417e-05 - root_mean_squared_error: 0.0043 - val_loss: 4.9441e-04 - val_root_mean_squared_error: 0.0222\n",
      "Epoch 25/70\n",
      "1719/1719 [==============================] - 13s 8ms/step - loss: 1.7904e-05 - root_mean_squared_error: 0.0042 - val_loss: 5.5776e-04 - val_root_mean_squared_error: 0.0236\n",
      "Epoch 26/70\n",
      "1719/1719 [==============================] - 14s 8ms/step - loss: 1.7283e-05 - root_mean_squared_error: 0.0042 - val_loss: 6.0385e-04 - val_root_mean_squared_error: 0.0246\n",
      "Epoch 27/70\n",
      "1719/1719 [==============================] - 13s 8ms/step - loss: 1.7040e-05 - root_mean_squared_error: 0.0041 - val_loss: 6.0688e-04 - val_root_mean_squared_error: 0.0246\n",
      "Epoch 28/70\n",
      "1719/1719 [==============================] - 13s 8ms/step - loss: 1.6735e-05 - root_mean_squared_error: 0.0041 - val_loss: 5.2251e-04 - val_root_mean_squared_error: 0.0229\n",
      "Epoch 29/70\n",
      "1719/1719 [==============================] - 13s 8ms/step - loss: 1.6448e-05 - root_mean_squared_error: 0.0041 - val_loss: 6.5514e-04 - val_root_mean_squared_error: 0.0256\n",
      "Epoch 30/70\n",
      "1719/1719 [==============================] - 13s 8ms/step - loss: 1.6443e-05 - root_mean_squared_error: 0.0041 - val_loss: 6.0437e-04 - val_root_mean_squared_error: 0.0246\n",
      "Epoch 31/70\n",
      "1719/1719 [==============================] - 13s 8ms/step - loss: 1.6173e-05 - root_mean_squared_error: 0.0040 - val_loss: 6.1199e-04 - val_root_mean_squared_error: 0.0247\n",
      "Epoch 32/70\n",
      "1719/1719 [==============================] - 14s 8ms/step - loss: 1.6059e-05 - root_mean_squared_error: 0.0040 - val_loss: 5.7748e-04 - val_root_mean_squared_error: 0.0240\n",
      "Epoch 33/70\n",
      "1719/1719 [==============================] - 13s 8ms/step - loss: 1.5729e-05 - root_mean_squared_error: 0.0040 - val_loss: 6.2254e-04 - val_root_mean_squared_error: 0.0250\n",
      "Epoch 34/70\n",
      "1719/1719 [==============================] - 14s 8ms/step - loss: 1.5666e-05 - root_mean_squared_error: 0.0040 - val_loss: 6.6204e-04 - val_root_mean_squared_error: 0.0257\n",
      "Epoch 35/70\n",
      "1719/1719 [==============================] - 13s 8ms/step - loss: 1.5359e-05 - root_mean_squared_error: 0.0039 - val_loss: 5.8478e-04 - val_root_mean_squared_error: 0.0242\n",
      "Epoch 36/70\n",
      "1719/1719 [==============================] - 13s 8ms/step - loss: 1.5411e-05 - root_mean_squared_error: 0.0039 - val_loss: 6.2337e-04 - val_root_mean_squared_error: 0.0250\n",
      "Epoch 37/70\n",
      "1719/1719 [==============================] - 13s 8ms/step - loss: 1.5084e-05 - root_mean_squared_error: 0.0039 - val_loss: 7.1726e-04 - val_root_mean_squared_error: 0.0268\n",
      "Epoch 38/70\n",
      "1719/1719 [==============================] - 13s 8ms/step - loss: 1.4994e-05 - root_mean_squared_error: 0.0039 - val_loss: 7.2248e-04 - val_root_mean_squared_error: 0.0269\n",
      "Epoch 39/70\n",
      "1719/1719 [==============================] - 14s 8ms/step - loss: 1.4893e-05 - root_mean_squared_error: 0.0039 - val_loss: 6.8391e-04 - val_root_mean_squared_error: 0.0262\n",
      "Epoch 40/70\n",
      "1719/1719 [==============================] - 14s 8ms/step - loss: 1.4719e-05 - root_mean_squared_error: 0.0038 - val_loss: 7.3069e-04 - val_root_mean_squared_error: 0.0270\n",
      "Epoch 41/70\n",
      "1719/1719 [==============================] - 14s 8ms/step - loss: 1.4720e-05 - root_mean_squared_error: 0.0038 - val_loss: 6.3912e-04 - val_root_mean_squared_error: 0.0253\n",
      "Epoch 42/70\n",
      "1719/1719 [==============================] - 14s 8ms/step - loss: 1.4606e-05 - root_mean_squared_error: 0.0038 - val_loss: 5.7502e-04 - val_root_mean_squared_error: 0.0240\n",
      "Epoch 43/70\n",
      "1719/1719 [==============================] - 14s 8ms/step - loss: 1.4246e-05 - root_mean_squared_error: 0.0038 - val_loss: 6.6383e-04 - val_root_mean_squared_error: 0.0258\n",
      "Epoch 44/70\n",
      "1719/1719 [==============================] - 14s 8ms/step - loss: 1.4351e-05 - root_mean_squared_error: 0.0038 - val_loss: 7.3869e-04 - val_root_mean_squared_error: 0.0272\n",
      "Epoch 45/70\n",
      "1719/1719 [==============================] - 12s 7ms/step - loss: 1.4267e-05 - root_mean_squared_error: 0.0038 - val_loss: 6.5218e-04 - val_root_mean_squared_error: 0.0255\n",
      "Epoch 46/70\n",
      "1719/1719 [==============================] - 12s 7ms/step - loss: 1.4138e-05 - root_mean_squared_error: 0.0038 - val_loss: 6.4161e-04 - val_root_mean_squared_error: 0.0253\n",
      "Epoch 47/70\n",
      "1719/1719 [==============================] - 12s 7ms/step - loss: 1.4303e-05 - root_mean_squared_error: 0.0038 - val_loss: 6.7056e-04 - val_root_mean_squared_error: 0.0259\n",
      "Epoch 48/70\n",
      "1719/1719 [==============================] - 13s 8ms/step - loss: 1.4049e-05 - root_mean_squared_error: 0.0037 - val_loss: 6.9408e-04 - val_root_mean_squared_error: 0.0263\n",
      "Epoch 49/70\n",
      "1719/1719 [==============================] - 13s 7ms/step - loss: 1.3801e-05 - root_mean_squared_error: 0.0037 - val_loss: 7.0698e-04 - val_root_mean_squared_error: 0.0266\n",
      "Epoch 50/70\n",
      "1719/1719 [==============================] - 13s 7ms/step - loss: 1.3957e-05 - root_mean_squared_error: 0.0037 - val_loss: 7.3871e-04 - val_root_mean_squared_error: 0.0272\n",
      "Epoch 51/70\n",
      "1719/1719 [==============================] - 13s 7ms/step - loss: 1.3840e-05 - root_mean_squared_error: 0.0037 - val_loss: 6.5554e-04 - val_root_mean_squared_error: 0.0256\n",
      "Epoch 52/70\n",
      "1719/1719 [==============================] - 13s 8ms/step - loss: 1.3708e-05 - root_mean_squared_error: 0.0037 - val_loss: 7.0238e-04 - val_root_mean_squared_error: 0.0265\n",
      "Epoch 53/70\n",
      "1719/1719 [==============================] - 13s 7ms/step - loss: 1.3892e-05 - root_mean_squared_error: 0.0037 - val_loss: 6.8307e-04 - val_root_mean_squared_error: 0.0261\n",
      "Epoch 54/70\n",
      "1719/1719 [==============================] - 13s 8ms/step - loss: 1.3808e-05 - root_mean_squared_error: 0.0037 - val_loss: 7.5059e-04 - val_root_mean_squared_error: 0.0274\n",
      "Epoch 55/70\n",
      "1719/1719 [==============================] - 14s 8ms/step - loss: 1.3923e-05 - root_mean_squared_error: 0.0037 - val_loss: 8.0718e-04 - val_root_mean_squared_error: 0.0284\n",
      "Epoch 56/70\n",
      "1719/1719 [==============================] - 13s 8ms/step - loss: 1.3603e-05 - root_mean_squared_error: 0.0037 - val_loss: 7.2175e-04 - val_root_mean_squared_error: 0.0269\n",
      "Epoch 57/70\n",
      "1719/1719 [==============================] - 16s 9ms/step - loss: 1.3474e-05 - root_mean_squared_error: 0.0037 - val_loss: 6.8790e-04 - val_root_mean_squared_error: 0.0262\n",
      "Epoch 58/70\n",
      "1719/1719 [==============================] - 17s 10ms/step - loss: 1.3438e-05 - root_mean_squared_error: 0.0037 - val_loss: 7.0508e-04 - val_root_mean_squared_error: 0.0266\n",
      "Epoch 59/70\n",
      "1719/1719 [==============================] - 15s 9ms/step - loss: 1.3415e-05 - root_mean_squared_error: 0.0037 - val_loss: 7.4562e-04 - val_root_mean_squared_error: 0.0273\n",
      "Epoch 60/70\n",
      "1719/1719 [==============================] - 16s 9ms/step - loss: 1.3332e-05 - root_mean_squared_error: 0.0037 - val_loss: 6.1267e-04 - val_root_mean_squared_error: 0.0248\n",
      "Epoch 61/70\n",
      "1719/1719 [==============================] - 16s 9ms/step - loss: 1.3304e-05 - root_mean_squared_error: 0.0036 - val_loss: 5.0654e-04 - val_root_mean_squared_error: 0.0225\n",
      "Epoch 62/70\n",
      "1719/1719 [==============================] - 14s 8ms/step - loss: 1.3197e-05 - root_mean_squared_error: 0.0036 - val_loss: 6.5403e-04 - val_root_mean_squared_error: 0.0256\n",
      "Epoch 63/70\n",
      "1719/1719 [==============================] - 14s 8ms/step - loss: 1.3200e-05 - root_mean_squared_error: 0.0036 - val_loss: 7.0675e-04 - val_root_mean_squared_error: 0.0266\n",
      "Epoch 64/70\n",
      "1719/1719 [==============================] - 16s 9ms/step - loss: 1.3116e-05 - root_mean_squared_error: 0.0036 - val_loss: 6.2972e-04 - val_root_mean_squared_error: 0.0251\n",
      "Epoch 65/70\n",
      "1719/1719 [==============================] - 17s 10ms/step - loss: 1.3194e-05 - root_mean_squared_error: 0.0036 - val_loss: 6.1851e-04 - val_root_mean_squared_error: 0.0249\n",
      "Epoch 66/70\n",
      "1719/1719 [==============================] - 13s 8ms/step - loss: 1.3069e-05 - root_mean_squared_error: 0.0036 - val_loss: 7.4584e-04 - val_root_mean_squared_error: 0.0273\n",
      "Epoch 67/70\n",
      "1719/1719 [==============================] - 13s 8ms/step - loss: 1.3026e-05 - root_mean_squared_error: 0.0036 - val_loss: 6.3524e-04 - val_root_mean_squared_error: 0.0252\n",
      "Epoch 68/70\n",
      "1719/1719 [==============================] - 16s 9ms/step - loss: 1.3104e-05 - root_mean_squared_error: 0.0036 - val_loss: 6.0884e-04 - val_root_mean_squared_error: 0.0247\n",
      "Epoch 69/70\n",
      "1719/1719 [==============================] - 15s 9ms/step - loss: 1.3018e-05 - root_mean_squared_error: 0.0036 - val_loss: 6.2005e-04 - val_root_mean_squared_error: 0.0249\n",
      "Epoch 70/70\n",
      "1719/1719 [==============================] - 14s 8ms/step - loss: 1.2943e-05 - root_mean_squared_error: 0.0036 - val_loss: 6.0992e-04 - val_root_mean_squared_error: 0.0247\n"
     ]
    }
   ],
   "source": [
    "history_object_180 = model_180.fit(X_train, y_train, validation_data=(X_val, y_val), epochs=70, callbacks=[cp_180], batch_size=32)"
   ]
  },
  {
   "cell_type": "markdown",
   "metadata": {},
   "source": [
    "### Сохранение History Object после обучения"
   ]
  },
  {
   "cell_type": "code",
   "execution_count": 16,
   "metadata": {},
   "outputs": [],
   "source": [
    "# convert the history.history dict to a pandas DataFrame:     \n",
    "hist_df = pd.DataFrame(history_object_180.history)  \n",
    "\n",
    "# save to csv: \n",
    "hist_csv_file = 'history_180.csv'\n",
    "with open(hist_csv_file, mode='w') as f:\n",
    "    hist_df.to_csv(f)"
   ]
  },
  {
   "cell_type": "markdown",
   "metadata": {},
   "source": [
    "### Загрузка loaded_hist_df обученной 7 модели"
   ]
  },
  {
   "cell_type": "code",
   "execution_count": 66,
   "metadata": {},
   "outputs": [
    {
     "data": {
      "text/html": [
       "<div>\n",
       "<style scoped>\n",
       "    .dataframe tbody tr th:only-of-type {\n",
       "        vertical-align: middle;\n",
       "    }\n",
       "\n",
       "    .dataframe tbody tr th {\n",
       "        vertical-align: top;\n",
       "    }\n",
       "\n",
       "    .dataframe thead th {\n",
       "        text-align: right;\n",
       "    }\n",
       "</style>\n",
       "<table border=\"1\" class=\"dataframe\">\n",
       "  <thead>\n",
       "    <tr style=\"text-align: right;\">\n",
       "      <th></th>\n",
       "      <th>№ эпохи</th>\n",
       "      <th>Train Loss</th>\n",
       "      <th>Train RMSE</th>\n",
       "      <th>Val Loss</th>\n",
       "      <th>Val RMSE</th>\n",
       "    </tr>\n",
       "  </thead>\n",
       "  <tbody>\n",
       "    <tr>\n",
       "      <th>0</th>\n",
       "      <td>0</td>\n",
       "      <td>0.007821</td>\n",
       "      <td>0.088438</td>\n",
       "      <td>0.002340</td>\n",
       "      <td>0.048377</td>\n",
       "    </tr>\n",
       "    <tr>\n",
       "      <th>1</th>\n",
       "      <td>1</td>\n",
       "      <td>0.001831</td>\n",
       "      <td>0.042795</td>\n",
       "      <td>0.002119</td>\n",
       "      <td>0.046031</td>\n",
       "    </tr>\n",
       "    <tr>\n",
       "      <th>2</th>\n",
       "      <td>2</td>\n",
       "      <td>0.001046</td>\n",
       "      <td>0.032347</td>\n",
       "      <td>0.001693</td>\n",
       "      <td>0.041143</td>\n",
       "    </tr>\n",
       "    <tr>\n",
       "      <th>3</th>\n",
       "      <td>3</td>\n",
       "      <td>0.000519</td>\n",
       "      <td>0.022778</td>\n",
       "      <td>0.001588</td>\n",
       "      <td>0.039852</td>\n",
       "    </tr>\n",
       "    <tr>\n",
       "      <th>4</th>\n",
       "      <td>4</td>\n",
       "      <td>0.000233</td>\n",
       "      <td>0.015254</td>\n",
       "      <td>0.001023</td>\n",
       "      <td>0.031986</td>\n",
       "    </tr>\n",
       "    <tr>\n",
       "      <th>...</th>\n",
       "      <td>...</td>\n",
       "      <td>...</td>\n",
       "      <td>...</td>\n",
       "      <td>...</td>\n",
       "      <td>...</td>\n",
       "    </tr>\n",
       "    <tr>\n",
       "      <th>65</th>\n",
       "      <td>65</td>\n",
       "      <td>0.000013</td>\n",
       "      <td>0.003615</td>\n",
       "      <td>0.000746</td>\n",
       "      <td>0.027310</td>\n",
       "    </tr>\n",
       "    <tr>\n",
       "      <th>66</th>\n",
       "      <td>66</td>\n",
       "      <td>0.000013</td>\n",
       "      <td>0.003609</td>\n",
       "      <td>0.000635</td>\n",
       "      <td>0.025204</td>\n",
       "    </tr>\n",
       "    <tr>\n",
       "      <th>67</th>\n",
       "      <td>67</td>\n",
       "      <td>0.000013</td>\n",
       "      <td>0.003620</td>\n",
       "      <td>0.000609</td>\n",
       "      <td>0.024675</td>\n",
       "    </tr>\n",
       "    <tr>\n",
       "      <th>68</th>\n",
       "      <td>68</td>\n",
       "      <td>0.000013</td>\n",
       "      <td>0.003608</td>\n",
       "      <td>0.000620</td>\n",
       "      <td>0.024901</td>\n",
       "    </tr>\n",
       "    <tr>\n",
       "      <th>69</th>\n",
       "      <td>69</td>\n",
       "      <td>0.000013</td>\n",
       "      <td>0.003598</td>\n",
       "      <td>0.000610</td>\n",
       "      <td>0.024697</td>\n",
       "    </tr>\n",
       "  </tbody>\n",
       "</table>\n",
       "<p>70 rows × 5 columns</p>\n",
       "</div>"
      ],
      "text/plain": [
       "    № эпохи  Train Loss  Train RMSE  Val Loss  Val RMSE\n",
       "0         0    0.007821    0.088438  0.002340  0.048377\n",
       "1         1    0.001831    0.042795  0.002119  0.046031\n",
       "2         2    0.001046    0.032347  0.001693  0.041143\n",
       "3         3    0.000519    0.022778  0.001588  0.039852\n",
       "4         4    0.000233    0.015254  0.001023  0.031986\n",
       "..      ...         ...         ...       ...       ...\n",
       "65       65    0.000013    0.003615  0.000746  0.027310\n",
       "66       66    0.000013    0.003609  0.000635  0.025204\n",
       "67       67    0.000013    0.003620  0.000609  0.024675\n",
       "68       68    0.000013    0.003608  0.000620  0.024901\n",
       "69       69    0.000013    0.003598  0.000610  0.024697\n",
       "\n",
       "[70 rows x 5 columns]"
      ]
     },
     "execution_count": 66,
     "metadata": {},
     "output_type": "execute_result"
    }
   ],
   "source": [
    "loaded_hist_df = pd.read_csv(\"history_180.csv\")\n",
    "loaded_hist_df = loaded_hist_df.rename(columns={\n",
    "    'Unnamed: 0' : '№ эпохи',\n",
    "    'loss' : 'Train Loss',\n",
    "    'root_mean_squared_error' : 'Train RMSE',\n",
    "    'val_loss' : 'Val Loss',\n",
    "    'val_root_mean_squared_error' : 'Val RMSE'\n",
    "})\n",
    "loaded_hist_df"
   ]
  },
  {
   "cell_type": "markdown",
   "metadata": {},
   "source": [
    "### Загрузка 180 модели (для Графиков прогнозов / реальных данных)\n",
    "##### *Графики ошибок строятся по History Object"
   ]
  },
  {
   "cell_type": "code",
   "execution_count": 18,
   "metadata": {},
   "outputs": [
    {
     "name": "stdout",
     "output_type": "stream",
     "text": [
      "Model: \"sequential\"\n",
      "_________________________________________________________________\n",
      " Layer (type)                Output Shape              Param #   \n",
      "=================================================================\n",
      " lstm (LSTM)                 (None, 128)               73216     \n",
      "                                                                 \n",
      " dropout (Dropout)           (None, 128)               0         \n",
      "                                                                 \n",
      " dense (Dense)               (None, 16)                2064      \n",
      "                                                                 \n",
      " dense_1 (Dense)             (None, 4)                 68        \n",
      "                                                                 \n",
      "=================================================================\n",
      "Total params: 75,348\n",
      "Trainable params: 75,348\n",
      "Non-trainable params: 0\n",
      "_________________________________________________________________\n"
     ]
    }
   ],
   "source": [
    "refresh_model_180 = tf.keras.models.load_model('model_180/10-0.0001')\n",
    "refresh_model_180.summary()"
   ]
  },
  {
   "cell_type": "markdown",
   "metadata": {},
   "source": [
    "### Predict по загруженной модели"
   ]
  },
  {
   "cell_type": "code",
   "execution_count": 21,
   "metadata": {},
   "outputs": [
    {
     "name": "stdout",
     "output_type": "stream",
     "text": [
      "325/325 [==============================] - 2s 5ms/step\n"
     ]
    }
   ],
   "source": [
    "normalized_predictions_180 = get_normalized_predictions(refresh_model_180, X_test)"
   ]
  },
  {
   "cell_type": "markdown",
   "metadata": {},
   "source": [
    "### Функция plot_errors() по загруженному History Object"
   ]
  },
  {
   "cell_type": "code",
   "execution_count": 71,
   "metadata": {},
   "outputs": [],
   "source": [
    "def plot_errors_2(hist_df):\n",
    "  fig = plt.figure(figsize=[8, 3])\n",
    "  ax1 = plt.subplot(1, 2, 1)\n",
    "  plt.grid()\n",
    "  plt.title('Зависимость MSE от № эпохи')\n",
    "  plt.xlabel('№ эпохи')\n",
    "  plt.ylabel('Значение loss')\n",
    "  ax1.set_ylim(0.000, 0.005)\n",
    "  line2 = plt.plot(hist_df['Train Loss'], 'blue')\n",
    "  line = plt.plot(hist_df['Val Loss'], 'green')\n",
    "  plt.legend([line2, line], labels=['На тренировочных','На валидационных',], loc='upper right')\n",
    "\n",
    "  ax2 = plt.subplot(1, 2, 2)\n",
    "  plt.grid()\n",
    "\n",
    "  plt.title('Значение RMSE в градусах - 3.43°')\n",
    "  plt.xlabel('№ эпохи')\n",
    "  plt.ylabel('Значение RMSE')\n",
    "  plt.yticks([i*0.01 for i in range(7)])\n",
    "  ax2.set_ylim(0.00, 0.062)\n",
    "  plt.plot(hist_df['Train RMSE'], 'blue')\n",
    "  plt.plot(hist_df['Val RMSE'], 'green')\n",
    "  plt.legend([line2, line], labels=['На тренировочных','На валидационных',], loc='upper right')\n",
    "\n",
    "  plt.subplots_adjust(wspace=0.4)"
   ]
  },
  {
   "cell_type": "markdown",
   "metadata": {},
   "source": [
    "### Построение графика ошибок val_RMSE и val_loss "
   ]
  },
  {
   "cell_type": "code",
   "execution_count": 72,
   "metadata": {},
   "outputs": [
    {
     "name": "stderr",
     "output_type": "stream",
     "text": [
      "C:\\Users\\660\\AppData\\Local\\Temp\\ipykernel_9168\\2903960281.py:11: UserWarning: You have mixed positional and keyword arguments, some input may be discarded.\n",
      "  plt.legend([line2, line], labels=['На тренировочных','На валидационных',], loc='upper right')\n",
      "C:\\Users\\660\\AppData\\Local\\Temp\\ipykernel_9168\\2903960281.py:23: UserWarning: You have mixed positional and keyword arguments, some input may be discarded.\n",
      "  plt.legend([line2, line], labels=['На тренировочных','На валидационных',], loc='upper right')\n"
     ]
    },
    {
     "data": {
      "image/png": "[encoded data removed]",
      "text/plain": [
       "<Figure size 800x300 with 2 Axes>"
      ]
     },
     "metadata": {},
     "output_type": "display_data"
    }
   ],
   "source": [
    "plot_errors_2(loaded_hist_df)"
   ]
  },
  {
   "cell_type": "markdown",
   "metadata": {},
   "source": [
    "### График прогнозов по нормализованным данным"
   ]
  },
  {
   "cell_type": "code",
   "execution_count": 26,
   "metadata": {},
   "outputs": [
    {
     "data": {
      "text/plain": [
       "0.019266775383484848"
      ]
     },
     "execution_count": 26,
     "metadata": {},
     "output_type": "execute_result"
    }
   ],
   "source": [
    "rmse(normalized_predictions_180, y_test)"
   ]
  },
  {
   "cell_type": "code",
   "execution_count": null,
   "metadata": {},
   "outputs": [],
   "source": [
    "plot_predictions(normalized_predictions_180, y_test, 0, 11000, True)"
   ]
  },
  {
   "cell_type": "markdown",
   "metadata": {},
   "source": [
    "### Результаты по восстановленным данным"
   ]
  },
  {
   "cell_type": "code",
   "execution_count": 28,
   "metadata": {},
   "outputs": [],
   "source": [
    "postprocessed_predictions_180 = normalized_predictions_180 * 180"
   ]
  },
  {
   "cell_type": "code",
   "execution_count": null,
   "metadata": {},
   "outputs": [],
   "source": [
    "plot_predictions(postprocessed_predictions_180, y_test*180, 0, 11000)"
   ]
  },
  {
   "cell_type": "code",
   "execution_count": 32,
   "metadata": {},
   "outputs": [
    {
     "data": {
      "text/plain": [
       "3.4680195715105513"
      ]
     },
     "execution_count": 32,
     "metadata": {},
     "output_type": "execute_result"
    }
   ],
   "source": [
    "rmse(postprocessed_predictions_180, y_test*180)"
   ]
  }
 ],
 "metadata": {
  "kernelspec": {
   "display_name": "tf",
   "language": "python",
   "name": "python3"
  },
  "language_info": {
   "codemirror_mode": {
    "name": "ipython",
    "version": 3
   },
   "file_extension": ".py",
   "mimetype": "text/x-python",
   "name": "python",
   "nbconvert_exporter": "python",
   "pygments_lexer": "ipython3",
   "version": "3.9.19"
  }
 },
 "nbformat": 4,
 "nbformat_minor": 2
}
