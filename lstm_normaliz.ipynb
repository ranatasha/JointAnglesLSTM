{
 "cells": [
  {
   "cell_type": "markdown",
   "metadata": {},
   "source": [
    "### Подключение библиотек"
   ]
  },
  {
   "cell_type": "code",
   "execution_count": 71,
   "metadata": {},
   "outputs": [],
   "source": [
    "import tensorflow as tf\n",
    "import pandas as pd\n",
    "import numpy as np\n",
    "import matplotlib.pyplot as plt\n",
    "from sklearn.model_selection import train_test_split"
   ]
  },
  {
   "cell_type": "code",
   "execution_count": 72,
   "metadata": {},
   "outputs": [],
   "source": [
    "from tensorflow.keras.models import Sequential\n",
    "from tensorflow.keras.layers import *\n",
    "from tensorflow.keras.callbacks import ModelCheckpoint\n",
    "from tensorflow.keras.losses import MeanSquaredError\n",
    "from tensorflow.keras.metrics import RootMeanSquaredError\n",
    "from tensorflow.keras.optimizers import Adam\n",
    "from keras.regularizers import l2"
   ]
  },
  {
   "cell_type": "markdown",
   "metadata": {},
   "source": [
    "### Подключение к GPU"
   ]
  },
  {
   "cell_type": "code",
   "execution_count": 73,
   "metadata": {},
   "outputs": [
    {
     "name": "stdout",
     "output_type": "stream",
     "text": [
      "Found GPU at: /device:GPU:0\n"
     ]
    }
   ],
   "source": [
    "device_name = tf.test.gpu_device_name()\n",
    "if device_name != '/device:GPU:0':\n",
    "  raise SystemError('GPU device not found')\n",
    "print('Found GPU at: {}'.format(device_name))"
   ]
  },
  {
   "cell_type": "markdown",
   "metadata": {},
   "source": [
    "### Загрузка датасета. Формат X и Y"
   ]
  },
  {
   "cell_type": "code",
   "execution_count": 74,
   "metadata": {},
   "outputs": [
    {
     "data": {
      "text/html": [
       "<div>\n",
       "<style scoped>\n",
       "    .dataframe tbody tr th:only-of-type {\n",
       "        vertical-align: middle;\n",
       "    }\n",
       "\n",
       "    .dataframe tbody tr th {\n",
       "        vertical-align: top;\n",
       "    }\n",
       "\n",
       "    .dataframe thead th {\n",
       "        text-align: right;\n",
       "    }\n",
       "</style>\n",
       "<table border=\"1\" class=\"dataframe\">\n",
       "  <thead>\n",
       "    <tr style=\"text-align: right;\">\n",
       "      <th></th>\n",
       "      <th>HumFlex-L</th>\n",
       "      <th>HumFlex-R</th>\n",
       "      <th>HumAdd-L</th>\n",
       "      <th>HumAdd-R</th>\n",
       "      <th>HumPron-L</th>\n",
       "      <th>HumPron-R</th>\n",
       "      <th>CubFlex-L</th>\n",
       "      <th>CubFlex-R</th>\n",
       "      <th>CubPron-L</th>\n",
       "      <th>CubPron-R</th>\n",
       "      <th>RadFlex-L</th>\n",
       "      <th>RadFlex-R</th>\n",
       "      <th>RadAdd-L</th>\n",
       "      <th>RadAdd-R</th>\n",
       "    </tr>\n",
       "  </thead>\n",
       "  <tbody>\n",
       "    <tr>\n",
       "      <th>0</th>\n",
       "      <td>25.3891</td>\n",
       "      <td>9.27357</td>\n",
       "      <td>8.17163</td>\n",
       "      <td>8.20268</td>\n",
       "      <td>6.54854</td>\n",
       "      <td>31.5294</td>\n",
       "      <td>131.409</td>\n",
       "      <td>12.6733</td>\n",
       "      <td>25.9416</td>\n",
       "      <td>-72.2202</td>\n",
       "      <td>12.4294</td>\n",
       "      <td>-0.131512</td>\n",
       "      <td>-37.7395</td>\n",
       "      <td>1.51097</td>\n",
       "    </tr>\n",
       "    <tr>\n",
       "      <th>1</th>\n",
       "      <td>25.3891</td>\n",
       "      <td>9.27357</td>\n",
       "      <td>8.17163</td>\n",
       "      <td>8.20268</td>\n",
       "      <td>6.54854</td>\n",
       "      <td>31.5294</td>\n",
       "      <td>131.409</td>\n",
       "      <td>12.6733</td>\n",
       "      <td>25.9416</td>\n",
       "      <td>-72.2202</td>\n",
       "      <td>12.4294</td>\n",
       "      <td>-0.131512</td>\n",
       "      <td>-37.7395</td>\n",
       "      <td>1.51097</td>\n",
       "    </tr>\n",
       "    <tr>\n",
       "      <th>2</th>\n",
       "      <td>25.3868</td>\n",
       "      <td>9.27080</td>\n",
       "      <td>8.17124</td>\n",
       "      <td>8.20132</td>\n",
       "      <td>6.54858</td>\n",
       "      <td>31.5304</td>\n",
       "      <td>131.410</td>\n",
       "      <td>12.6754</td>\n",
       "      <td>25.9413</td>\n",
       "      <td>-72.2209</td>\n",
       "      <td>12.4288</td>\n",
       "      <td>-0.131742</td>\n",
       "      <td>-37.7401</td>\n",
       "      <td>1.51067</td>\n",
       "    </tr>\n",
       "    <tr>\n",
       "      <th>3</th>\n",
       "      <td>25.3868</td>\n",
       "      <td>9.27080</td>\n",
       "      <td>8.17124</td>\n",
       "      <td>8.20132</td>\n",
       "      <td>6.54858</td>\n",
       "      <td>31.5304</td>\n",
       "      <td>131.410</td>\n",
       "      <td>12.6754</td>\n",
       "      <td>25.9413</td>\n",
       "      <td>-72.2209</td>\n",
       "      <td>12.4288</td>\n",
       "      <td>-0.131742</td>\n",
       "      <td>-37.7401</td>\n",
       "      <td>1.51067</td>\n",
       "    </tr>\n",
       "    <tr>\n",
       "      <th>4</th>\n",
       "      <td>25.3844</td>\n",
       "      <td>9.26813</td>\n",
       "      <td>8.17081</td>\n",
       "      <td>8.19961</td>\n",
       "      <td>6.54859</td>\n",
       "      <td>31.5316</td>\n",
       "      <td>131.411</td>\n",
       "      <td>12.6767</td>\n",
       "      <td>25.9409</td>\n",
       "      <td>-72.2216</td>\n",
       "      <td>12.4281</td>\n",
       "      <td>-0.131909</td>\n",
       "      <td>-37.7408</td>\n",
       "      <td>1.51038</td>\n",
       "    </tr>\n",
       "    <tr>\n",
       "      <th>...</th>\n",
       "      <td>...</td>\n",
       "      <td>...</td>\n",
       "      <td>...</td>\n",
       "      <td>...</td>\n",
       "      <td>...</td>\n",
       "      <td>...</td>\n",
       "      <td>...</td>\n",
       "      <td>...</td>\n",
       "      <td>...</td>\n",
       "      <td>...</td>\n",
       "      <td>...</td>\n",
       "      <td>...</td>\n",
       "      <td>...</td>\n",
       "      <td>...</td>\n",
       "    </tr>\n",
       "    <tr>\n",
       "      <th>85395</th>\n",
       "      <td>26.4817</td>\n",
       "      <td>8.81054</td>\n",
       "      <td>10.46340</td>\n",
       "      <td>10.15400</td>\n",
       "      <td>13.71280</td>\n",
       "      <td>44.9465</td>\n",
       "      <td>149.520</td>\n",
       "      <td>44.0545</td>\n",
       "      <td>31.3010</td>\n",
       "      <td>-80.1557</td>\n",
       "      <td>10.8189</td>\n",
       "      <td>1.841450</td>\n",
       "      <td>-51.1252</td>\n",
       "      <td>1.24794</td>\n",
       "    </tr>\n",
       "    <tr>\n",
       "      <th>85396</th>\n",
       "      <td>26.4827</td>\n",
       "      <td>8.81207</td>\n",
       "      <td>10.46390</td>\n",
       "      <td>10.15460</td>\n",
       "      <td>13.71320</td>\n",
       "      <td>44.9472</td>\n",
       "      <td>149.519</td>\n",
       "      <td>44.0548</td>\n",
       "      <td>31.3012</td>\n",
       "      <td>-80.1564</td>\n",
       "      <td>10.8193</td>\n",
       "      <td>1.841770</td>\n",
       "      <td>-51.1252</td>\n",
       "      <td>1.24859</td>\n",
       "    </tr>\n",
       "    <tr>\n",
       "      <th>85397</th>\n",
       "      <td>26.4827</td>\n",
       "      <td>8.81207</td>\n",
       "      <td>10.46390</td>\n",
       "      <td>10.15460</td>\n",
       "      <td>13.71320</td>\n",
       "      <td>44.9472</td>\n",
       "      <td>149.519</td>\n",
       "      <td>44.0548</td>\n",
       "      <td>31.3012</td>\n",
       "      <td>-80.1564</td>\n",
       "      <td>10.8193</td>\n",
       "      <td>1.841770</td>\n",
       "      <td>-51.1252</td>\n",
       "      <td>1.24859</td>\n",
       "    </tr>\n",
       "    <tr>\n",
       "      <th>85398</th>\n",
       "      <td>26.4837</td>\n",
       "      <td>8.81374</td>\n",
       "      <td>10.46450</td>\n",
       "      <td>10.15540</td>\n",
       "      <td>13.71340</td>\n",
       "      <td>44.9475</td>\n",
       "      <td>149.519</td>\n",
       "      <td>44.0552</td>\n",
       "      <td>31.3014</td>\n",
       "      <td>-80.1570</td>\n",
       "      <td>10.8199</td>\n",
       "      <td>1.841800</td>\n",
       "      <td>-51.1252</td>\n",
       "      <td>1.24873</td>\n",
       "    </tr>\n",
       "    <tr>\n",
       "      <th>85399</th>\n",
       "      <td>26.4837</td>\n",
       "      <td>8.81374</td>\n",
       "      <td>10.46450</td>\n",
       "      <td>10.15540</td>\n",
       "      <td>13.71340</td>\n",
       "      <td>44.9475</td>\n",
       "      <td>149.519</td>\n",
       "      <td>44.0552</td>\n",
       "      <td>31.3014</td>\n",
       "      <td>-80.1570</td>\n",
       "      <td>10.8199</td>\n",
       "      <td>1.841800</td>\n",
       "      <td>-51.1252</td>\n",
       "      <td>1.24873</td>\n",
       "    </tr>\n",
       "  </tbody>\n",
       "</table>\n",
       "<p>85400 rows × 14 columns</p>\n",
       "</div>"
      ],
      "text/plain": [
       "       HumFlex-L  HumFlex-R  HumAdd-L  HumAdd-R  HumPron-L  HumPron-R  \\\n",
       "0        25.3891    9.27357   8.17163   8.20268    6.54854    31.5294   \n",
       "1        25.3891    9.27357   8.17163   8.20268    6.54854    31.5294   \n",
       "2        25.3868    9.27080   8.17124   8.20132    6.54858    31.5304   \n",
       "3        25.3868    9.27080   8.17124   8.20132    6.54858    31.5304   \n",
       "4        25.3844    9.26813   8.17081   8.19961    6.54859    31.5316   \n",
       "...          ...        ...       ...       ...        ...        ...   \n",
       "85395    26.4817    8.81054  10.46340  10.15400   13.71280    44.9465   \n",
       "85396    26.4827    8.81207  10.46390  10.15460   13.71320    44.9472   \n",
       "85397    26.4827    8.81207  10.46390  10.15460   13.71320    44.9472   \n",
       "85398    26.4837    8.81374  10.46450  10.15540   13.71340    44.9475   \n",
       "85399    26.4837    8.81374  10.46450  10.15540   13.71340    44.9475   \n",
       "\n",
       "       CubFlex-L  CubFlex-R  CubPron-L  CubPron-R  RadFlex-L  RadFlex-R  \\\n",
       "0        131.409    12.6733    25.9416   -72.2202    12.4294  -0.131512   \n",
       "1        131.409    12.6733    25.9416   -72.2202    12.4294  -0.131512   \n",
       "2        131.410    12.6754    25.9413   -72.2209    12.4288  -0.131742   \n",
       "3        131.410    12.6754    25.9413   -72.2209    12.4288  -0.131742   \n",
       "4        131.411    12.6767    25.9409   -72.2216    12.4281  -0.131909   \n",
       "...          ...        ...        ...        ...        ...        ...   \n",
       "85395    149.520    44.0545    31.3010   -80.1557    10.8189   1.841450   \n",
       "85396    149.519    44.0548    31.3012   -80.1564    10.8193   1.841770   \n",
       "85397    149.519    44.0548    31.3012   -80.1564    10.8193   1.841770   \n",
       "85398    149.519    44.0552    31.3014   -80.1570    10.8199   1.841800   \n",
       "85399    149.519    44.0552    31.3014   -80.1570    10.8199   1.841800   \n",
       "\n",
       "       RadAdd-L  RadAdd-R  \n",
       "0      -37.7395   1.51097  \n",
       "1      -37.7395   1.51097  \n",
       "2      -37.7401   1.51067  \n",
       "3      -37.7401   1.51067  \n",
       "4      -37.7408   1.51038  \n",
       "...         ...       ...  \n",
       "85395  -51.1252   1.24794  \n",
       "85396  -51.1252   1.24859  \n",
       "85397  -51.1252   1.24859  \n",
       "85398  -51.1252   1.24873  \n",
       "85399  -51.1252   1.24873  \n",
       "\n",
       "[85400 rows x 14 columns]"
      ]
     },
     "execution_count": 74,
     "metadata": {},
     "output_type": "execute_result"
    }
   ],
   "source": [
    "# Чтение датасета из файла, зарегистрированного кинект\n",
    "test_df = pd.read_csv(\"test_data.txt\", sep='\\t', comment='#', encoding='utf-8')\n",
    "# Сдвиг значений из индекса на колонку вперед\n",
    "test_df = test_df.shift(periods=1, axis=\"columns\")\n",
    "test_df['HumFlex-L'] = test_df.index\n",
    "test_df.index=[_ for _ in range(85400) ]\n",
    "# Готовый Датасет\n",
    "test_df"
   ]
  },
  {
   "cell_type": "code",
   "execution_count": 75,
   "metadata": {},
   "outputs": [
    {
     "data": {
      "text/html": [
       "<div>\n",
       "<style scoped>\n",
       "    .dataframe tbody tr th:only-of-type {\n",
       "        vertical-align: middle;\n",
       "    }\n",
       "\n",
       "    .dataframe tbody tr th {\n",
       "        vertical-align: top;\n",
       "    }\n",
       "\n",
       "    .dataframe thead th {\n",
       "        text-align: right;\n",
       "    }\n",
       "</style>\n",
       "<table border=\"1\" class=\"dataframe\">\n",
       "  <thead>\n",
       "    <tr style=\"text-align: right;\">\n",
       "      <th></th>\n",
       "      <th>CubFlex-L</th>\n",
       "      <th>CubFlex-R</th>\n",
       "      <th>CubPron-L</th>\n",
       "      <th>CubPron-R</th>\n",
       "      <th>HumFlex-L</th>\n",
       "      <th>HumFlex-R</th>\n",
       "      <th>HumPron-L</th>\n",
       "      <th>HumPron-R</th>\n",
       "      <th>HumAdd-L</th>\n",
       "      <th>HumAdd-R</th>\n",
       "      <th>RadFlex-L</th>\n",
       "      <th>RadFlex-R</th>\n",
       "      <th>RadAdd-L</th>\n",
       "      <th>RadAdd-R</th>\n",
       "    </tr>\n",
       "  </thead>\n",
       "  <tbody>\n",
       "    <tr>\n",
       "      <th>0</th>\n",
       "      <td>131.409</td>\n",
       "      <td>12.6733</td>\n",
       "      <td>25.9416</td>\n",
       "      <td>-72.2202</td>\n",
       "      <td>25.3891</td>\n",
       "      <td>9.27357</td>\n",
       "      <td>6.54854</td>\n",
       "      <td>31.5294</td>\n",
       "      <td>8.17163</td>\n",
       "      <td>8.20268</td>\n",
       "      <td>12.4294</td>\n",
       "      <td>-0.131512</td>\n",
       "      <td>-37.7395</td>\n",
       "      <td>1.51097</td>\n",
       "    </tr>\n",
       "    <tr>\n",
       "      <th>1</th>\n",
       "      <td>131.409</td>\n",
       "      <td>12.6733</td>\n",
       "      <td>25.9416</td>\n",
       "      <td>-72.2202</td>\n",
       "      <td>25.3891</td>\n",
       "      <td>9.27357</td>\n",
       "      <td>6.54854</td>\n",
       "      <td>31.5294</td>\n",
       "      <td>8.17163</td>\n",
       "      <td>8.20268</td>\n",
       "      <td>12.4294</td>\n",
       "      <td>-0.131512</td>\n",
       "      <td>-37.7395</td>\n",
       "      <td>1.51097</td>\n",
       "    </tr>\n",
       "    <tr>\n",
       "      <th>2</th>\n",
       "      <td>131.410</td>\n",
       "      <td>12.6754</td>\n",
       "      <td>25.9413</td>\n",
       "      <td>-72.2209</td>\n",
       "      <td>25.3868</td>\n",
       "      <td>9.27080</td>\n",
       "      <td>6.54858</td>\n",
       "      <td>31.5304</td>\n",
       "      <td>8.17124</td>\n",
       "      <td>8.20132</td>\n",
       "      <td>12.4288</td>\n",
       "      <td>-0.131742</td>\n",
       "      <td>-37.7401</td>\n",
       "      <td>1.51067</td>\n",
       "    </tr>\n",
       "    <tr>\n",
       "      <th>3</th>\n",
       "      <td>131.410</td>\n",
       "      <td>12.6754</td>\n",
       "      <td>25.9413</td>\n",
       "      <td>-72.2209</td>\n",
       "      <td>25.3868</td>\n",
       "      <td>9.27080</td>\n",
       "      <td>6.54858</td>\n",
       "      <td>31.5304</td>\n",
       "      <td>8.17124</td>\n",
       "      <td>8.20132</td>\n",
       "      <td>12.4288</td>\n",
       "      <td>-0.131742</td>\n",
       "      <td>-37.7401</td>\n",
       "      <td>1.51067</td>\n",
       "    </tr>\n",
       "    <tr>\n",
       "      <th>4</th>\n",
       "      <td>131.411</td>\n",
       "      <td>12.6767</td>\n",
       "      <td>25.9409</td>\n",
       "      <td>-72.2216</td>\n",
       "      <td>25.3844</td>\n",
       "      <td>9.26813</td>\n",
       "      <td>6.54859</td>\n",
       "      <td>31.5316</td>\n",
       "      <td>8.17081</td>\n",
       "      <td>8.19961</td>\n",
       "      <td>12.4281</td>\n",
       "      <td>-0.131909</td>\n",
       "      <td>-37.7408</td>\n",
       "      <td>1.51038</td>\n",
       "    </tr>\n",
       "    <tr>\n",
       "      <th>...</th>\n",
       "      <td>...</td>\n",
       "      <td>...</td>\n",
       "      <td>...</td>\n",
       "      <td>...</td>\n",
       "      <td>...</td>\n",
       "      <td>...</td>\n",
       "      <td>...</td>\n",
       "      <td>...</td>\n",
       "      <td>...</td>\n",
       "      <td>...</td>\n",
       "      <td>...</td>\n",
       "      <td>...</td>\n",
       "      <td>...</td>\n",
       "      <td>...</td>\n",
       "    </tr>\n",
       "    <tr>\n",
       "      <th>85395</th>\n",
       "      <td>149.520</td>\n",
       "      <td>44.0545</td>\n",
       "      <td>31.3010</td>\n",
       "      <td>-80.1557</td>\n",
       "      <td>26.4817</td>\n",
       "      <td>8.81054</td>\n",
       "      <td>13.71280</td>\n",
       "      <td>44.9465</td>\n",
       "      <td>10.46340</td>\n",
       "      <td>10.15400</td>\n",
       "      <td>10.8189</td>\n",
       "      <td>1.841450</td>\n",
       "      <td>-51.1252</td>\n",
       "      <td>1.24794</td>\n",
       "    </tr>\n",
       "    <tr>\n",
       "      <th>85396</th>\n",
       "      <td>149.519</td>\n",
       "      <td>44.0548</td>\n",
       "      <td>31.3012</td>\n",
       "      <td>-80.1564</td>\n",
       "      <td>26.4827</td>\n",
       "      <td>8.81207</td>\n",
       "      <td>13.71320</td>\n",
       "      <td>44.9472</td>\n",
       "      <td>10.46390</td>\n",
       "      <td>10.15460</td>\n",
       "      <td>10.8193</td>\n",
       "      <td>1.841770</td>\n",
       "      <td>-51.1252</td>\n",
       "      <td>1.24859</td>\n",
       "    </tr>\n",
       "    <tr>\n",
       "      <th>85397</th>\n",
       "      <td>149.519</td>\n",
       "      <td>44.0548</td>\n",
       "      <td>31.3012</td>\n",
       "      <td>-80.1564</td>\n",
       "      <td>26.4827</td>\n",
       "      <td>8.81207</td>\n",
       "      <td>13.71320</td>\n",
       "      <td>44.9472</td>\n",
       "      <td>10.46390</td>\n",
       "      <td>10.15460</td>\n",
       "      <td>10.8193</td>\n",
       "      <td>1.841770</td>\n",
       "      <td>-51.1252</td>\n",
       "      <td>1.24859</td>\n",
       "    </tr>\n",
       "    <tr>\n",
       "      <th>85398</th>\n",
       "      <td>149.519</td>\n",
       "      <td>44.0552</td>\n",
       "      <td>31.3014</td>\n",
       "      <td>-80.1570</td>\n",
       "      <td>26.4837</td>\n",
       "      <td>8.81374</td>\n",
       "      <td>13.71340</td>\n",
       "      <td>44.9475</td>\n",
       "      <td>10.46450</td>\n",
       "      <td>10.15540</td>\n",
       "      <td>10.8199</td>\n",
       "      <td>1.841800</td>\n",
       "      <td>-51.1252</td>\n",
       "      <td>1.24873</td>\n",
       "    </tr>\n",
       "    <tr>\n",
       "      <th>85399</th>\n",
       "      <td>149.519</td>\n",
       "      <td>44.0552</td>\n",
       "      <td>31.3014</td>\n",
       "      <td>-80.1570</td>\n",
       "      <td>26.4837</td>\n",
       "      <td>8.81374</td>\n",
       "      <td>13.71340</td>\n",
       "      <td>44.9475</td>\n",
       "      <td>10.46450</td>\n",
       "      <td>10.15540</td>\n",
       "      <td>10.8199</td>\n",
       "      <td>1.841800</td>\n",
       "      <td>-51.1252</td>\n",
       "      <td>1.24873</td>\n",
       "    </tr>\n",
       "  </tbody>\n",
       "</table>\n",
       "<p>85400 rows × 14 columns</p>\n",
       "</div>"
      ],
      "text/plain": [
       "       CubFlex-L  CubFlex-R  CubPron-L  CubPron-R  HumFlex-L  HumFlex-R  \\\n",
       "0        131.409    12.6733    25.9416   -72.2202    25.3891    9.27357   \n",
       "1        131.409    12.6733    25.9416   -72.2202    25.3891    9.27357   \n",
       "2        131.410    12.6754    25.9413   -72.2209    25.3868    9.27080   \n",
       "3        131.410    12.6754    25.9413   -72.2209    25.3868    9.27080   \n",
       "4        131.411    12.6767    25.9409   -72.2216    25.3844    9.26813   \n",
       "...          ...        ...        ...        ...        ...        ...   \n",
       "85395    149.520    44.0545    31.3010   -80.1557    26.4817    8.81054   \n",
       "85396    149.519    44.0548    31.3012   -80.1564    26.4827    8.81207   \n",
       "85397    149.519    44.0548    31.3012   -80.1564    26.4827    8.81207   \n",
       "85398    149.519    44.0552    31.3014   -80.1570    26.4837    8.81374   \n",
       "85399    149.519    44.0552    31.3014   -80.1570    26.4837    8.81374   \n",
       "\n",
       "       HumPron-L  HumPron-R  HumAdd-L  HumAdd-R  RadFlex-L  RadFlex-R  \\\n",
       "0        6.54854    31.5294   8.17163   8.20268    12.4294  -0.131512   \n",
       "1        6.54854    31.5294   8.17163   8.20268    12.4294  -0.131512   \n",
       "2        6.54858    31.5304   8.17124   8.20132    12.4288  -0.131742   \n",
       "3        6.54858    31.5304   8.17124   8.20132    12.4288  -0.131742   \n",
       "4        6.54859    31.5316   8.17081   8.19961    12.4281  -0.131909   \n",
       "...          ...        ...       ...       ...        ...        ...   \n",
       "85395   13.71280    44.9465  10.46340  10.15400    10.8189   1.841450   \n",
       "85396   13.71320    44.9472  10.46390  10.15460    10.8193   1.841770   \n",
       "85397   13.71320    44.9472  10.46390  10.15460    10.8193   1.841770   \n",
       "85398   13.71340    44.9475  10.46450  10.15540    10.8199   1.841800   \n",
       "85399   13.71340    44.9475  10.46450  10.15540    10.8199   1.841800   \n",
       "\n",
       "       RadAdd-L  RadAdd-R  \n",
       "0      -37.7395   1.51097  \n",
       "1      -37.7395   1.51097  \n",
       "2      -37.7401   1.51067  \n",
       "3      -37.7401   1.51067  \n",
       "4      -37.7408   1.51038  \n",
       "...         ...       ...  \n",
       "85395  -51.1252   1.24794  \n",
       "85396  -51.1252   1.24859  \n",
       "85397  -51.1252   1.24859  \n",
       "85398  -51.1252   1.24873  \n",
       "85399  -51.1252   1.24873  \n",
       "\n",
       "[85400 rows x 14 columns]"
      ]
     },
     "execution_count": 75,
     "metadata": {},
     "output_type": "execute_result"
    }
   ],
   "source": [
    "# Перемещение 4х прогнозируемых колонок вперед (локтевой сустав)\n",
    "# Обозначения:\n",
    "# L / R - левая и правая рука\n",
    "# CubFlex / CubPron- локтевое сгибание / пронация\n",
    "# HumFlex / HumPron / HumAdd - плечевое сгибание / пронация / приведение\n",
    "# RadFlex / RadAdd - лучезапястное сгибание / приведение\n",
    "tmp_test_df = pd.DataFrame({\n",
    "                            'CubFlex-L': test_df['CubFlex-L'], 'CubFlex-R': test_df['CubFlex-R'],\n",
    "                            'CubPron-L': test_df['CubPron-L'], 'CubPron-R': test_df['CubPron-R'],\n",
    "                            'HumFlex-L': test_df['HumFlex-L'], 'HumFlex-R': test_df['HumFlex-R'],\n",
    "                            'HumPron-L': test_df['HumPron-L'], 'HumPron-R': test_df['HumPron-R'],\n",
    "                            'HumAdd-L': test_df['HumAdd-L'], 'HumAdd-R': test_df['HumAdd-R'],\n",
    "                            'RadFlex-L': test_df['RadFlex-L'], 'RadFlex-R': test_df['RadFlex-R'],\n",
    "                            'RadAdd-L': test_df['RadAdd-L'], 'RadAdd-R': test_df['RadAdd-R'],\n",
    "                             })\n",
    "\n",
    "output_df = tmp_test_df.loc[:, 'CubFlex-L' : 'CubPron-R']\n",
    "input_df = tmp_test_df.loc[:, 'HumFlex-L' : 'RadAdd-R']\n",
    "tmp_test_df"
   ]
  },
  {
   "cell_type": "code",
   "execution_count": 76,
   "metadata": {},
   "outputs": [],
   "source": [
    "WINDOW_SIZE = 20\n",
    "# Структура входных и выходных данных (для window_size=20)\n",
    "# 0, 1, ... - индекс строки в df\n",
    "# [0:3] - Срез по индексам прогнозируемых колонок\n",
    "#        X - входные данные        |   y  - выходные данные             \n",
    "# [                                | [\n",
    "#   [[0], [1], [2], ..., [19]],    |  [20[0:3]]\n",
    "#   [[1], [2], [3], ..., [20]],    |  [21[0:3]]\n",
    "#   [[2], [3], [4], ..., [21]],    |  [22[0:3]]\n",
    "#   ...                            |  ...\n",
    "#   [[85379],[85380],...,[85398]], |  [85399[0:3]]\n",
    "# ]                                | ]\n",
    "\n",
    "def df_to_X(df, window_size = WINDOW_SIZE):\n",
    "  df_as_np = df.to_numpy()\n",
    "  X = []\n",
    "  for i in range(len(df_as_np)-window_size):\n",
    "    row = np.array([r for r in df_as_np[i:i+window_size]])\n",
    "\n",
    "    if np.isnan(row).any():\n",
    "      print(row)\n",
    "      continue\n",
    "    X.append(row)\n",
    "  return np.array(X)\n",
    "\n",
    "def df_to_y(df, window_size = WINDOW_SIZE):\n",
    "  df_as_np = df.to_numpy()\n",
    "  y = []\n",
    "  for i in range(len(df_as_np)-window_size):\n",
    "    label = []\n",
    "    for j in range(len(output_df.axes[1])):\n",
    "      label.append(df_as_np[i+window_size][j])\n",
    "    y.append(label)\n",
    "  return np.array(y)"
   ]
  },
  {
   "cell_type": "code",
   "execution_count": 77,
   "metadata": {},
   "outputs": [
    {
     "data": {
      "text/plain": [
       "((85380, 20, 14), (85380, 4))"
      ]
     },
     "execution_count": 77,
     "metadata": {},
     "output_type": "execute_result"
    }
   ],
   "source": [
    "X, y = df_to_X(tmp_test_df), df_to_y(output_df)\n",
    "X.shape, y.shape"
   ]
  },
  {
   "cell_type": "markdown",
   "metadata": {},
   "source": [
    "### Разбиение на training, validation and test dataset"
   ]
  },
  {
   "cell_type": "code",
   "execution_count": 78,
   "metadata": {},
   "outputs": [],
   "source": [
    "def splitToTrainValTest(X, y):\n",
    "    X_train, y_train = X[:55000], y[:55000] # Было :60-60:70-70: стало 80%()\n",
    "    X_val, y_val = X[55000:75000], y[55000:75000]\n",
    "    X_test, y_test = X[75000:], y[75000:]\n",
    "    print(\"Train:\\n\\t{}\\n\\t{}\\nValidation:\\n\\t{}\\n\\t{}\\nTest:\\n\\t{}\\n\\t{}\".format(X_train.shape,  y_train.shape, X_val.shape, y_val.shape, X_test.shape, y_test.shape))\n",
    "    return X_train, y_train, X_val, y_val, X_test, y_test"
   ]
  },
  {
   "cell_type": "code",
   "execution_count": 79,
   "metadata": {},
   "outputs": [
    {
     "name": "stdout",
     "output_type": "stream",
     "text": [
      "Train:\n",
      "\t(55000, 20, 14)\n",
      "\t(55000, 4)\n",
      "Validation:\n",
      "\t(20000, 20, 14)\n",
      "\t(20000, 4)\n",
      "Test:\n",
      "\t(10380, 20, 14)\n",
      "\t(10380, 4)\n"
     ]
    }
   ],
   "source": [
    "X_train, y_train, X_val, y_val, X_test, y_test = splitToTrainValTest(X, y)"
   ]
  },
  {
   "cell_type": "markdown",
   "metadata": {},
   "source": [
    "### Отображение графиков результатов и расчет RMSE"
   ]
  },
  {
   "cell_type": "code",
   "execution_count": 95,
   "metadata": {},
   "outputs": [],
   "source": [
    "def plot_predictions(predictions, actuals_y, start, end, isNormalized=False):\n",
    "  CubFlexL_preds, CubFlexR_preds, CubPronL_preds, CubPronR_preds = predictions[:, 0], predictions[:, 1], predictions[:, 2], predictions[:, 3]\n",
    "  CubFlexL_actuals, CubFlexR_actuals, CubPronL_actuals, CubPronR_actuals = actuals_y[:, 0], actuals_y[:, 1], actuals_y[:, 2], actuals_y[:, 3],\n",
    "  df = pd.DataFrame(data={'CubFlex-L Predictions': CubFlexL_preds,\n",
    "                          'CubFlex-L Actuals':CubFlexL_actuals,\n",
    "                          'CubFlex-R Predictions': CubFlexR_preds,\n",
    "                          'CubFlex-R Actuals':CubFlexR_actuals,\n",
    "                          'CubPron-L Predictions': CubPronL_preds,\n",
    "                          'CubPron-L Actuals':CubPronL_actuals,\n",
    "                          'CubPron-R Predictions': CubPronR_preds,\n",
    "                          'CubPron-R Actuals':CubPronR_actuals,\n",
    "                          })\n",
    "  fig = plt.figure(figsize=[12, 7])\n",
    "  plt.subplot(2, 2, 1)\n",
    "  plt.grid()\n",
    "  plt.title('Локтевое сгибание-L')\n",
    "  plt.xlabel('№ временного шага')\n",
    "  if (isNormalized):\n",
    "    plt.ylabel('normalized_angle')\n",
    "  else:\n",
    "    plt.ylabel('Суставной угол в градусах')\n",
    "  l1 = plt.plot(df['CubFlex-L Predictions'][start:end], 'r--')\n",
    "  l2 = plt.plot(df['CubFlex-L Actuals'][start:end], 'green')\n",
    "\n",
    "  plt.subplot(2, 2, 2)\n",
    "  plt.grid()\n",
    "\n",
    "  plt.title('Локтевое сгибание-R')\n",
    "  plt.xlabel('№ временного шага')\n",
    "  if (isNormalized):\n",
    "    plt.ylabel('normalized_angle')\n",
    "  else:\n",
    "    plt.ylabel('Суставной угол в градусах')\n",
    "  plt.plot(df['CubFlex-R Predictions'][start:end], 'r--')\n",
    "  plt.plot(df['CubFlex-R Actuals'][start:end], 'green')\n",
    "  \n",
    "  plt.subplot(2, 2, 3)\n",
    "  plt.grid()\n",
    "  plt.title('Локтевая пронация-L')\n",
    "  plt.xlabel('№ временного шага')\n",
    "  if (isNormalized):\n",
    "    plt.ylabel('normalized_angle')\n",
    "  else:\n",
    "    plt.ylabel('Суставной угол в градусах')\n",
    "  plt.plot(df['CubPron-L Predictions'][start:end], 'r--')\n",
    "  plt.plot(df['CubPron-L Actuals'][start:end], 'green')\n",
    "\n",
    "  plt.subplot(2, 2, 4)\n",
    "  plt.grid()\n",
    "  plt.title('Локтевая пронация-R')\n",
    "  plt.xlabel('№ временного шага')\n",
    "  if (isNormalized):\n",
    "    plt.ylabel('normalized_angle')\n",
    "  else:\n",
    "    plt.ylabel('Суставной угол в градусах')\n",
    "  plt.plot(df['CubPron-R Predictions'][start:end], 'r--',)\n",
    "  plt.plot(df['CubPron-R Actuals'][start:end], 'green')\n",
    "\n",
    "  plt.subplots_adjust( hspace=0.4)\n",
    "  fig.legend([l1, l2], labels=['Прогнозируемые значения', 'Истинные значения'], loc=\"center\")\n",
    "  \n",
    "  return df"
   ]
  },
  {
   "cell_type": "code",
   "execution_count": 82,
   "metadata": {},
   "outputs": [],
   "source": [
    "def rmse(predictions, actuals):\n",
    "    return np.sqrt(((predictions - actuals) ** 2).mean())"
   ]
  },
  {
   "cell_type": "markdown",
   "metadata": {},
   "source": [
    "### Объявление функции Predict по нормализованным X_test"
   ]
  },
  {
   "cell_type": "code",
   "execution_count": 83,
   "metadata": {},
   "outputs": [],
   "source": [
    "def get_normalized_predictions(model, X_normalized):\n",
    "    normalized_predictions = model.predict(X_normalized)\n",
    "    return normalized_predictions"
   ]
  },
  {
   "cell_type": "markdown",
   "metadata": {},
   "source": [
    "### Нормализация MinMaxScaler"
   ]
  },
  {
   "cell_type": "code",
   "execution_count": 84,
   "metadata": {},
   "outputs": [],
   "source": [
    "from sklearn.preprocessing import MinMaxScaler"
   ]
  },
  {
   "cell_type": "code",
   "execution_count": 85,
   "metadata": {},
   "outputs": [],
   "source": [
    "class MinMaxScaler3D(MinMaxScaler):\n",
    "\n",
    "    def fit_transform(self, X, y=None):\n",
    "        x = np.reshape(X, newshape=(X.shape[0]*X.shape[1], X.shape[2]))\n",
    "        return np.reshape(super().fit_transform(x, y=y), newshape=X.shape)"
   ]
  },
  {
   "cell_type": "code",
   "execution_count": 86,
   "metadata": {},
   "outputs": [],
   "source": [
    "scaler_X_train = MinMaxScaler3D()\n",
    "min_max_normalized_X_train = scaler_X_train.fit_transform(X_train)\n",
    "\n",
    "min_max_normalized_X_test = scaler_X_train.fit_transform(X_test) \n",
    "\n",
    "min_max_normalized_X_val = scaler_X_train.fit_transform(X_val)\n",
    "\n",
    "\n",
    "\n",
    "scaler_y_train = MinMaxScaler()\n",
    "min_max_normalized_y_train = scaler_y_train.fit_transform(y_train)\n",
    "\n",
    "min_max_normalized_y_test = scaler_y_train.fit_transform(y_test)\n",
    "\n",
    "min_max_normalized_y_val = scaler_y_train.fit_transform(y_val)"
   ]
  },
  {
   "cell_type": "markdown",
   "metadata": {},
   "source": [
    "### Модель 7 (обучена на новом скейлере)"
   ]
  },
  {
   "cell_type": "code",
   "execution_count": 16,
   "metadata": {},
   "outputs": [
    {
     "name": "stdout",
     "output_type": "stream",
     "text": [
      "Model: \"sequential\"\n",
      "_________________________________________________________________\n",
      " Layer (type)                Output Shape              Param #   \n",
      "=================================================================\n",
      " lstm (LSTM)                 (None, 128)               73216     \n",
      "                                                                 \n",
      " dropout (Dropout)           (None, 128)               0         \n",
      "                                                                 \n",
      " dense (Dense)               (None, 16)                2064      \n",
      "                                                                 \n",
      " dense_1 (Dense)             (None, 4)                 68        \n",
      "                                                                 \n",
      "=================================================================\n",
      "Total params: 75,348\n",
      "Trainable params: 75,348\n",
      "Non-trainable params: 0\n",
      "_________________________________________________________________\n"
     ]
    }
   ],
   "source": [
    "model_7 = Sequential() # создаёт последовательную модель с пошаговым добавлением слоёв в неё\n",
    "model_7.add(InputLayer((WINDOW_SIZE, 14)))\n",
    "model_7.add(LSTM(128))\n",
    "model_7.add(Dropout(0.5)) # помогает избавиться от переобучения модели.\n",
    "# Таким образом, некоторые нейроны становятся равными 0, и это сокращает вычисления в процессе обучения.\n",
    "\n",
    "# Dense - является самым необходимым и базовым.\n",
    "# отвечает за соединение нейронов из предыдущего и следующего слоя.\n",
    "# Например, если первый слой имеет 5 нейронов, а второй 3, то общее количество соединений между слоями будет равно 15.\n",
    "# отвечает за эти соединения, и у него есть настраиваемые гиперпараметры: количество нейронов, тип активации, инициализация типа ядра.\n",
    "model_7.add(Dense(16, 'relu'))\n",
    "model_7.add(Dense(4, 'linear'))\n",
    "\n",
    "model_7.summary()"
   ]
  },
  {
   "cell_type": "code",
   "execution_count": 18,
   "metadata": {},
   "outputs": [],
   "source": [
    "cp_7_epochs = ModelCheckpoint('model_7_epochs/{epoch:02d}-{val_loss:.4f}', save_best_only=True)\n",
    "model_7.compile(loss=MeanSquaredError(), optimizer=Adam(learning_rate=0.0001), metrics=[RootMeanSquaredError()])"
   ]
  },
  {
   "cell_type": "code",
   "execution_count": 19,
   "metadata": {},
   "outputs": [
    {
     "name": "stdout",
     "output_type": "stream",
     "text": [
      "Epoch 1/80\n",
      "1717/1719 [============================>.] - ETA: 0s - loss: 0.0192 - root_mean_squared_error: 0.1385"
     ]
    },
    {
     "name": "stderr",
     "output_type": "stream",
     "text": [
      "WARNING:absl:Found untraced functions such as lstm_cell_layer_call_fn, lstm_cell_layer_call_and_return_conditional_losses while saving (showing 2 of 2). These functions will not be directly callable after loading.\n"
     ]
    },
    {
     "name": "stdout",
     "output_type": "stream",
     "text": [
      "INFO:tensorflow:Assets written to: model_7_epochs\\01-0.0048\\assets\n"
     ]
    },
    {
     "name": "stderr",
     "output_type": "stream",
     "text": [
      "INFO:tensorflow:Assets written to: model_7_epochs\\01-0.0048\\assets\n"
     ]
    },
    {
     "name": "stdout",
     "output_type": "stream",
     "text": [
      "1719/1719 [==============================] - 43s 16ms/step - loss: 0.0192 - root_mean_squared_error: 0.1384 - val_loss: 0.0048 - val_root_mean_squared_error: 0.0693\n",
      "Epoch 2/80\n",
      "1719/1719 [==============================] - ETA: 0s - loss: 0.0058 - root_mean_squared_error: 0.0763"
     ]
    },
    {
     "name": "stderr",
     "output_type": "stream",
     "text": [
      "WARNING:absl:Found untraced functions such as lstm_cell_layer_call_fn, lstm_cell_layer_call_and_return_conditional_losses while saving (showing 2 of 2). These functions will not be directly callable after loading.\n"
     ]
    },
    {
     "name": "stdout",
     "output_type": "stream",
     "text": [
      "INFO:tensorflow:Assets written to: model_7_epochs\\02-0.0034\\assets\n"
     ]
    },
    {
     "name": "stderr",
     "output_type": "stream",
     "text": [
      "INFO:tensorflow:Assets written to: model_7_epochs\\02-0.0034\\assets\n"
     ]
    },
    {
     "name": "stdout",
     "output_type": "stream",
     "text": [
      "1719/1719 [==============================] - 29s 17ms/step - loss: 0.0058 - root_mean_squared_error: 0.0763 - val_loss: 0.0034 - val_root_mean_squared_error: 0.0585\n",
      "Epoch 3/80\n",
      "1715/1719 [============================>.] - ETA: 0s - loss: 0.0039 - root_mean_squared_error: 0.0621"
     ]
    },
    {
     "name": "stderr",
     "output_type": "stream",
     "text": [
      "WARNING:absl:Found untraced functions such as lstm_cell_layer_call_fn, lstm_cell_layer_call_and_return_conditional_losses while saving (showing 2 of 2). These functions will not be directly callable after loading.\n"
     ]
    },
    {
     "name": "stdout",
     "output_type": "stream",
     "text": [
      "INFO:tensorflow:Assets written to: model_7_epochs\\03-0.0028\\assets\n"
     ]
    },
    {
     "name": "stderr",
     "output_type": "stream",
     "text": [
      "INFO:tensorflow:Assets written to: model_7_epochs\\03-0.0028\\assets\n"
     ]
    },
    {
     "name": "stdout",
     "output_type": "stream",
     "text": [
      "1719/1719 [==============================] - 26s 15ms/step - loss: 0.0039 - root_mean_squared_error: 0.0621 - val_loss: 0.0028 - val_root_mean_squared_error: 0.0526\n",
      "Epoch 4/80\n",
      "1716/1719 [============================>.] - ETA: 0s - loss: 0.0026 - root_mean_squared_error: 0.0511"
     ]
    },
    {
     "name": "stderr",
     "output_type": "stream",
     "text": [
      "WARNING:absl:Found untraced functions such as lstm_cell_layer_call_fn, lstm_cell_layer_call_and_return_conditional_losses while saving (showing 2 of 2). These functions will not be directly callable after loading.\n"
     ]
    },
    {
     "name": "stdout",
     "output_type": "stream",
     "text": [
      "INFO:tensorflow:Assets written to: model_7_epochs\\04-0.0027\\assets\n"
     ]
    },
    {
     "name": "stderr",
     "output_type": "stream",
     "text": [
      "INFO:tensorflow:Assets written to: model_7_epochs\\04-0.0027\\assets\n"
     ]
    },
    {
     "name": "stdout",
     "output_type": "stream",
     "text": [
      "1719/1719 [==============================] - 25s 14ms/step - loss: 0.0026 - root_mean_squared_error: 0.0511 - val_loss: 0.0027 - val_root_mean_squared_error: 0.0521\n",
      "Epoch 5/80\n",
      "1715/1719 [============================>.] - ETA: 0s - loss: 0.0018 - root_mean_squared_error: 0.0420"
     ]
    },
    {
     "name": "stderr",
     "output_type": "stream",
     "text": [
      "WARNING:absl:Found untraced functions such as lstm_cell_layer_call_fn, lstm_cell_layer_call_and_return_conditional_losses while saving (showing 2 of 2). These functions will not be directly callable after loading.\n"
     ]
    },
    {
     "name": "stdout",
     "output_type": "stream",
     "text": [
      "INFO:tensorflow:Assets written to: model_7_epochs\\05-0.0027\\assets\n"
     ]
    },
    {
     "name": "stderr",
     "output_type": "stream",
     "text": [
      "INFO:tensorflow:Assets written to: model_7_epochs\\05-0.0027\\assets\n"
     ]
    },
    {
     "name": "stdout",
     "output_type": "stream",
     "text": [
      "1719/1719 [==============================] - 24s 14ms/step - loss: 0.0018 - root_mean_squared_error: 0.0420 - val_loss: 0.0027 - val_root_mean_squared_error: 0.0519\n",
      "Epoch 6/80\n",
      "1719/1719 [==============================] - 20s 11ms/step - loss: 0.0013 - root_mean_squared_error: 0.0354 - val_loss: 0.0028 - val_root_mean_squared_error: 0.0531\n",
      "Epoch 7/80\n",
      "1719/1719 [==============================] - 19s 11ms/step - loss: 9.9617e-04 - root_mean_squared_error: 0.0316 - val_loss: 0.0035 - val_root_mean_squared_error: 0.0590\n",
      "Epoch 8/80\n",
      "1719/1719 [==============================] - ETA: 0s - loss: 8.7423e-04 - root_mean_squared_error: 0.0296"
     ]
    },
    {
     "name": "stderr",
     "output_type": "stream",
     "text": [
      "WARNING:absl:Found untraced functions such as lstm_cell_layer_call_fn, lstm_cell_layer_call_and_return_conditional_losses while saving (showing 2 of 2). These functions will not be directly callable after loading.\n"
     ]
    },
    {
     "name": "stdout",
     "output_type": "stream",
     "text": [
      "INFO:tensorflow:Assets written to: model_7_epochs\\08-0.0026\\assets\n"
     ]
    },
    {
     "name": "stderr",
     "output_type": "stream",
     "text": [
      "INFO:tensorflow:Assets written to: model_7_epochs\\08-0.0026\\assets\n"
     ]
    },
    {
     "name": "stdout",
     "output_type": "stream",
     "text": [
      "1719/1719 [==============================] - 25s 14ms/step - loss: 8.7423e-04 - root_mean_squared_error: 0.0296 - val_loss: 0.0026 - val_root_mean_squared_error: 0.0505\n",
      "Epoch 9/80\n",
      "1717/1719 [============================>.] - ETA: 0s - loss: 8.0932e-04 - root_mean_squared_error: 0.0284"
     ]
    },
    {
     "name": "stderr",
     "output_type": "stream",
     "text": [
      "WARNING:absl:Found untraced functions such as lstm_cell_layer_call_fn, lstm_cell_layer_call_and_return_conditional_losses while saving (showing 2 of 2). These functions will not be directly callable after loading.\n"
     ]
    },
    {
     "name": "stdout",
     "output_type": "stream",
     "text": [
      "INFO:tensorflow:Assets written to: model_7_epochs\\09-0.0025\\assets\n"
     ]
    },
    {
     "name": "stderr",
     "output_type": "stream",
     "text": [
      "INFO:tensorflow:Assets written to: model_7_epochs\\09-0.0025\\assets\n"
     ]
    },
    {
     "name": "stdout",
     "output_type": "stream",
     "text": [
      "1719/1719 [==============================] - 25s 14ms/step - loss: 8.0927e-04 - root_mean_squared_error: 0.0284 - val_loss: 0.0025 - val_root_mean_squared_error: 0.0500\n",
      "Epoch 10/80\n",
      "1719/1719 [==============================] - ETA: 0s - loss: 7.6579e-04 - root_mean_squared_error: 0.0277"
     ]
    },
    {
     "name": "stderr",
     "output_type": "stream",
     "text": [
      "WARNING:absl:Found untraced functions such as lstm_cell_layer_call_fn, lstm_cell_layer_call_and_return_conditional_losses while saving (showing 2 of 2). These functions will not be directly callable after loading.\n"
     ]
    },
    {
     "name": "stdout",
     "output_type": "stream",
     "text": [
      "INFO:tensorflow:Assets written to: model_7_epochs\\10-0.0024\\assets\n"
     ]
    },
    {
     "name": "stderr",
     "output_type": "stream",
     "text": [
      "INFO:tensorflow:Assets written to: model_7_epochs\\10-0.0024\\assets\n"
     ]
    },
    {
     "name": "stdout",
     "output_type": "stream",
     "text": [
      "1719/1719 [==============================] - 24s 14ms/step - loss: 7.6579e-04 - root_mean_squared_error: 0.0277 - val_loss: 0.0024 - val_root_mean_squared_error: 0.0487\n",
      "Epoch 11/80\n",
      "1717/1719 [============================>.] - ETA: 0s - loss: 7.3835e-04 - root_mean_squared_error: 0.0272"
     ]
    },
    {
     "name": "stderr",
     "output_type": "stream",
     "text": [
      "WARNING:absl:Found untraced functions such as lstm_cell_layer_call_fn, lstm_cell_layer_call_and_return_conditional_losses while saving (showing 2 of 2). These functions will not be directly callable after loading.\n"
     ]
    },
    {
     "name": "stdout",
     "output_type": "stream",
     "text": [
      "INFO:tensorflow:Assets written to: model_7_epochs\\11-0.0021\\assets\n"
     ]
    },
    {
     "name": "stderr",
     "output_type": "stream",
     "text": [
      "INFO:tensorflow:Assets written to: model_7_epochs\\11-0.0021\\assets\n"
     ]
    },
    {
     "name": "stdout",
     "output_type": "stream",
     "text": [
      "1719/1719 [==============================] - 25s 15ms/step - loss: 7.3840e-04 - root_mean_squared_error: 0.0272 - val_loss: 0.0021 - val_root_mean_squared_error: 0.0458\n",
      "Epoch 12/80\n",
      "1719/1719 [==============================] - 20s 12ms/step - loss: 7.1168e-04 - root_mean_squared_error: 0.0267 - val_loss: 0.0022 - val_root_mean_squared_error: 0.0469\n",
      "Epoch 13/80\n",
      "1719/1719 [==============================] - 20s 12ms/step - loss: 6.9100e-04 - root_mean_squared_error: 0.0263 - val_loss: 0.0023 - val_root_mean_squared_error: 0.0478\n",
      "Epoch 14/80\n",
      "1716/1719 [============================>.] - ETA: 0s - loss: 6.6511e-04 - root_mean_squared_error: 0.0258"
     ]
    },
    {
     "name": "stderr",
     "output_type": "stream",
     "text": [
      "WARNING:absl:Found untraced functions such as lstm_cell_layer_call_fn, lstm_cell_layer_call_and_return_conditional_losses while saving (showing 2 of 2). These functions will not be directly callable after loading.\n"
     ]
    },
    {
     "name": "stdout",
     "output_type": "stream",
     "text": [
      "INFO:tensorflow:Assets written to: model_7_epochs\\14-0.0020\\assets\n"
     ]
    },
    {
     "name": "stderr",
     "output_type": "stream",
     "text": [
      "INFO:tensorflow:Assets written to: model_7_epochs\\14-0.0020\\assets\n"
     ]
    },
    {
     "name": "stdout",
     "output_type": "stream",
     "text": [
      "1719/1719 [==============================] - 24s 14ms/step - loss: 6.6487e-04 - root_mean_squared_error: 0.0258 - val_loss: 0.0020 - val_root_mean_squared_error: 0.0443\n",
      "Epoch 15/80\n",
      "1719/1719 [==============================] - 20s 12ms/step - loss: 6.5282e-04 - root_mean_squared_error: 0.0256 - val_loss: 0.0021 - val_root_mean_squared_error: 0.0459\n",
      "Epoch 16/80\n",
      "1719/1719 [==============================] - ETA: 0s - loss: 6.3457e-04 - root_mean_squared_error: 0.0252"
     ]
    },
    {
     "name": "stderr",
     "output_type": "stream",
     "text": [
      "WARNING:absl:Found untraced functions such as lstm_cell_layer_call_fn, lstm_cell_layer_call_and_return_conditional_losses while saving (showing 2 of 2). These functions will not be directly callable after loading.\n"
     ]
    },
    {
     "name": "stdout",
     "output_type": "stream",
     "text": [
      "INFO:tensorflow:Assets written to: model_7_epochs\\16-0.0019\\assets\n"
     ]
    },
    {
     "name": "stderr",
     "output_type": "stream",
     "text": [
      "INFO:tensorflow:Assets written to: model_7_epochs\\16-0.0019\\assets\n"
     ]
    },
    {
     "name": "stdout",
     "output_type": "stream",
     "text": [
      "1719/1719 [==============================] - 24s 14ms/step - loss: 6.3457e-04 - root_mean_squared_error: 0.0252 - val_loss: 0.0019 - val_root_mean_squared_error: 0.0432\n",
      "Epoch 17/80\n",
      "1718/1719 [============================>.] - ETA: 0s - loss: 6.2721e-04 - root_mean_squared_error: 0.0250"
     ]
    },
    {
     "name": "stderr",
     "output_type": "stream",
     "text": [
      "WARNING:absl:Found untraced functions such as lstm_cell_layer_call_fn, lstm_cell_layer_call_and_return_conditional_losses while saving (showing 2 of 2). These functions will not be directly callable after loading.\n"
     ]
    },
    {
     "name": "stdout",
     "output_type": "stream",
     "text": [
      "INFO:tensorflow:Assets written to: model_7_epochs\\17-0.0017\\assets\n"
     ]
    },
    {
     "name": "stderr",
     "output_type": "stream",
     "text": [
      "INFO:tensorflow:Assets written to: model_7_epochs\\17-0.0017\\assets\n"
     ]
    },
    {
     "name": "stdout",
     "output_type": "stream",
     "text": [
      "1719/1719 [==============================] - 28s 16ms/step - loss: 6.2717e-04 - root_mean_squared_error: 0.0250 - val_loss: 0.0017 - val_root_mean_squared_error: 0.0413\n",
      "Epoch 18/80\n",
      "1719/1719 [==============================] - 19s 11ms/step - loss: 6.1350e-04 - root_mean_squared_error: 0.0248 - val_loss: 0.0021 - val_root_mean_squared_error: 0.0457\n",
      "Epoch 19/80\n",
      "1719/1719 [==============================] - 23s 13ms/step - loss: 5.9719e-04 - root_mean_squared_error: 0.0244 - val_loss: 0.0020 - val_root_mean_squared_error: 0.0443\n",
      "Epoch 20/80\n",
      "1719/1719 [==============================] - 22s 13ms/step - loss: 5.8503e-04 - root_mean_squared_error: 0.0242 - val_loss: 0.0019 - val_root_mean_squared_error: 0.0431\n",
      "Epoch 21/80\n",
      "1719/1719 [==============================] - 23s 13ms/step - loss: 5.7597e-04 - root_mean_squared_error: 0.0240 - val_loss: 0.0017 - val_root_mean_squared_error: 0.0415\n",
      "Epoch 22/80\n",
      "1719/1719 [==============================] - 22s 13ms/step - loss: 5.6761e-04 - root_mean_squared_error: 0.0238 - val_loss: 0.0018 - val_root_mean_squared_error: 0.0423\n",
      "Epoch 23/80\n",
      "1719/1719 [==============================] - 24s 14ms/step - loss: 5.4730e-04 - root_mean_squared_error: 0.0234 - val_loss: 0.0019 - val_root_mean_squared_error: 0.0435\n",
      "Epoch 24/80\n",
      "1719/1719 [==============================] - ETA: 0s - loss: 5.4504e-04 - root_mean_squared_error: 0.0233"
     ]
    },
    {
     "name": "stderr",
     "output_type": "stream",
     "text": [
      "WARNING:absl:Found untraced functions such as lstm_cell_layer_call_fn, lstm_cell_layer_call_and_return_conditional_losses while saving (showing 2 of 2). These functions will not be directly callable after loading.\n"
     ]
    },
    {
     "name": "stdout",
     "output_type": "stream",
     "text": [
      "INFO:tensorflow:Assets written to: model_7_epochs\\24-0.0016\\assets\n"
     ]
    },
    {
     "name": "stderr",
     "output_type": "stream",
     "text": [
      "INFO:tensorflow:Assets written to: model_7_epochs\\24-0.0016\\assets\n"
     ]
    },
    {
     "name": "stdout",
     "output_type": "stream",
     "text": [
      "1719/1719 [==============================] - 30s 18ms/step - loss: 5.4504e-04 - root_mean_squared_error: 0.0233 - val_loss: 0.0016 - val_root_mean_squared_error: 0.0401\n",
      "Epoch 25/80\n",
      "1719/1719 [==============================] - 22s 13ms/step - loss: 5.3341e-04 - root_mean_squared_error: 0.0231 - val_loss: 0.0018 - val_root_mean_squared_error: 0.0429\n",
      "Epoch 26/80\n",
      "1719/1719 [==============================] - 24s 14ms/step - loss: 5.2470e-04 - root_mean_squared_error: 0.0229 - val_loss: 0.0016 - val_root_mean_squared_error: 0.0403\n",
      "Epoch 27/80\n",
      "1719/1719 [==============================] - 22s 13ms/step - loss: 5.1506e-04 - root_mean_squared_error: 0.0227 - val_loss: 0.0017 - val_root_mean_squared_error: 0.0408\n",
      "Epoch 28/80\n",
      "1719/1719 [==============================] - 25s 15ms/step - loss: 5.0860e-04 - root_mean_squared_error: 0.0226 - val_loss: 0.0017 - val_root_mean_squared_error: 0.0411\n",
      "Epoch 29/80\n",
      "1718/1719 [============================>.] - ETA: 0s - loss: 4.9827e-04 - root_mean_squared_error: 0.0223"
     ]
    },
    {
     "name": "stderr",
     "output_type": "stream",
     "text": [
      "WARNING:absl:Found untraced functions such as lstm_cell_layer_call_fn, lstm_cell_layer_call_and_return_conditional_losses while saving (showing 2 of 2). These functions will not be directly callable after loading.\n"
     ]
    },
    {
     "name": "stdout",
     "output_type": "stream",
     "text": [
      "INFO:tensorflow:Assets written to: model_7_epochs\\29-0.0016\\assets\n"
     ]
    },
    {
     "name": "stderr",
     "output_type": "stream",
     "text": [
      "INFO:tensorflow:Assets written to: model_7_epochs\\29-0.0016\\assets\n"
     ]
    },
    {
     "name": "stdout",
     "output_type": "stream",
     "text": [
      "1719/1719 [==============================] - 36s 21ms/step - loss: 4.9828e-04 - root_mean_squared_error: 0.0223 - val_loss: 0.0016 - val_root_mean_squared_error: 0.0394\n",
      "Epoch 30/80\n",
      "1719/1719 [==============================] - 23s 14ms/step - loss: 4.9419e-04 - root_mean_squared_error: 0.0222 - val_loss: 0.0016 - val_root_mean_squared_error: 0.0395\n",
      "Epoch 31/80\n",
      "1719/1719 [==============================] - 22s 13ms/step - loss: 4.8679e-04 - root_mean_squared_error: 0.0221 - val_loss: 0.0019 - val_root_mean_squared_error: 0.0437\n",
      "Epoch 32/80\n",
      "1718/1719 [============================>.] - ETA: 0s - loss: 4.7915e-04 - root_mean_squared_error: 0.0219"
     ]
    },
    {
     "name": "stderr",
     "output_type": "stream",
     "text": [
      "WARNING:absl:Found untraced functions such as lstm_cell_layer_call_fn, lstm_cell_layer_call_and_return_conditional_losses while saving (showing 2 of 2). These functions will not be directly callable after loading.\n"
     ]
    },
    {
     "name": "stdout",
     "output_type": "stream",
     "text": [
      "INFO:tensorflow:Assets written to: model_7_epochs\\32-0.0015\\assets\n"
     ]
    },
    {
     "name": "stderr",
     "output_type": "stream",
     "text": [
      "INFO:tensorflow:Assets written to: model_7_epochs\\32-0.0015\\assets\n"
     ]
    },
    {
     "name": "stdout",
     "output_type": "stream",
     "text": [
      "1719/1719 [==============================] - 29s 17ms/step - loss: 4.7918e-04 - root_mean_squared_error: 0.0219 - val_loss: 0.0015 - val_root_mean_squared_error: 0.0393\n",
      "Epoch 33/80\n",
      "1716/1719 [============================>.] - ETA: 0s - loss: 4.6497e-04 - root_mean_squared_error: 0.0216"
     ]
    },
    {
     "name": "stderr",
     "output_type": "stream",
     "text": [
      "WARNING:absl:Found untraced functions such as lstm_cell_layer_call_fn, lstm_cell_layer_call_and_return_conditional_losses while saving (showing 2 of 2). These functions will not be directly callable after loading.\n"
     ]
    },
    {
     "name": "stdout",
     "output_type": "stream",
     "text": [
      "INFO:tensorflow:Assets written to: model_7_epochs\\33-0.0015\\assets\n"
     ]
    },
    {
     "name": "stderr",
     "output_type": "stream",
     "text": [
      "INFO:tensorflow:Assets written to: model_7_epochs\\33-0.0015\\assets\n"
     ]
    },
    {
     "name": "stdout",
     "output_type": "stream",
     "text": [
      "1719/1719 [==============================] - 30s 17ms/step - loss: 4.6486e-04 - root_mean_squared_error: 0.0216 - val_loss: 0.0015 - val_root_mean_squared_error: 0.0393\n",
      "Epoch 34/80\n",
      "1715/1719 [============================>.] - ETA: 0s - loss: 4.6314e-04 - root_mean_squared_error: 0.0215"
     ]
    },
    {
     "name": "stderr",
     "output_type": "stream",
     "text": [
      "WARNING:absl:Found untraced functions such as lstm_cell_layer_call_fn, lstm_cell_layer_call_and_return_conditional_losses while saving (showing 2 of 2). These functions will not be directly callable after loading.\n"
     ]
    },
    {
     "name": "stdout",
     "output_type": "stream",
     "text": [
      "INFO:tensorflow:Assets written to: model_7_epochs\\34-0.0015\\assets\n"
     ]
    },
    {
     "name": "stderr",
     "output_type": "stream",
     "text": [
      "INFO:tensorflow:Assets written to: model_7_epochs\\34-0.0015\\assets\n"
     ]
    },
    {
     "name": "stdout",
     "output_type": "stream",
     "text": [
      "1719/1719 [==============================] - 34s 20ms/step - loss: 4.6338e-04 - root_mean_squared_error: 0.0215 - val_loss: 0.0015 - val_root_mean_squared_error: 0.0389\n",
      "Epoch 35/80\n",
      "1719/1719 [==============================] - 24s 14ms/step - loss: 4.5551e-04 - root_mean_squared_error: 0.0213 - val_loss: 0.0016 - val_root_mean_squared_error: 0.0394\n",
      "Epoch 36/80\n",
      "1719/1719 [==============================] - ETA: 0s - loss: 4.4525e-04 - root_mean_squared_error: 0.0211"
     ]
    },
    {
     "name": "stderr",
     "output_type": "stream",
     "text": [
      "WARNING:absl:Found untraced functions such as lstm_cell_layer_call_fn, lstm_cell_layer_call_and_return_conditional_losses while saving (showing 2 of 2). These functions will not be directly callable after loading.\n"
     ]
    },
    {
     "name": "stdout",
     "output_type": "stream",
     "text": [
      "INFO:tensorflow:Assets written to: model_7_epochs\\36-0.0014\\assets\n"
     ]
    },
    {
     "name": "stderr",
     "output_type": "stream",
     "text": [
      "INFO:tensorflow:Assets written to: model_7_epochs\\36-0.0014\\assets\n"
     ]
    },
    {
     "name": "stdout",
     "output_type": "stream",
     "text": [
      "1719/1719 [==============================] - 32s 19ms/step - loss: 4.4525e-04 - root_mean_squared_error: 0.0211 - val_loss: 0.0014 - val_root_mean_squared_error: 0.0374\n",
      "Epoch 37/80\n",
      "1719/1719 [==============================] - 23s 14ms/step - loss: 4.4479e-04 - root_mean_squared_error: 0.0211 - val_loss: 0.0016 - val_root_mean_squared_error: 0.0399\n",
      "Epoch 38/80\n",
      "1719/1719 [==============================] - 25s 15ms/step - loss: 4.3368e-04 - root_mean_squared_error: 0.0208 - val_loss: 0.0015 - val_root_mean_squared_error: 0.0386\n",
      "Epoch 39/80\n",
      "1719/1719 [==============================] - 25s 14ms/step - loss: 4.3230e-04 - root_mean_squared_error: 0.0208 - val_loss: 0.0015 - val_root_mean_squared_error: 0.0390\n",
      "Epoch 40/80\n",
      "1719/1719 [==============================] - 29s 17ms/step - loss: 4.2566e-04 - root_mean_squared_error: 0.0206 - val_loss: 0.0016 - val_root_mean_squared_error: 0.0405\n",
      "Epoch 41/80\n",
      "1719/1719 [==============================] - 31s 18ms/step - loss: 4.2258e-04 - root_mean_squared_error: 0.0206 - val_loss: 0.0015 - val_root_mean_squared_error: 0.0390\n",
      "Epoch 42/80\n",
      "1715/1719 [============================>.] - ETA: 0s - loss: 4.1378e-04 - root_mean_squared_error: 0.0203"
     ]
    },
    {
     "name": "stderr",
     "output_type": "stream",
     "text": [
      "WARNING:absl:Found untraced functions such as lstm_cell_layer_call_fn, lstm_cell_layer_call_and_return_conditional_losses while saving (showing 2 of 2). These functions will not be directly callable after loading.\n"
     ]
    },
    {
     "name": "stdout",
     "output_type": "stream",
     "text": [
      "INFO:tensorflow:Assets written to: model_7_epochs\\42-0.0014\\assets\n"
     ]
    },
    {
     "name": "stderr",
     "output_type": "stream",
     "text": [
      "INFO:tensorflow:Assets written to: model_7_epochs\\42-0.0014\\assets\n"
     ]
    },
    {
     "name": "stdout",
     "output_type": "stream",
     "text": [
      "1719/1719 [==============================] - 33s 19ms/step - loss: 4.1370e-04 - root_mean_squared_error: 0.0203 - val_loss: 0.0014 - val_root_mean_squared_error: 0.0369\n",
      "Epoch 43/80\n",
      "1719/1719 [==============================] - 30s 18ms/step - loss: 4.0694e-04 - root_mean_squared_error: 0.0202 - val_loss: 0.0015 - val_root_mean_squared_error: 0.0390\n",
      "Epoch 44/80\n",
      "1719/1719 [==============================] - 29s 17ms/step - loss: 4.0528e-04 - root_mean_squared_error: 0.0201 - val_loss: 0.0014 - val_root_mean_squared_error: 0.0378\n",
      "Epoch 45/80\n",
      "1719/1719 [==============================] - 32s 19ms/step - loss: 4.0259e-04 - root_mean_squared_error: 0.0201 - val_loss: 0.0017 - val_root_mean_squared_error: 0.0411\n",
      "Epoch 46/80\n",
      "1719/1719 [==============================] - 37s 21ms/step - loss: 3.9736e-04 - root_mean_squared_error: 0.0199 - val_loss: 0.0015 - val_root_mean_squared_error: 0.0387\n",
      "Epoch 47/80\n",
      "1719/1719 [==============================] - 31s 18ms/step - loss: 3.9249e-04 - root_mean_squared_error: 0.0198 - val_loss: 0.0017 - val_root_mean_squared_error: 0.0412\n",
      "Epoch 48/80\n",
      "1719/1719 [==============================] - 27s 15ms/step - loss: 3.8668e-04 - root_mean_squared_error: 0.0197 - val_loss: 0.0016 - val_root_mean_squared_error: 0.0406\n",
      "Epoch 49/80\n",
      "1719/1719 [==============================] - 31s 18ms/step - loss: 3.8821e-04 - root_mean_squared_error: 0.0197 - val_loss: 0.0017 - val_root_mean_squared_error: 0.0411\n",
      "Epoch 50/80\n",
      "1719/1719 [==============================] - 29s 17ms/step - loss: 3.8034e-04 - root_mean_squared_error: 0.0195 - val_loss: 0.0018 - val_root_mean_squared_error: 0.0422\n",
      "Epoch 51/80\n",
      "1719/1719 [==============================] - 31s 18ms/step - loss: 3.7752e-04 - root_mean_squared_error: 0.0194 - val_loss: 0.0018 - val_root_mean_squared_error: 0.0418\n",
      "Epoch 52/80\n",
      "1719/1719 [==============================] - 33s 19ms/step - loss: 3.7250e-04 - root_mean_squared_error: 0.0193 - val_loss: 0.0015 - val_root_mean_squared_error: 0.0392\n",
      "Epoch 53/80\n",
      "1719/1719 [==============================] - 29s 17ms/step - loss: 3.6983e-04 - root_mean_squared_error: 0.0192 - val_loss: 0.0016 - val_root_mean_squared_error: 0.0406\n",
      "Epoch 54/80\n",
      "1719/1719 [==============================] - 29s 17ms/step - loss: 3.6731e-04 - root_mean_squared_error: 0.0192 - val_loss: 0.0018 - val_root_mean_squared_error: 0.0420\n",
      "Epoch 55/80\n",
      "1719/1719 [==============================] - 30s 18ms/step - loss: 3.6178e-04 - root_mean_squared_error: 0.0190 - val_loss: 0.0017 - val_root_mean_squared_error: 0.0409\n",
      "Epoch 56/80\n",
      "1719/1719 [==============================] - 38s 22ms/step - loss: 3.5973e-04 - root_mean_squared_error: 0.0190 - val_loss: 0.0017 - val_root_mean_squared_error: 0.0412\n",
      "Epoch 57/80\n",
      "1719/1719 [==============================] - 34s 20ms/step - loss: 3.5482e-04 - root_mean_squared_error: 0.0188 - val_loss: 0.0017 - val_root_mean_squared_error: 0.0409\n",
      "Epoch 58/80\n",
      "1719/1719 [==============================] - 32s 19ms/step - loss: 3.5791e-04 - root_mean_squared_error: 0.0189 - val_loss: 0.0017 - val_root_mean_squared_error: 0.0417\n",
      "Epoch 59/80\n",
      "1719/1719 [==============================] - 32s 18ms/step - loss: 3.5111e-04 - root_mean_squared_error: 0.0187 - val_loss: 0.0016 - val_root_mean_squared_error: 0.0404\n",
      "Epoch 60/80\n",
      "1719/1719 [==============================] - 37s 21ms/step - loss: 3.4895e-04 - root_mean_squared_error: 0.0187 - val_loss: 0.0019 - val_root_mean_squared_error: 0.0430\n",
      "Epoch 61/80\n",
      "1719/1719 [==============================] - 38s 22ms/step - loss: 3.4593e-04 - root_mean_squared_error: 0.0186 - val_loss: 0.0018 - val_root_mean_squared_error: 0.0427\n",
      "Epoch 62/80\n",
      "1719/1719 [==============================] - 35s 20ms/step - loss: 3.4184e-04 - root_mean_squared_error: 0.0185 - val_loss: 0.0020 - val_root_mean_squared_error: 0.0445\n",
      "Epoch 63/80\n",
      "1719/1719 [==============================] - 31s 18ms/step - loss: 3.3373e-04 - root_mean_squared_error: 0.0183 - val_loss: 0.0018 - val_root_mean_squared_error: 0.0424\n",
      "Epoch 64/80\n",
      "1719/1719 [==============================] - 40s 23ms/step - loss: 3.3621e-04 - root_mean_squared_error: 0.0183 - val_loss: 0.0018 - val_root_mean_squared_error: 0.0427\n",
      "Epoch 65/80\n",
      "1719/1719 [==============================] - 31s 18ms/step - loss: 3.3260e-04 - root_mean_squared_error: 0.0182 - val_loss: 0.0020 - val_root_mean_squared_error: 0.0445\n",
      "Epoch 66/80\n",
      "1719/1719 [==============================] - 36s 21ms/step - loss: 3.3196e-04 - root_mean_squared_error: 0.0182 - val_loss: 0.0020 - val_root_mean_squared_error: 0.0445\n",
      "Epoch 67/80\n",
      "1719/1719 [==============================] - 38s 22ms/step - loss: 3.2445e-04 - root_mean_squared_error: 0.0180 - val_loss: 0.0019 - val_root_mean_squared_error: 0.0432\n",
      "Epoch 68/80\n",
      "1719/1719 [==============================] - 33s 19ms/step - loss: 3.2669e-04 - root_mean_squared_error: 0.0181 - val_loss: 0.0019 - val_root_mean_squared_error: 0.0438\n",
      "Epoch 69/80\n",
      "1719/1719 [==============================] - 40s 23ms/step - loss: 3.2337e-04 - root_mean_squared_error: 0.0180 - val_loss: 0.0021 - val_root_mean_squared_error: 0.0460\n",
      "Epoch 70/80\n",
      "1719/1719 [==============================] - 41s 24ms/step - loss: 3.1763e-04 - root_mean_squared_error: 0.0178 - val_loss: 0.0020 - val_root_mean_squared_error: 0.0445\n",
      "Epoch 71/80\n",
      "1719/1719 [==============================] - 35s 21ms/step - loss: 3.1269e-04 - root_mean_squared_error: 0.0177 - val_loss: 0.0018 - val_root_mean_squared_error: 0.0429\n",
      "Epoch 72/80\n",
      "1719/1719 [==============================] - 41s 24ms/step - loss: 3.1692e-04 - root_mean_squared_error: 0.0178 - val_loss: 0.0019 - val_root_mean_squared_error: 0.0437\n",
      "Epoch 73/80\n",
      "1719/1719 [==============================] - 32s 19ms/step - loss: 3.0981e-04 - root_mean_squared_error: 0.0176 - val_loss: 0.0021 - val_root_mean_squared_error: 0.0458\n",
      "Epoch 74/80\n",
      "1719/1719 [==============================] - 30s 18ms/step - loss: 3.0521e-04 - root_mean_squared_error: 0.0175 - val_loss: 0.0019 - val_root_mean_squared_error: 0.0436\n",
      "Epoch 75/80\n",
      "1719/1719 [==============================] - 39s 23ms/step - loss: 3.0679e-04 - root_mean_squared_error: 0.0175 - val_loss: 0.0019 - val_root_mean_squared_error: 0.0436\n",
      "Epoch 76/80\n",
      "1719/1719 [==============================] - 29s 17ms/step - loss: 3.0183e-04 - root_mean_squared_error: 0.0174 - val_loss: 0.0020 - val_root_mean_squared_error: 0.0448\n",
      "Epoch 77/80\n",
      "1719/1719 [==============================] - 32s 19ms/step - loss: 2.9790e-04 - root_mean_squared_error: 0.0173 - val_loss: 0.0020 - val_root_mean_squared_error: 0.0442\n",
      "Epoch 78/80\n",
      "1719/1719 [==============================] - 34s 20ms/step - loss: 2.9436e-04 - root_mean_squared_error: 0.0172 - val_loss: 0.0021 - val_root_mean_squared_error: 0.0454\n",
      "Epoch 79/80\n",
      "1719/1719 [==============================] - 42s 25ms/step - loss: 2.9330e-04 - root_mean_squared_error: 0.0171 - val_loss: 0.0022 - val_root_mean_squared_error: 0.0464\n",
      "Epoch 80/80\n",
      "1719/1719 [==============================] - 37s 22ms/step - loss: 2.8856e-04 - root_mean_squared_error: 0.0170 - val_loss: 0.0019 - val_root_mean_squared_error: 0.0439\n"
     ]
    }
   ],
   "source": [
    "history_object_7_epochs = model_7.fit(min_max_normalized_X_train, min_max_normalized_y_train, validation_data=(min_max_normalized_X_val, min_max_normalized_y_val), epochs=80, callbacks=[cp_7_epochs], batch_size=32)"
   ]
  },
  {
   "cell_type": "markdown",
   "metadata": {},
   "source": [
    "### Сохранение History Object после обучения"
   ]
  },
  {
   "cell_type": "code",
   "execution_count": 20,
   "metadata": {},
   "outputs": [],
   "source": [
    "# convert the history.history dict to a pandas DataFrame:     \n",
    "hist_df = pd.DataFrame(history_object_7_epochs.history)  \n",
    "\n",
    "# save to csv: \n",
    "hist_csv_file = 'history_7_epochs.csv'\n",
    "with open(hist_csv_file, mode='w') as f:\n",
    "    hist_df.to_csv(f)"
   ]
  },
  {
   "cell_type": "markdown",
   "metadata": {},
   "source": [
    "### Загрузка loaded_hist_df обученной 7 модели"
   ]
  },
  {
   "cell_type": "code",
   "execution_count": 97,
   "metadata": {},
   "outputs": [
    {
     "data": {
      "text/html": [
       "<div>\n",
       "<style scoped>\n",
       "    .dataframe tbody tr th:only-of-type {\n",
       "        vertical-align: middle;\n",
       "    }\n",
       "\n",
       "    .dataframe tbody tr th {\n",
       "        vertical-align: top;\n",
       "    }\n",
       "\n",
       "    .dataframe thead th {\n",
       "        text-align: right;\n",
       "    }\n",
       "</style>\n",
       "<table border=\"1\" class=\"dataframe\">\n",
       "  <thead>\n",
       "    <tr style=\"text-align: right;\">\n",
       "      <th></th>\n",
       "      <th>№ эпохи</th>\n",
       "      <th>Train Loss</th>\n",
       "      <th>Train RMSE</th>\n",
       "      <th>Val Loss</th>\n",
       "      <th>Val RMSE</th>\n",
       "    </tr>\n",
       "  </thead>\n",
       "  <tbody>\n",
       "    <tr>\n",
       "      <th>0</th>\n",
       "      <td>0</td>\n",
       "      <td>0.019159</td>\n",
       "      <td>0.138417</td>\n",
       "      <td>0.004806</td>\n",
       "      <td>0.069326</td>\n",
       "    </tr>\n",
       "    <tr>\n",
       "      <th>1</th>\n",
       "      <td>1</td>\n",
       "      <td>0.005818</td>\n",
       "      <td>0.076276</td>\n",
       "      <td>0.003425</td>\n",
       "      <td>0.058522</td>\n",
       "    </tr>\n",
       "    <tr>\n",
       "      <th>2</th>\n",
       "      <td>2</td>\n",
       "      <td>0.003854</td>\n",
       "      <td>0.062079</td>\n",
       "      <td>0.002767</td>\n",
       "      <td>0.052600</td>\n",
       "    </tr>\n",
       "    <tr>\n",
       "      <th>3</th>\n",
       "      <td>3</td>\n",
       "      <td>0.002616</td>\n",
       "      <td>0.051143</td>\n",
       "      <td>0.002712</td>\n",
       "      <td>0.052081</td>\n",
       "    </tr>\n",
       "    <tr>\n",
       "      <th>4</th>\n",
       "      <td>4</td>\n",
       "      <td>0.001763</td>\n",
       "      <td>0.041991</td>\n",
       "      <td>0.002697</td>\n",
       "      <td>0.051937</td>\n",
       "    </tr>\n",
       "    <tr>\n",
       "      <th>...</th>\n",
       "      <td>...</td>\n",
       "      <td>...</td>\n",
       "      <td>...</td>\n",
       "      <td>...</td>\n",
       "      <td>...</td>\n",
       "    </tr>\n",
       "    <tr>\n",
       "      <th>75</th>\n",
       "      <td>75</td>\n",
       "      <td>0.000302</td>\n",
       "      <td>0.017373</td>\n",
       "      <td>0.002003</td>\n",
       "      <td>0.044757</td>\n",
       "    </tr>\n",
       "    <tr>\n",
       "      <th>76</th>\n",
       "      <td>76</td>\n",
       "      <td>0.000298</td>\n",
       "      <td>0.017260</td>\n",
       "      <td>0.001957</td>\n",
       "      <td>0.044235</td>\n",
       "    </tr>\n",
       "    <tr>\n",
       "      <th>77</th>\n",
       "      <td>77</td>\n",
       "      <td>0.000294</td>\n",
       "      <td>0.017157</td>\n",
       "      <td>0.002060</td>\n",
       "      <td>0.045390</td>\n",
       "    </tr>\n",
       "    <tr>\n",
       "      <th>78</th>\n",
       "      <td>78</td>\n",
       "      <td>0.000293</td>\n",
       "      <td>0.017126</td>\n",
       "      <td>0.002151</td>\n",
       "      <td>0.046382</td>\n",
       "    </tr>\n",
       "    <tr>\n",
       "      <th>79</th>\n",
       "      <td>79</td>\n",
       "      <td>0.000289</td>\n",
       "      <td>0.016987</td>\n",
       "      <td>0.001931</td>\n",
       "      <td>0.043943</td>\n",
       "    </tr>\n",
       "  </tbody>\n",
       "</table>\n",
       "<p>80 rows × 5 columns</p>\n",
       "</div>"
      ],
      "text/plain": [
       "    № эпохи  Train Loss  Train RMSE  Val Loss  Val RMSE\n",
       "0         0    0.019159    0.138417  0.004806  0.069326\n",
       "1         1    0.005818    0.076276  0.003425  0.058522\n",
       "2         2    0.003854    0.062079  0.002767  0.052600\n",
       "3         3    0.002616    0.051143  0.002712  0.052081\n",
       "4         4    0.001763    0.041991  0.002697  0.051937\n",
       "..      ...         ...         ...       ...       ...\n",
       "75       75    0.000302    0.017373  0.002003  0.044757\n",
       "76       76    0.000298    0.017260  0.001957  0.044235\n",
       "77       77    0.000294    0.017157  0.002060  0.045390\n",
       "78       78    0.000293    0.017126  0.002151  0.046382\n",
       "79       79    0.000289    0.016987  0.001931  0.043943\n",
       "\n",
       "[80 rows x 5 columns]"
      ]
     },
     "execution_count": 97,
     "metadata": {},
     "output_type": "execute_result"
    }
   ],
   "source": [
    "loaded_hist_df = pd.read_csv(\"history_7_epochs.csv\")\n",
    "loaded_hist_df = loaded_hist_df.rename(columns={\n",
    "    'Unnamed: 0' : '№ эпохи',\n",
    "    'loss' : 'Train Loss',\n",
    "    'root_mean_squared_error' : 'Train RMSE',\n",
    "    'val_loss' : 'Val Loss',\n",
    "    'val_root_mean_squared_error' : 'Val RMSE'\n",
    "})\n",
    "loaded_hist_df"
   ]
  },
  {
   "cell_type": "markdown",
   "metadata": {},
   "source": [
    "### Загрузка 7_epochs модели (для Графиков прогнозов / реальных данных)\n",
    "##### *Графики ошибок строятся по History Object"
   ]
  },
  {
   "cell_type": "code",
   "execution_count": 88,
   "metadata": {},
   "outputs": [
    {
     "name": "stdout",
     "output_type": "stream",
     "text": [
      "Model: \"sequential\"\n",
      "_________________________________________________________________\n",
      " Layer (type)                Output Shape              Param #   \n",
      "=================================================================\n",
      " lstm (LSTM)                 (None, 128)               73216     \n",
      "                                                                 \n",
      " dropout (Dropout)           (None, 128)               0         \n",
      "                                                                 \n",
      " dense (Dense)               (None, 16)                2064      \n",
      "                                                                 \n",
      " dense_1 (Dense)             (None, 4)                 68        \n",
      "                                                                 \n",
      "=================================================================\n",
      "Total params: 75,348\n",
      "Trainable params: 75,348\n",
      "Non-trainable params: 0\n",
      "_________________________________________________________________\n"
     ]
    }
   ],
   "source": [
    "refresh_model_7_epochs = tf.keras.models.load_model('model_7_epochs/42-0.0014')\n",
    "refresh_model_7_epochs.summary()"
   ]
  },
  {
   "cell_type": "markdown",
   "metadata": {},
   "source": [
    "### Диаграмма обученной модели"
   ]
  },
  {
   "cell_type": "code",
   "execution_count": 20,
   "metadata": {},
   "outputs": [
    {
     "data": {
      "text/plain": [
       "<module 'keras.utils.vis_utils' from 'd:\\\\miniconda3\\\\envs\\\\tf\\\\lib\\\\site-packages\\\\keras\\\\utils\\\\vis_utils.py'>"
      ]
     },
     "execution_count": 20,
     "metadata": {},
     "output_type": "execute_result"
    }
   ],
   "source": [
    "import keras.utils.vis_utils\n",
    "from tensorflow.keras.utils import plot_model\n",
    "from importlib import reload\n",
    "reload(keras.utils.vis_utils)"
   ]
  },
  {
   "cell_type": "code",
   "execution_count": 52,
   "metadata": {},
   "outputs": [
    {
     "data": {
      "image/png": "[encoded data removed]",
      "text/plain": [
       "<IPython.core.display.Image object>"
      ]
     },
     "execution_count": 52,
     "metadata": {},
     "output_type": "execute_result"
    }
   ],
   "source": [
    "plot_model(refresh_model_7_epochs, show_shapes=True, to_file='D:\\PythonProjects\\Diplom\\diagrams\\LSTM_MinMax_80_epochs.png')"
   ]
  },
  {
   "cell_type": "markdown",
   "metadata": {},
   "source": [
    "### Predict по загруженной модели"
   ]
  },
  {
   "cell_type": "code",
   "execution_count": 91,
   "metadata": {},
   "outputs": [
    {
     "name": "stdout",
     "output_type": "stream",
     "text": [
      "325/325 [==============================] - 10s 11ms/step\n"
     ]
    }
   ],
   "source": [
    "normalized_predictions_7_epochs = get_normalized_predictions(refresh_model_7_epochs, min_max_normalized_X_test)"
   ]
  },
  {
   "cell_type": "markdown",
   "metadata": {},
   "source": [
    "### Функция plot_errors() по загруженному History Object"
   ]
  },
  {
   "cell_type": "code",
   "execution_count": 98,
   "metadata": {},
   "outputs": [],
   "source": [
    "def plot_errors_2(hist_df):\n",
    "  fig = plt.figure(figsize=[8, 3])\n",
    "  ax1 = plt.subplot(1, 2, 1)\n",
    "  plt.grid()\n",
    "  plt.title('Зависимость MSE от № эпохи')\n",
    "  plt.xlabel('№ эпохи')\n",
    "  plt.ylabel('Значение loss')\n",
    "  ax1.set_ylim(0.000, 0.005)\n",
    "  line2 = plt.plot(hist_df['Train Loss'], 'blue')\n",
    "  line = plt.plot(hist_df['Val Loss'], 'green')\n",
    "  plt.legend([line2, line], labels=['На тренировочных','На валидационных',], loc='upper right')\n",
    "\n",
    "  ax2 = plt.subplot(1, 2, 2)\n",
    "  plt.grid()\n",
    "\n",
    "  plt.title('Значение RMSE в градусах - 4.03°')\n",
    "  plt.xlabel('№ эпохи')\n",
    "  plt.ylabel('Значение RMSE')\n",
    "  plt.yticks([i*0.01 for i in range(7)])\n",
    "  ax2.set_ylim(0.00, 0.062)\n",
    "  plt.plot(hist_df['Train RMSE'], 'blue')\n",
    "  plt.plot(hist_df['Val RMSE'], 'green')\n",
    "  plt.legend([line2, line], labels=['На тренировочных','На валидационных',], loc='lower right')\n",
    "\n",
    "  plt.subplots_adjust(wspace=0.4)"
   ]
  },
  {
   "cell_type": "markdown",
   "metadata": {},
   "source": [
    "### Построение графика ошибок val_RMSE и val_loss "
   ]
  },
  {
   "cell_type": "code",
   "execution_count": 99,
   "metadata": {},
   "outputs": [
    {
     "name": "stderr",
     "output_type": "stream",
     "text": [
      "C:\\Users\\660\\AppData\\Local\\Temp\\ipykernel_16276\\2176664706.py:11: UserWarning: You have mixed positional and keyword arguments, some input may be discarded.\n",
      "  plt.legend([line2, line], labels=['На тренировочных','На валидационных',], loc='upper right')\n",
      "C:\\Users\\660\\AppData\\Local\\Temp\\ipykernel_16276\\2176664706.py:23: UserWarning: You have mixed positional and keyword arguments, some input may be discarded.\n",
      "  plt.legend([line2, line], labels=['На тренировочных','На валидационных',], loc='lower right')\n"
     ]
    },
    {
     "data": {
      "image/png": "[encoded data removed]",
      "text/plain": [
       "<Figure size 800x300 with 2 Axes>"
      ]
     },
     "metadata": {},
     "output_type": "display_data"
    }
   ],
   "source": [
    "plot_errors_2(loaded_hist_df)"
   ]
  },
  {
   "cell_type": "markdown",
   "metadata": {},
   "source": [
    "### График прогнозов по нормализованным данным"
   ]
  },
  {
   "cell_type": "code",
   "execution_count": 28,
   "metadata": {},
   "outputs": [
    {
     "data": {
      "text/plain": [
       "0.05666839723549725"
      ]
     },
     "execution_count": 28,
     "metadata": {},
     "output_type": "execute_result"
    }
   ],
   "source": [
    "rmse(normalized_predictions_7_epochs, min_max_normalized_y_test)"
   ]
  },
  {
   "cell_type": "code",
   "execution_count": 96,
   "metadata": {},
   "outputs": [
    {
     "name": "stderr",
     "output_type": "stream",
     "text": [
      "C:\\Users\\660\\AppData\\Local\\Temp\\ipykernel_16276\\1194250980.py:60: UserWarning: You have mixed positional and keyword arguments, some input may be discarded.\n",
      "  fig.legend([l1, l2], labels=['Прогнозируемые значения', 'Истинные значения'], loc=\"center\")\n"
     ]
    },
    {
     "data": {
      "text/html": [
       "<div>\n",
       "<style scoped>\n",
       "    .dataframe tbody tr th:only-of-type {\n",
       "        vertical-align: middle;\n",
       "    }\n",
       "\n",
       "    .dataframe tbody tr th {\n",
       "        vertical-align: top;\n",
       "    }\n",
       "\n",
       "    .dataframe thead th {\n",
       "        text-align: right;\n",
       "    }\n",
       "</style>\n",
       "<table border=\"1\" class=\"dataframe\">\n",
       "  <thead>\n",
       "    <tr style=\"text-align: right;\">\n",
       "      <th></th>\n",
       "      <th>CubFlex-L Predictions</th>\n",
       "      <th>CubFlex-L Actuals</th>\n",
       "      <th>CubFlex-R Predictions</th>\n",
       "      <th>CubFlex-R Actuals</th>\n",
       "      <th>CubPron-L Predictions</th>\n",
       "      <th>CubPron-L Actuals</th>\n",
       "      <th>CubPron-R Predictions</th>\n",
       "      <th>CubPron-R Actuals</th>\n",
       "    </tr>\n",
       "  </thead>\n",
       "  <tbody>\n",
       "    <tr>\n",
       "      <th>0</th>\n",
       "      <td>0.890078</td>\n",
       "      <td>0.967917</td>\n",
       "      <td>0.706607</td>\n",
       "      <td>0.900936</td>\n",
       "      <td>0.011896</td>\n",
       "      <td>0.000366</td>\n",
       "      <td>0.122276</td>\n",
       "      <td>0.002833</td>\n",
       "    </tr>\n",
       "    <tr>\n",
       "      <th>1</th>\n",
       "      <td>0.890103</td>\n",
       "      <td>0.967917</td>\n",
       "      <td>0.706407</td>\n",
       "      <td>0.900936</td>\n",
       "      <td>0.011820</td>\n",
       "      <td>0.000366</td>\n",
       "      <td>0.122289</td>\n",
       "      <td>0.002833</td>\n",
       "    </tr>\n",
       "    <tr>\n",
       "      <th>2</th>\n",
       "      <td>0.890148</td>\n",
       "      <td>0.968173</td>\n",
       "      <td>0.706257</td>\n",
       "      <td>0.900335</td>\n",
       "      <td>0.011754</td>\n",
       "      <td>0.000219</td>\n",
       "      <td>0.122261</td>\n",
       "      <td>0.002610</td>\n",
       "    </tr>\n",
       "    <tr>\n",
       "      <th>3</th>\n",
       "      <td>0.890179</td>\n",
       "      <td>0.968173</td>\n",
       "      <td>0.706068</td>\n",
       "      <td>0.900335</td>\n",
       "      <td>0.011694</td>\n",
       "      <td>0.000219</td>\n",
       "      <td>0.122260</td>\n",
       "      <td>0.002610</td>\n",
       "    </tr>\n",
       "    <tr>\n",
       "      <th>4</th>\n",
       "      <td>0.890228</td>\n",
       "      <td>0.968407</td>\n",
       "      <td>0.705924</td>\n",
       "      <td>0.899616</td>\n",
       "      <td>0.011646</td>\n",
       "      <td>0.000110</td>\n",
       "      <td>0.122220</td>\n",
       "      <td>0.002365</td>\n",
       "    </tr>\n",
       "    <tr>\n",
       "      <th>...</th>\n",
       "      <td>...</td>\n",
       "      <td>...</td>\n",
       "      <td>...</td>\n",
       "      <td>...</td>\n",
       "      <td>...</td>\n",
       "      <td>...</td>\n",
       "      <td>...</td>\n",
       "      <td>...</td>\n",
       "    </tr>\n",
       "    <tr>\n",
       "      <th>10375</th>\n",
       "      <td>0.971392</td>\n",
       "      <td>0.947466</td>\n",
       "      <td>0.880146</td>\n",
       "      <td>0.999761</td>\n",
       "      <td>0.422976</td>\n",
       "      <td>0.395604</td>\n",
       "      <td>0.258875</td>\n",
       "      <td>0.316080</td>\n",
       "    </tr>\n",
       "    <tr>\n",
       "      <th>10376</th>\n",
       "      <td>0.971446</td>\n",
       "      <td>0.947445</td>\n",
       "      <td>0.880170</td>\n",
       "      <td>0.999780</td>\n",
       "      <td>0.422995</td>\n",
       "      <td>0.395611</td>\n",
       "      <td>0.258862</td>\n",
       "      <td>0.315923</td>\n",
       "    </tr>\n",
       "    <tr>\n",
       "      <th>10377</th>\n",
       "      <td>0.971490</td>\n",
       "      <td>0.947445</td>\n",
       "      <td>0.880185</td>\n",
       "      <td>0.999780</td>\n",
       "      <td>0.423017</td>\n",
       "      <td>0.395611</td>\n",
       "      <td>0.258841</td>\n",
       "      <td>0.315923</td>\n",
       "    </tr>\n",
       "    <tr>\n",
       "      <th>10378</th>\n",
       "      <td>0.971544</td>\n",
       "      <td>0.947445</td>\n",
       "      <td>0.880213</td>\n",
       "      <td>0.999806</td>\n",
       "      <td>0.423035</td>\n",
       "      <td>0.395618</td>\n",
       "      <td>0.258811</td>\n",
       "      <td>0.315789</td>\n",
       "    </tr>\n",
       "    <tr>\n",
       "      <th>10379</th>\n",
       "      <td>0.971589</td>\n",
       "      <td>0.947445</td>\n",
       "      <td>0.880241</td>\n",
       "      <td>0.999806</td>\n",
       "      <td>0.423054</td>\n",
       "      <td>0.395618</td>\n",
       "      <td>0.258773</td>\n",
       "      <td>0.315789</td>\n",
       "    </tr>\n",
       "  </tbody>\n",
       "</table>\n",
       "<p>10380 rows × 8 columns</p>\n",
       "</div>"
      ],
      "text/plain": [
       "       CubFlex-L Predictions  CubFlex-L Actuals  CubFlex-R Predictions  \\\n",
       "0                   0.890078           0.967917               0.706607   \n",
       "1                   0.890103           0.967917               0.706407   \n",
       "2                   0.890148           0.968173               0.706257   \n",
       "3                   0.890179           0.968173               0.706068   \n",
       "4                   0.890228           0.968407               0.705924   \n",
       "...                      ...                ...                    ...   \n",
       "10375               0.971392           0.947466               0.880146   \n",
       "10376               0.971446           0.947445               0.880170   \n",
       "10377               0.971490           0.947445               0.880185   \n",
       "10378               0.971544           0.947445               0.880213   \n",
       "10379               0.971589           0.947445               0.880241   \n",
       "\n",
       "       CubFlex-R Actuals  CubPron-L Predictions  CubPron-L Actuals  \\\n",
       "0               0.900936               0.011896           0.000366   \n",
       "1               0.900936               0.011820           0.000366   \n",
       "2               0.900335               0.011754           0.000219   \n",
       "3               0.900335               0.011694           0.000219   \n",
       "4               0.899616               0.011646           0.000110   \n",
       "...                  ...                    ...                ...   \n",
       "10375           0.999761               0.422976           0.395604   \n",
       "10376           0.999780               0.422995           0.395611   \n",
       "10377           0.999780               0.423017           0.395611   \n",
       "10378           0.999806               0.423035           0.395618   \n",
       "10379           0.999806               0.423054           0.395618   \n",
       "\n",
       "       CubPron-R Predictions  CubPron-R Actuals  \n",
       "0                   0.122276           0.002833  \n",
       "1                   0.122289           0.002833  \n",
       "2                   0.122261           0.002610  \n",
       "3                   0.122260           0.002610  \n",
       "4                   0.122220           0.002365  \n",
       "...                      ...                ...  \n",
       "10375               0.258875           0.316080  \n",
       "10376               0.258862           0.315923  \n",
       "10377               0.258841           0.315923  \n",
       "10378               0.258811           0.315789  \n",
       "10379               0.258773           0.315789  \n",
       "\n",
       "[10380 rows x 8 columns]"
      ]
     },
     "execution_count": 96,
     "metadata": {},
     "output_type": "execute_result"
    },
    {
     "data": {
      "image/png": "[encoded data removed]",
      "text/plain": [
       "<Figure size 1200x700 with 4 Axes>"
      ]
     },
     "metadata": {},
     "output_type": "display_data"
    }
   ],
   "source": [
    "plot_predictions(normalized_predictions_7_epochs, min_max_normalized_y_test, 0, 11000, True)"
   ]
  },
  {
   "cell_type": "markdown",
   "metadata": {},
   "source": [
    "### Результаты по восстановленным данным"
   ]
  },
  {
   "cell_type": "code",
   "execution_count": 32,
   "metadata": {},
   "outputs": [],
   "source": [
    "postprocessed_predictions_7_epochs = scaler_y_train.inverse_transform(normalized_predictions_7_epochs)"
   ]
  },
  {
   "cell_type": "code",
   "execution_count": null,
   "metadata": {},
   "outputs": [],
   "source": [
    "plot_predictions(postprocessed_predictions_7_epochs, y_test, 0, 11000)"
   ]
  },
  {
   "cell_type": "code",
   "execution_count": 34,
   "metadata": {},
   "outputs": [
    {
     "data": {
      "text/plain": [
       "4.032496339742036"
      ]
     },
     "execution_count": 34,
     "metadata": {},
     "output_type": "execute_result"
    }
   ],
   "source": [
    "rmse(postprocessed_predictions_7_epochs, y_test)"
   ]
  }
 ],
 "metadata": {
  "kernelspec": {
   "display_name": "tf",
   "language": "python",
   "name": "python3"
  },
  "language_info": {
   "codemirror_mode": {
    "name": "ipython",
    "version": 3
   },
   "file_extension": ".py",
   "mimetype": "text/x-python",
   "name": "python",
   "nbconvert_exporter": "python",
   "pygments_lexer": "ipython3",
   "version": "3.9.19"
  }
 },
 "nbformat": 4,
 "nbformat_minor": 2
}
