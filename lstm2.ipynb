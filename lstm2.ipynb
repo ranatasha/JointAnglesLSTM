{
 "cells": [
  {
   "cell_type": "code",
   "execution_count": 12,
   "metadata": {},
   "outputs": [],
   "source": [
    "import tensorflow as tf\n",
    "import pandas as pd\n",
    "import numpy as np\n",
    "import matplotlib.pyplot as plt\n",
    "from sklearn.model_selection import train_test_split"
   ]
  },
  {
   "cell_type": "code",
   "execution_count": 5,
   "metadata": {},
   "outputs": [
    {
     "name": "stdout",
     "output_type": "stream",
     "text": [
      "Found GPU at: /device:GPU:0\n"
     ]
    }
   ],
   "source": [
    "device_name = tf.test.gpu_device_name()\n",
    "if device_name != '/device:GPU:0':\n",
    "  raise SystemError('GPU device not found')\n",
    "print('Found GPU at: {}'.format(device_name))"
   ]
  },
  {
   "cell_type": "code",
   "execution_count": 6,
   "metadata": {},
   "outputs": [
    {
     "data": {
      "text/html": [
       "<div>\n",
       "<style scoped>\n",
       "    .dataframe tbody tr th:only-of-type {\n",
       "        vertical-align: middle;\n",
       "    }\n",
       "\n",
       "    .dataframe tbody tr th {\n",
       "        vertical-align: top;\n",
       "    }\n",
       "\n",
       "    .dataframe thead th {\n",
       "        text-align: right;\n",
       "    }\n",
       "</style>\n",
       "<table border=\"1\" class=\"dataframe\">\n",
       "  <thead>\n",
       "    <tr style=\"text-align: right;\">\n",
       "      <th></th>\n",
       "      <th>HumFlex-L</th>\n",
       "      <th>HumFlex-R</th>\n",
       "      <th>HumAdd-L</th>\n",
       "      <th>HumAdd-R</th>\n",
       "      <th>HumPron-L</th>\n",
       "      <th>HumPron-R</th>\n",
       "      <th>CubFlex-L</th>\n",
       "      <th>CubFlex-R</th>\n",
       "      <th>CubPron-L</th>\n",
       "      <th>CubPron-R</th>\n",
       "      <th>RadFlex-L</th>\n",
       "      <th>RadFlex-R</th>\n",
       "      <th>RadAdd-L</th>\n",
       "      <th>RadAdd-R</th>\n",
       "    </tr>\n",
       "  </thead>\n",
       "  <tbody>\n",
       "    <tr>\n",
       "      <th>0</th>\n",
       "      <td>25.3891</td>\n",
       "      <td>9.27357</td>\n",
       "      <td>8.17163</td>\n",
       "      <td>8.20268</td>\n",
       "      <td>6.54854</td>\n",
       "      <td>31.5294</td>\n",
       "      <td>131.409</td>\n",
       "      <td>12.6733</td>\n",
       "      <td>25.9416</td>\n",
       "      <td>-72.2202</td>\n",
       "      <td>12.4294</td>\n",
       "      <td>-0.131512</td>\n",
       "      <td>-37.7395</td>\n",
       "      <td>1.51097</td>\n",
       "    </tr>\n",
       "    <tr>\n",
       "      <th>1</th>\n",
       "      <td>25.3891</td>\n",
       "      <td>9.27357</td>\n",
       "      <td>8.17163</td>\n",
       "      <td>8.20268</td>\n",
       "      <td>6.54854</td>\n",
       "      <td>31.5294</td>\n",
       "      <td>131.409</td>\n",
       "      <td>12.6733</td>\n",
       "      <td>25.9416</td>\n",
       "      <td>-72.2202</td>\n",
       "      <td>12.4294</td>\n",
       "      <td>-0.131512</td>\n",
       "      <td>-37.7395</td>\n",
       "      <td>1.51097</td>\n",
       "    </tr>\n",
       "    <tr>\n",
       "      <th>2</th>\n",
       "      <td>25.3868</td>\n",
       "      <td>9.27080</td>\n",
       "      <td>8.17124</td>\n",
       "      <td>8.20132</td>\n",
       "      <td>6.54858</td>\n",
       "      <td>31.5304</td>\n",
       "      <td>131.410</td>\n",
       "      <td>12.6754</td>\n",
       "      <td>25.9413</td>\n",
       "      <td>-72.2209</td>\n",
       "      <td>12.4288</td>\n",
       "      <td>-0.131742</td>\n",
       "      <td>-37.7401</td>\n",
       "      <td>1.51067</td>\n",
       "    </tr>\n",
       "    <tr>\n",
       "      <th>3</th>\n",
       "      <td>25.3868</td>\n",
       "      <td>9.27080</td>\n",
       "      <td>8.17124</td>\n",
       "      <td>8.20132</td>\n",
       "      <td>6.54858</td>\n",
       "      <td>31.5304</td>\n",
       "      <td>131.410</td>\n",
       "      <td>12.6754</td>\n",
       "      <td>25.9413</td>\n",
       "      <td>-72.2209</td>\n",
       "      <td>12.4288</td>\n",
       "      <td>-0.131742</td>\n",
       "      <td>-37.7401</td>\n",
       "      <td>1.51067</td>\n",
       "    </tr>\n",
       "    <tr>\n",
       "      <th>4</th>\n",
       "      <td>25.3844</td>\n",
       "      <td>9.26813</td>\n",
       "      <td>8.17081</td>\n",
       "      <td>8.19961</td>\n",
       "      <td>6.54859</td>\n",
       "      <td>31.5316</td>\n",
       "      <td>131.411</td>\n",
       "      <td>12.6767</td>\n",
       "      <td>25.9409</td>\n",
       "      <td>-72.2216</td>\n",
       "      <td>12.4281</td>\n",
       "      <td>-0.131909</td>\n",
       "      <td>-37.7408</td>\n",
       "      <td>1.51038</td>\n",
       "    </tr>\n",
       "    <tr>\n",
       "      <th>...</th>\n",
       "      <td>...</td>\n",
       "      <td>...</td>\n",
       "      <td>...</td>\n",
       "      <td>...</td>\n",
       "      <td>...</td>\n",
       "      <td>...</td>\n",
       "      <td>...</td>\n",
       "      <td>...</td>\n",
       "      <td>...</td>\n",
       "      <td>...</td>\n",
       "      <td>...</td>\n",
       "      <td>...</td>\n",
       "      <td>...</td>\n",
       "      <td>...</td>\n",
       "    </tr>\n",
       "    <tr>\n",
       "      <th>85395</th>\n",
       "      <td>26.4817</td>\n",
       "      <td>8.81054</td>\n",
       "      <td>10.46340</td>\n",
       "      <td>10.15400</td>\n",
       "      <td>13.71280</td>\n",
       "      <td>44.9465</td>\n",
       "      <td>149.520</td>\n",
       "      <td>44.0545</td>\n",
       "      <td>31.3010</td>\n",
       "      <td>-80.1557</td>\n",
       "      <td>10.8189</td>\n",
       "      <td>1.841450</td>\n",
       "      <td>-51.1252</td>\n",
       "      <td>1.24794</td>\n",
       "    </tr>\n",
       "    <tr>\n",
       "      <th>85396</th>\n",
       "      <td>26.4827</td>\n",
       "      <td>8.81207</td>\n",
       "      <td>10.46390</td>\n",
       "      <td>10.15460</td>\n",
       "      <td>13.71320</td>\n",
       "      <td>44.9472</td>\n",
       "      <td>149.519</td>\n",
       "      <td>44.0548</td>\n",
       "      <td>31.3012</td>\n",
       "      <td>-80.1564</td>\n",
       "      <td>10.8193</td>\n",
       "      <td>1.841770</td>\n",
       "      <td>-51.1252</td>\n",
       "      <td>1.24859</td>\n",
       "    </tr>\n",
       "    <tr>\n",
       "      <th>85397</th>\n",
       "      <td>26.4827</td>\n",
       "      <td>8.81207</td>\n",
       "      <td>10.46390</td>\n",
       "      <td>10.15460</td>\n",
       "      <td>13.71320</td>\n",
       "      <td>44.9472</td>\n",
       "      <td>149.519</td>\n",
       "      <td>44.0548</td>\n",
       "      <td>31.3012</td>\n",
       "      <td>-80.1564</td>\n",
       "      <td>10.8193</td>\n",
       "      <td>1.841770</td>\n",
       "      <td>-51.1252</td>\n",
       "      <td>1.24859</td>\n",
       "    </tr>\n",
       "    <tr>\n",
       "      <th>85398</th>\n",
       "      <td>26.4837</td>\n",
       "      <td>8.81374</td>\n",
       "      <td>10.46450</td>\n",
       "      <td>10.15540</td>\n",
       "      <td>13.71340</td>\n",
       "      <td>44.9475</td>\n",
       "      <td>149.519</td>\n",
       "      <td>44.0552</td>\n",
       "      <td>31.3014</td>\n",
       "      <td>-80.1570</td>\n",
       "      <td>10.8199</td>\n",
       "      <td>1.841800</td>\n",
       "      <td>-51.1252</td>\n",
       "      <td>1.24873</td>\n",
       "    </tr>\n",
       "    <tr>\n",
       "      <th>85399</th>\n",
       "      <td>26.4837</td>\n",
       "      <td>8.81374</td>\n",
       "      <td>10.46450</td>\n",
       "      <td>10.15540</td>\n",
       "      <td>13.71340</td>\n",
       "      <td>44.9475</td>\n",
       "      <td>149.519</td>\n",
       "      <td>44.0552</td>\n",
       "      <td>31.3014</td>\n",
       "      <td>-80.1570</td>\n",
       "      <td>10.8199</td>\n",
       "      <td>1.841800</td>\n",
       "      <td>-51.1252</td>\n",
       "      <td>1.24873</td>\n",
       "    </tr>\n",
       "  </tbody>\n",
       "</table>\n",
       "<p>85400 rows × 14 columns</p>\n",
       "</div>"
      ],
      "text/plain": [
       "       HumFlex-L  HumFlex-R  HumAdd-L  HumAdd-R  HumPron-L  HumPron-R  \\\n",
       "0        25.3891    9.27357   8.17163   8.20268    6.54854    31.5294   \n",
       "1        25.3891    9.27357   8.17163   8.20268    6.54854    31.5294   \n",
       "2        25.3868    9.27080   8.17124   8.20132    6.54858    31.5304   \n",
       "3        25.3868    9.27080   8.17124   8.20132    6.54858    31.5304   \n",
       "4        25.3844    9.26813   8.17081   8.19961    6.54859    31.5316   \n",
       "...          ...        ...       ...       ...        ...        ...   \n",
       "85395    26.4817    8.81054  10.46340  10.15400   13.71280    44.9465   \n",
       "85396    26.4827    8.81207  10.46390  10.15460   13.71320    44.9472   \n",
       "85397    26.4827    8.81207  10.46390  10.15460   13.71320    44.9472   \n",
       "85398    26.4837    8.81374  10.46450  10.15540   13.71340    44.9475   \n",
       "85399    26.4837    8.81374  10.46450  10.15540   13.71340    44.9475   \n",
       "\n",
       "       CubFlex-L  CubFlex-R  CubPron-L  CubPron-R  RadFlex-L  RadFlex-R  \\\n",
       "0        131.409    12.6733    25.9416   -72.2202    12.4294  -0.131512   \n",
       "1        131.409    12.6733    25.9416   -72.2202    12.4294  -0.131512   \n",
       "2        131.410    12.6754    25.9413   -72.2209    12.4288  -0.131742   \n",
       "3        131.410    12.6754    25.9413   -72.2209    12.4288  -0.131742   \n",
       "4        131.411    12.6767    25.9409   -72.2216    12.4281  -0.131909   \n",
       "...          ...        ...        ...        ...        ...        ...   \n",
       "85395    149.520    44.0545    31.3010   -80.1557    10.8189   1.841450   \n",
       "85396    149.519    44.0548    31.3012   -80.1564    10.8193   1.841770   \n",
       "85397    149.519    44.0548    31.3012   -80.1564    10.8193   1.841770   \n",
       "85398    149.519    44.0552    31.3014   -80.1570    10.8199   1.841800   \n",
       "85399    149.519    44.0552    31.3014   -80.1570    10.8199   1.841800   \n",
       "\n",
       "       RadAdd-L  RadAdd-R  \n",
       "0      -37.7395   1.51097  \n",
       "1      -37.7395   1.51097  \n",
       "2      -37.7401   1.51067  \n",
       "3      -37.7401   1.51067  \n",
       "4      -37.7408   1.51038  \n",
       "...         ...       ...  \n",
       "85395  -51.1252   1.24794  \n",
       "85396  -51.1252   1.24859  \n",
       "85397  -51.1252   1.24859  \n",
       "85398  -51.1252   1.24873  \n",
       "85399  -51.1252   1.24873  \n",
       "\n",
       "[85400 rows x 14 columns]"
      ]
     },
     "execution_count": 6,
     "metadata": {},
     "output_type": "execute_result"
    }
   ],
   "source": [
    "# Чтение датасета нормы из файла, зарегистрированного кинект\n",
    "test_df = pd.read_csv(\"test_data.txt\", sep='\\t', comment='#', encoding='utf-8')\n",
    "# Сдвиг значений из индекса на колонку вперед\n",
    "test_df = test_df.shift(periods=1, axis=\"columns\")\n",
    "test_df['HumFlex-L'] = test_df.index\n",
    "test_df.index=[_ for _ in range(85400) ]\n",
    "# Готовый Датасет нормы\n",
    "test_df"
   ]
  },
  {
   "cell_type": "code",
   "execution_count": 7,
   "metadata": {},
   "outputs": [
    {
     "data": {
      "text/html": [
       "<div>\n",
       "<style scoped>\n",
       "    .dataframe tbody tr th:only-of-type {\n",
       "        vertical-align: middle;\n",
       "    }\n",
       "\n",
       "    .dataframe tbody tr th {\n",
       "        vertical-align: top;\n",
       "    }\n",
       "\n",
       "    .dataframe thead th {\n",
       "        text-align: right;\n",
       "    }\n",
       "</style>\n",
       "<table border=\"1\" class=\"dataframe\">\n",
       "  <thead>\n",
       "    <tr style=\"text-align: right;\">\n",
       "      <th></th>\n",
       "      <th>CubFlex-L</th>\n",
       "      <th>CubFlex-R</th>\n",
       "      <th>CubPron-L</th>\n",
       "      <th>CubPron-R</th>\n",
       "      <th>HumFlex-L</th>\n",
       "      <th>HumFlex-R</th>\n",
       "      <th>HumPron-L</th>\n",
       "      <th>HumPron-R</th>\n",
       "      <th>HumAdd-L</th>\n",
       "      <th>HumAdd-R</th>\n",
       "      <th>RadFlex-L</th>\n",
       "      <th>RadFlex-R</th>\n",
       "      <th>RadAdd-L</th>\n",
       "      <th>RadAdd-R</th>\n",
       "    </tr>\n",
       "  </thead>\n",
       "  <tbody>\n",
       "    <tr>\n",
       "      <th>0</th>\n",
       "      <td>131.409</td>\n",
       "      <td>12.6733</td>\n",
       "      <td>25.9416</td>\n",
       "      <td>-72.2202</td>\n",
       "      <td>25.3891</td>\n",
       "      <td>9.27357</td>\n",
       "      <td>6.54854</td>\n",
       "      <td>31.5294</td>\n",
       "      <td>8.17163</td>\n",
       "      <td>8.20268</td>\n",
       "      <td>12.4294</td>\n",
       "      <td>-0.131512</td>\n",
       "      <td>-37.7395</td>\n",
       "      <td>1.51097</td>\n",
       "    </tr>\n",
       "    <tr>\n",
       "      <th>1</th>\n",
       "      <td>131.409</td>\n",
       "      <td>12.6733</td>\n",
       "      <td>25.9416</td>\n",
       "      <td>-72.2202</td>\n",
       "      <td>25.3891</td>\n",
       "      <td>9.27357</td>\n",
       "      <td>6.54854</td>\n",
       "      <td>31.5294</td>\n",
       "      <td>8.17163</td>\n",
       "      <td>8.20268</td>\n",
       "      <td>12.4294</td>\n",
       "      <td>-0.131512</td>\n",
       "      <td>-37.7395</td>\n",
       "      <td>1.51097</td>\n",
       "    </tr>\n",
       "    <tr>\n",
       "      <th>2</th>\n",
       "      <td>131.410</td>\n",
       "      <td>12.6754</td>\n",
       "      <td>25.9413</td>\n",
       "      <td>-72.2209</td>\n",
       "      <td>25.3868</td>\n",
       "      <td>9.27080</td>\n",
       "      <td>6.54858</td>\n",
       "      <td>31.5304</td>\n",
       "      <td>8.17124</td>\n",
       "      <td>8.20132</td>\n",
       "      <td>12.4288</td>\n",
       "      <td>-0.131742</td>\n",
       "      <td>-37.7401</td>\n",
       "      <td>1.51067</td>\n",
       "    </tr>\n",
       "    <tr>\n",
       "      <th>3</th>\n",
       "      <td>131.410</td>\n",
       "      <td>12.6754</td>\n",
       "      <td>25.9413</td>\n",
       "      <td>-72.2209</td>\n",
       "      <td>25.3868</td>\n",
       "      <td>9.27080</td>\n",
       "      <td>6.54858</td>\n",
       "      <td>31.5304</td>\n",
       "      <td>8.17124</td>\n",
       "      <td>8.20132</td>\n",
       "      <td>12.4288</td>\n",
       "      <td>-0.131742</td>\n",
       "      <td>-37.7401</td>\n",
       "      <td>1.51067</td>\n",
       "    </tr>\n",
       "    <tr>\n",
       "      <th>4</th>\n",
       "      <td>131.411</td>\n",
       "      <td>12.6767</td>\n",
       "      <td>25.9409</td>\n",
       "      <td>-72.2216</td>\n",
       "      <td>25.3844</td>\n",
       "      <td>9.26813</td>\n",
       "      <td>6.54859</td>\n",
       "      <td>31.5316</td>\n",
       "      <td>8.17081</td>\n",
       "      <td>8.19961</td>\n",
       "      <td>12.4281</td>\n",
       "      <td>-0.131909</td>\n",
       "      <td>-37.7408</td>\n",
       "      <td>1.51038</td>\n",
       "    </tr>\n",
       "    <tr>\n",
       "      <th>...</th>\n",
       "      <td>...</td>\n",
       "      <td>...</td>\n",
       "      <td>...</td>\n",
       "      <td>...</td>\n",
       "      <td>...</td>\n",
       "      <td>...</td>\n",
       "      <td>...</td>\n",
       "      <td>...</td>\n",
       "      <td>...</td>\n",
       "      <td>...</td>\n",
       "      <td>...</td>\n",
       "      <td>...</td>\n",
       "      <td>...</td>\n",
       "      <td>...</td>\n",
       "    </tr>\n",
       "    <tr>\n",
       "      <th>85395</th>\n",
       "      <td>149.520</td>\n",
       "      <td>44.0545</td>\n",
       "      <td>31.3010</td>\n",
       "      <td>-80.1557</td>\n",
       "      <td>26.4817</td>\n",
       "      <td>8.81054</td>\n",
       "      <td>13.71280</td>\n",
       "      <td>44.9465</td>\n",
       "      <td>10.46340</td>\n",
       "      <td>10.15400</td>\n",
       "      <td>10.8189</td>\n",
       "      <td>1.841450</td>\n",
       "      <td>-51.1252</td>\n",
       "      <td>1.24794</td>\n",
       "    </tr>\n",
       "    <tr>\n",
       "      <th>85396</th>\n",
       "      <td>149.519</td>\n",
       "      <td>44.0548</td>\n",
       "      <td>31.3012</td>\n",
       "      <td>-80.1564</td>\n",
       "      <td>26.4827</td>\n",
       "      <td>8.81207</td>\n",
       "      <td>13.71320</td>\n",
       "      <td>44.9472</td>\n",
       "      <td>10.46390</td>\n",
       "      <td>10.15460</td>\n",
       "      <td>10.8193</td>\n",
       "      <td>1.841770</td>\n",
       "      <td>-51.1252</td>\n",
       "      <td>1.24859</td>\n",
       "    </tr>\n",
       "    <tr>\n",
       "      <th>85397</th>\n",
       "      <td>149.519</td>\n",
       "      <td>44.0548</td>\n",
       "      <td>31.3012</td>\n",
       "      <td>-80.1564</td>\n",
       "      <td>26.4827</td>\n",
       "      <td>8.81207</td>\n",
       "      <td>13.71320</td>\n",
       "      <td>44.9472</td>\n",
       "      <td>10.46390</td>\n",
       "      <td>10.15460</td>\n",
       "      <td>10.8193</td>\n",
       "      <td>1.841770</td>\n",
       "      <td>-51.1252</td>\n",
       "      <td>1.24859</td>\n",
       "    </tr>\n",
       "    <tr>\n",
       "      <th>85398</th>\n",
       "      <td>149.519</td>\n",
       "      <td>44.0552</td>\n",
       "      <td>31.3014</td>\n",
       "      <td>-80.1570</td>\n",
       "      <td>26.4837</td>\n",
       "      <td>8.81374</td>\n",
       "      <td>13.71340</td>\n",
       "      <td>44.9475</td>\n",
       "      <td>10.46450</td>\n",
       "      <td>10.15540</td>\n",
       "      <td>10.8199</td>\n",
       "      <td>1.841800</td>\n",
       "      <td>-51.1252</td>\n",
       "      <td>1.24873</td>\n",
       "    </tr>\n",
       "    <tr>\n",
       "      <th>85399</th>\n",
       "      <td>149.519</td>\n",
       "      <td>44.0552</td>\n",
       "      <td>31.3014</td>\n",
       "      <td>-80.1570</td>\n",
       "      <td>26.4837</td>\n",
       "      <td>8.81374</td>\n",
       "      <td>13.71340</td>\n",
       "      <td>44.9475</td>\n",
       "      <td>10.46450</td>\n",
       "      <td>10.15540</td>\n",
       "      <td>10.8199</td>\n",
       "      <td>1.841800</td>\n",
       "      <td>-51.1252</td>\n",
       "      <td>1.24873</td>\n",
       "    </tr>\n",
       "  </tbody>\n",
       "</table>\n",
       "<p>85400 rows × 14 columns</p>\n",
       "</div>"
      ],
      "text/plain": [
       "       CubFlex-L  CubFlex-R  CubPron-L  CubPron-R  HumFlex-L  HumFlex-R  \\\n",
       "0        131.409    12.6733    25.9416   -72.2202    25.3891    9.27357   \n",
       "1        131.409    12.6733    25.9416   -72.2202    25.3891    9.27357   \n",
       "2        131.410    12.6754    25.9413   -72.2209    25.3868    9.27080   \n",
       "3        131.410    12.6754    25.9413   -72.2209    25.3868    9.27080   \n",
       "4        131.411    12.6767    25.9409   -72.2216    25.3844    9.26813   \n",
       "...          ...        ...        ...        ...        ...        ...   \n",
       "85395    149.520    44.0545    31.3010   -80.1557    26.4817    8.81054   \n",
       "85396    149.519    44.0548    31.3012   -80.1564    26.4827    8.81207   \n",
       "85397    149.519    44.0548    31.3012   -80.1564    26.4827    8.81207   \n",
       "85398    149.519    44.0552    31.3014   -80.1570    26.4837    8.81374   \n",
       "85399    149.519    44.0552    31.3014   -80.1570    26.4837    8.81374   \n",
       "\n",
       "       HumPron-L  HumPron-R  HumAdd-L  HumAdd-R  RadFlex-L  RadFlex-R  \\\n",
       "0        6.54854    31.5294   8.17163   8.20268    12.4294  -0.131512   \n",
       "1        6.54854    31.5294   8.17163   8.20268    12.4294  -0.131512   \n",
       "2        6.54858    31.5304   8.17124   8.20132    12.4288  -0.131742   \n",
       "3        6.54858    31.5304   8.17124   8.20132    12.4288  -0.131742   \n",
       "4        6.54859    31.5316   8.17081   8.19961    12.4281  -0.131909   \n",
       "...          ...        ...       ...       ...        ...        ...   \n",
       "85395   13.71280    44.9465  10.46340  10.15400    10.8189   1.841450   \n",
       "85396   13.71320    44.9472  10.46390  10.15460    10.8193   1.841770   \n",
       "85397   13.71320    44.9472  10.46390  10.15460    10.8193   1.841770   \n",
       "85398   13.71340    44.9475  10.46450  10.15540    10.8199   1.841800   \n",
       "85399   13.71340    44.9475  10.46450  10.15540    10.8199   1.841800   \n",
       "\n",
       "       RadAdd-L  RadAdd-R  \n",
       "0      -37.7395   1.51097  \n",
       "1      -37.7395   1.51097  \n",
       "2      -37.7401   1.51067  \n",
       "3      -37.7401   1.51067  \n",
       "4      -37.7408   1.51038  \n",
       "...         ...       ...  \n",
       "85395  -51.1252   1.24794  \n",
       "85396  -51.1252   1.24859  \n",
       "85397  -51.1252   1.24859  \n",
       "85398  -51.1252   1.24873  \n",
       "85399  -51.1252   1.24873  \n",
       "\n",
       "[85400 rows x 14 columns]"
      ]
     },
     "execution_count": 7,
     "metadata": {},
     "output_type": "execute_result"
    }
   ],
   "source": [
    "# Перемещение 4х прогнозируемых колонок вперед (локтевой сустав)\n",
    "# Обозначения:\n",
    "# L / R - левая и правая рука\n",
    "# CubFlex / CubPron- локтевое сгибание / пронация\n",
    "# HumFlex / HumPron / HumAdd - плечевое сгибание / пронация / приведение\n",
    "# RadFlex / RadAdd - лучезапястное сгибание / приведение\n",
    "tmp_test_df = pd.DataFrame({\n",
    "                            'CubFlex-L': test_df['CubFlex-L'], 'CubFlex-R': test_df['CubFlex-R'],\n",
    "                            'CubPron-L': test_df['CubPron-L'], 'CubPron-R': test_df['CubPron-R'],\n",
    "                            'HumFlex-L': test_df['HumFlex-L'], 'HumFlex-R': test_df['HumFlex-R'],\n",
    "                            'HumPron-L': test_df['HumPron-L'], 'HumPron-R': test_df['HumPron-R'],\n",
    "                            'HumAdd-L': test_df['HumAdd-L'], 'HumAdd-R': test_df['HumAdd-R'],\n",
    "                            'RadFlex-L': test_df['RadFlex-L'], 'RadFlex-R': test_df['RadFlex-R'],\n",
    "                            'RadAdd-L': test_df['RadAdd-L'], 'RadAdd-R': test_df['RadAdd-R'],\n",
    "                             })\n",
    "\n",
    "output_df = tmp_test_df.loc[:, 'CubFlex-L' : 'CubPron-R']\n",
    "input_df = tmp_test_df.loc[:, 'HumFlex-L' : 'RadAdd-R']\n",
    "tmp_test_df"
   ]
  },
  {
   "cell_type": "code",
   "execution_count": null,
   "metadata": {},
   "outputs": [],
   "source": [
    "WINDOW_SIZE = 20\n",
    "# Структура входных и выходных данных (для window_size=20)\n",
    "# 0, 1, ..., 85399 - индекс строки в df\n",
    "# j - индекс прогнозируемой колонки (от 0 до 3)\n",
    "#               X                  |   y[j]               \n",
    "# [                                |\n",
    "#   [[0], [1], [2], ..., [19]],    |  [21][j]\n",
    "#   [[1], [2], [3], ..., [20]],    |  [22][j]\n",
    "#   [[2], [3], [4], ..., [21]],    |  [23][j]\n",
    "#   ...                            |  ...\n",
    "#   [[85379],[85300],...,[85398]], |  [85399][j]\n",
    "# ]                                |\n",
    "\n",
    "def df_to_X(df, window_size = WINDOW_SIZE):\n",
    "  df_as_np = df.to_numpy()\n",
    "  X = []\n",
    "  for i in range(len(df_as_np)-window_size):\n",
    "    row = np.array([r for r in df_as_np[i:i+window_size]])\n",
    "\n",
    "    if np.isnan(row).any():\n",
    "      print(row)\n",
    "      continue\n",
    "    X.append(row)\n",
    "  return np.array(X)\n",
    "\n",
    "def df_to_y(df, window_size = WINDOW_SIZE):\n",
    "  df_as_np = df.to_numpy()\n",
    "  y = []\n",
    "  for i in range(len(df_as_np)-window_size):\n",
    "    label = []\n",
    "    for j in range(len(output_df.axes[1])):\n",
    "      label.append(df_as_np[i+window_size][j])\n",
    "    y.append(label)\n",
    "  return np.array(y)"
   ]
  },
  {
   "cell_type": "code",
   "execution_count": 126,
   "metadata": {},
   "outputs": [
    {
     "data": {
      "text/plain": [
       "((85380, 20, 14), (85380, 4))"
      ]
     },
     "execution_count": 126,
     "metadata": {},
     "output_type": "execute_result"
    }
   ],
   "source": [
    "X, y = df_to_X(tmp_test_df), df_to_y(output_df)\n",
    "X.shape, y.shape"
   ]
  },
  {
   "cell_type": "code",
   "execution_count": 127,
   "metadata": {},
   "outputs": [],
   "source": [
    "def splitToTrainValTest(X, y):\n",
    "    X_train, y_train = X[:55000], y[:55000] # Было :60-60:70-70: стало 80%()\n",
    "    X_val, y_val = X[55000:75000], y[55000:75000]\n",
    "    X_test, y_test = X[75000:], y[75000:]\n",
    "    print(\"Train:\\n\\t{}\\n\\t{}\\nValidation:\\n\\t{}\\n\\t{}\\nTest:\\n\\t{}\\n\\t{}\".format(X_train.shape,  y_train.shape, X_val.shape, y_val.shape, X_test.shape, y_test.shape))\n",
    "    return X_train, y_train, X_val, y_val, X_test, y_test"
   ]
  },
  {
   "cell_type": "code",
   "execution_count": 128,
   "metadata": {},
   "outputs": [
    {
     "name": "stdout",
     "output_type": "stream",
     "text": [
      "Train:\n",
      "\t(55000, 20, 14)\n",
      "\t(55000, 4)\n",
      "Validation:\n",
      "\t(20000, 20, 14)\n",
      "\t(20000, 4)\n",
      "Test:\n",
      "\t(10380, 20, 14)\n",
      "\t(10380, 4)\n"
     ]
    }
   ],
   "source": [
    "X_train, y_train, X_val, y_val, X_test, y_test = splitToTrainValTest(X, y)"
   ]
  },
  {
   "cell_type": "code",
   "execution_count": 102,
   "metadata": {},
   "outputs": [],
   "source": [
    "from tensorflow.keras.models import Sequential\n",
    "from tensorflow.keras.layers import *\n",
    "from tensorflow.keras.callbacks import ModelCheckpoint\n",
    "from tensorflow.keras.losses import MeanSquaredError\n",
    "from tensorflow.keras.metrics import RootMeanSquaredError\n",
    "from tensorflow.keras.optimizers import Adam\n",
    "from keras.regularizers import l2"
   ]
  },
  {
   "cell_type": "code",
   "execution_count": 103,
   "metadata": {},
   "outputs": [],
   "source": [
    "def XColumnMeanAndStd(X, columnIndex):\n",
    "    mean = np.mean(X[:, :, columnIndex])\n",
    "    std = np.std(X[:, :, columnIndex])\n",
    "    return mean, std\n",
    "\n",
    "def yMeanAndStd(y, ind, y_means=[], y_stds=[]):\n",
    "    mean = np.mean(y[:, ind])\n",
    "    std = np.std(y[:, ind])\n",
    "    y_means.append(mean)\n",
    "    y_stds.append(std)\n",
    "    return mean, std"
   ]
  },
  {
   "cell_type": "code",
   "execution_count": 104,
   "metadata": {},
   "outputs": [],
   "source": [
    "# Преобработка данных - Нормализация\n",
    "def preprocess(X):\n",
    "  normalized_X = np.copy(X)\n",
    "  for i in range(X.shape[2]):\n",
    "    mean, std = XColumnMeanAndStd(X, i)\n",
    "    normalized_X[:, :, i] = (X[:, :, i] - mean) / std\n",
    "  return normalized_X\n",
    "\n",
    "def preprocess_actuals_y(y, y_means=[], y_stds=[]):\n",
    "  normalized_y = np.copy(y)\n",
    "  for i in range(y.shape[1]):\n",
    "    mean, std = yMeanAndStd(y, i, y_means, y_stds)\n",
    "    normalized_y[:, i] = (y[ :, i] - mean) / std\n",
    "  return normalized_y"
   ]
  },
  {
   "cell_type": "code",
   "execution_count": 129,
   "metadata": {},
   "outputs": [
    {
     "name": "stdout",
     "output_type": "stream",
     "text": [
      "[132.5725740909091, 17.201709643636363, 24.898061784727272, -73.64436438909091] [12.750743961915504, 3.5516799970099813, 6.477752108485212, 1.7375858253328615]\n"
     ]
    }
   ],
   "source": [
    "# Их передаем в качестве параметров только для training_data, чтобы затем могли сделать постобработку predictions (из нормализованных значений)\n",
    "# X_means, X_stds = [], []\n",
    "y_means, y_stds = [], []\n",
    "\n",
    "X_train_normalized = preprocess(X_train)\n",
    "X_val_normalized = preprocess(X_val)\n",
    "X_test_normalized = preprocess(X_test)\n",
    "\n",
    "\n",
    "y_train_normalized = preprocess_actuals_y(y_train, y_means, y_stds)\n",
    "y_val_normalized = preprocess_actuals_y(y_val)\n",
    "y_test_normalized = preprocess_actuals_y(y_test)\n",
    "\n",
    "print(y_means, y_stds)"
   ]
  },
  {
   "cell_type": "code",
   "execution_count": 106,
   "metadata": {},
   "outputs": [
    {
     "name": "stdout",
     "output_type": "stream",
     "text": [
      "Model: \"sequential_22\"\n",
      "_________________________________________________________________\n",
      " Layer (type)                Output Shape              Param #   \n",
      "=================================================================\n",
      " lstm_38 (LSTM)              (None, 20, 128)           71168     \n",
      "                                                                 \n",
      " lstm_39 (LSTM)              (None, 128)               131584    \n",
      "                                                                 \n",
      " dropout_21 (Dropout)        (None, 128)               0         \n",
      "                                                                 \n",
      " dense_28 (Dense)            (None, 16)                2064      \n",
      "                                                                 \n",
      " dense_29 (Dense)            (None, 4)                 68        \n",
      "                                                                 \n",
      "=================================================================\n",
      "Total params: 204,884\n",
      "Trainable params: 204,884\n",
      "Non-trainable params: 0\n",
      "_________________________________________________________________\n"
     ]
    }
   ],
   "source": [
    "model_4 = Sequential() # создаёт последовательную модель с пошаговым добавлением слоёв в неё\n",
    "model_4.add(InputLayer((WINDOW_SIZE, 10))) # 100 = window_size\n",
    "model_4.add(LSTM(128, return_sequences=True, input_shape=(10, 4)))\n",
    "model_4.add(LSTM(128))\n",
    "model_4.add(Dropout(0.4)) # помогает избавиться от переобучения модели.\n",
    "# Таким образом, некоторые нейроны становятся равными 0, и это сокращает вычисления в процессе обучения.\n",
    "\n",
    "model_4.add(Dense(16, 'relu'))\n",
    "model_4.add(Dense(4, 'linear'))\n",
    "\n",
    "model_4.summary()"
   ]
  },
  {
   "cell_type": "code",
   "execution_count": 66,
   "metadata": {},
   "outputs": [],
   "source": [
    "cp_4 = ModelCheckpoint('model_4/', save_best_only=True)\n",
    "model_4.compile(loss=MeanSquaredError(), optimizer=Adam(learning_rate=0.0001), metrics=[RootMeanSquaredError()])"
   ]
  },
  {
   "cell_type": "code",
   "execution_count": 67,
   "metadata": {},
   "outputs": [
    {
     "name": "stdout",
     "output_type": "stream",
     "text": [
      "Epoch 1/10\n",
      "7499/7500 [============================>.] - ETA: 0s - loss: 0.0498 - root_mean_squared_error: 0.2232"
     ]
    },
    {
     "name": "stderr",
     "output_type": "stream",
     "text": [
      "WARNING:absl:Found untraced functions such as lstm_cell_20_layer_call_fn, lstm_cell_20_layer_call_and_return_conditional_losses, lstm_cell_21_layer_call_fn, lstm_cell_21_layer_call_and_return_conditional_losses while saving (showing 4 of 4). These functions will not be directly callable after loading.\n"
     ]
    },
    {
     "name": "stdout",
     "output_type": "stream",
     "text": [
      "INFO:tensorflow:Assets written to: model_4\\assets\n"
     ]
    },
    {
     "name": "stderr",
     "output_type": "stream",
     "text": [
      "INFO:tensorflow:Assets written to: model_4\\assets\n"
     ]
    },
    {
     "name": "stdout",
     "output_type": "stream",
     "text": [
      "7500/7500 [==============================] - 162s 21ms/step - loss: 0.0498 - root_mean_squared_error: 0.2232 - val_loss: 0.1473 - val_root_mean_squared_error: 0.3838\n",
      "Epoch 2/10\n",
      "7500/7500 [==============================] - ETA: 0s - loss: 0.0161 - root_mean_squared_error: 0.1271"
     ]
    },
    {
     "name": "stderr",
     "output_type": "stream",
     "text": [
      "WARNING:absl:Found untraced functions such as lstm_cell_20_layer_call_fn, lstm_cell_20_layer_call_and_return_conditional_losses, lstm_cell_21_layer_call_fn, lstm_cell_21_layer_call_and_return_conditional_losses while saving (showing 4 of 4). These functions will not be directly callable after loading.\n"
     ]
    },
    {
     "name": "stdout",
     "output_type": "stream",
     "text": [
      "INFO:tensorflow:Assets written to: model_4\\assets\n"
     ]
    },
    {
     "name": "stderr",
     "output_type": "stream",
     "text": [
      "INFO:tensorflow:Assets written to: model_4\\assets\n"
     ]
    },
    {
     "name": "stdout",
     "output_type": "stream",
     "text": [
      "7500/7500 [==============================] - 182s 24ms/step - loss: 0.0161 - root_mean_squared_error: 0.1271 - val_loss: 0.0962 - val_root_mean_squared_error: 0.3102\n",
      "Epoch 3/10\n",
      "7498/7500 [============================>.] - ETA: 0s - loss: 0.0126 - root_mean_squared_error: 0.1125"
     ]
    },
    {
     "name": "stderr",
     "output_type": "stream",
     "text": [
      "WARNING:absl:Found untraced functions such as lstm_cell_20_layer_call_fn, lstm_cell_20_layer_call_and_return_conditional_losses, lstm_cell_21_layer_call_fn, lstm_cell_21_layer_call_and_return_conditional_losses while saving (showing 4 of 4). These functions will not be directly callable after loading.\n"
     ]
    },
    {
     "name": "stdout",
     "output_type": "stream",
     "text": [
      "INFO:tensorflow:Assets written to: model_4\\assets\n"
     ]
    },
    {
     "name": "stderr",
     "output_type": "stream",
     "text": [
      "INFO:tensorflow:Assets written to: model_4\\assets\n"
     ]
    },
    {
     "name": "stdout",
     "output_type": "stream",
     "text": [
      "7500/7500 [==============================] - 193s 26ms/step - loss: 0.0126 - root_mean_squared_error: 0.1125 - val_loss: 0.0733 - val_root_mean_squared_error: 0.2707\n",
      "Epoch 4/10\n",
      "7500/7500 [==============================] - 149s 20ms/step - loss: 0.0111 - root_mean_squared_error: 0.1056 - val_loss: 0.0821 - val_root_mean_squared_error: 0.2865\n",
      "Epoch 5/10\n",
      "7500/7500 [==============================] - 152s 20ms/step - loss: 0.0102 - root_mean_squared_error: 0.1011 - val_loss: 0.0852 - val_root_mean_squared_error: 0.2919\n",
      "Epoch 6/10\n",
      "7500/7500 [==============================] - 146s 20ms/step - loss: 0.0095 - root_mean_squared_error: 0.0976 - val_loss: 0.0823 - val_root_mean_squared_error: 0.2869\n",
      "Epoch 7/10\n",
      "7500/7500 [==============================] - 160s 21ms/step - loss: 0.0090 - root_mean_squared_error: 0.0949 - val_loss: 0.1007 - val_root_mean_squared_error: 0.3173\n",
      "Epoch 8/10\n",
      "7500/7500 [==============================] - 173s 23ms/step - loss: 0.0084 - root_mean_squared_error: 0.0918 - val_loss: 0.1016 - val_root_mean_squared_error: 0.3188\n",
      "Epoch 9/10\n",
      "7500/7500 [==============================] - 181s 24ms/step - loss: 0.0081 - root_mean_squared_error: 0.0897 - val_loss: 0.1075 - val_root_mean_squared_error: 0.3279\n",
      "Epoch 10/10\n",
      "7500/7500 [==============================] - 179s 24ms/step - loss: 0.0077 - root_mean_squared_error: 0.0879 - val_loss: 0.1178 - val_root_mean_squared_error: 0.3433\n"
     ]
    },
    {
     "data": {
      "text/plain": [
       "<keras.callbacks.History at 0x23929363d30>"
      ]
     },
     "execution_count": 67,
     "metadata": {},
     "output_type": "execute_result"
    }
   ],
   "source": [
    "model_4.fit(X_train_normalized, y_train_normalized, validation_data=(X_val_normalized, y_val_normalized), epochs=10, callbacks=[cp_4], batch_size=8)"
   ]
  },
  {
   "cell_type": "code",
   "execution_count": 134,
   "metadata": {},
   "outputs": [
    {
     "name": "stdout",
     "output_type": "stream",
     "text": [
      "Model: \"sequential_31\"\n",
      "_________________________________________________________________\n",
      " Layer (type)                Output Shape              Param #   \n",
      "=================================================================\n",
      " lstm_51 (LSTM)              (None, 128)               73216     \n",
      "                                                                 \n",
      " dropout_33 (Dropout)        (None, 128)               0         \n",
      "                                                                 \n",
      " dense_44 (Dense)            (None, 16)                2064      \n",
      "                                                                 \n",
      " dense_45 (Dense)            (None, 4)                 68        \n",
      "                                                                 \n",
      "=================================================================\n",
      "Total params: 75,348\n",
      "Trainable params: 75,348\n",
      "Non-trainable params: 0\n",
      "_________________________________________________________________\n"
     ]
    }
   ],
   "source": [
    "model_5 = Sequential() # создаёт последовательную модель с пошаговым добавлением слоёв в неё\n",
    "model_5.add(InputLayer((WINDOW_SIZE, 14)))\n",
    "model_5.add(LSTM(128))\n",
    "model_5.add(Dropout(0.5)) # помогает избавиться от переобучения модели.\n",
    "# Таким образом, некоторые нейроны становятся равными 0, и это сокращает вычисления в процессе обучения.\n",
    "\n",
    "# Dense - является самым необходимым и базовым.\n",
    "# отвечает за соединение нейронов из предыдущего и следующего слоя.\n",
    "# Например, если первый слой имеет 5 нейронов, а второй 3, то общее количество соединений между слоями будет равно 15.\n",
    "# отвечает за эти соединения, и у него есть настраиваемые гиперпараметры: количество нейронов, тип активации, инициализация типа ядра.\n",
    "model_5.add(Dense(16, 'relu'))\n",
    "model_5.add(Dense(4, 'linear'))\n",
    "\n",
    "model_5.summary()"
   ]
  },
  {
   "cell_type": "code",
   "execution_count": 135,
   "metadata": {},
   "outputs": [],
   "source": [
    "cp_5 = ModelCheckpoint('model_5/', save_best_only=True)\n",
    "model_5.compile(loss=MeanSquaredError(), optimizer=Adam(learning_rate=0.0001), metrics=[RootMeanSquaredError()])"
   ]
  },
  {
   "cell_type": "code",
   "execution_count": 136,
   "metadata": {},
   "outputs": [
    {
     "name": "stdout",
     "output_type": "stream",
     "text": [
      "Epoch 1/10\n",
      "1718/1719 [============================>.] - ETA: 0s - loss: 0.1744 - root_mean_squared_error: 0.4176"
     ]
    },
    {
     "name": "stderr",
     "output_type": "stream",
     "text": [
      "WARNING:absl:Found untraced functions such as lstm_cell_51_layer_call_fn, lstm_cell_51_layer_call_and_return_conditional_losses while saving (showing 2 of 2). These functions will not be directly callable after loading.\n"
     ]
    },
    {
     "name": "stdout",
     "output_type": "stream",
     "text": [
      "INFO:tensorflow:Assets written to: model_5\\assets\n"
     ]
    },
    {
     "name": "stderr",
     "output_type": "stream",
     "text": [
      "INFO:tensorflow:Assets written to: model_5\\assets\n"
     ]
    },
    {
     "name": "stdout",
     "output_type": "stream",
     "text": [
      "1719/1719 [==============================] - 28s 15ms/step - loss: 0.1743 - root_mean_squared_error: 0.4175 - val_loss: 0.0838 - val_root_mean_squared_error: 0.2894\n",
      "Epoch 2/10\n",
      "1716/1719 [============================>.] - ETA: 0s - loss: 0.0384 - root_mean_squared_error: 0.1960"
     ]
    },
    {
     "name": "stderr",
     "output_type": "stream",
     "text": [
      "WARNING:absl:Found untraced functions such as lstm_cell_51_layer_call_fn, lstm_cell_51_layer_call_and_return_conditional_losses while saving (showing 2 of 2). These functions will not be directly callable after loading.\n"
     ]
    },
    {
     "name": "stdout",
     "output_type": "stream",
     "text": [
      "INFO:tensorflow:Assets written to: model_5\\assets\n"
     ]
    },
    {
     "name": "stderr",
     "output_type": "stream",
     "text": [
      "INFO:tensorflow:Assets written to: model_5\\assets\n"
     ]
    },
    {
     "name": "stdout",
     "output_type": "stream",
     "text": [
      "1719/1719 [==============================] - 27s 16ms/step - loss: 0.0384 - root_mean_squared_error: 0.1959 - val_loss: 0.0608 - val_root_mean_squared_error: 0.2465\n",
      "Epoch 3/10\n",
      "1716/1719 [============================>.] - ETA: 0s - loss: 0.0285 - root_mean_squared_error: 0.1688"
     ]
    },
    {
     "name": "stderr",
     "output_type": "stream",
     "text": [
      "WARNING:absl:Found untraced functions such as lstm_cell_51_layer_call_fn, lstm_cell_51_layer_call_and_return_conditional_losses while saving (showing 2 of 2). These functions will not be directly callable after loading.\n"
     ]
    },
    {
     "name": "stdout",
     "output_type": "stream",
     "text": [
      "INFO:tensorflow:Assets written to: model_5\\assets\n"
     ]
    },
    {
     "name": "stderr",
     "output_type": "stream",
     "text": [
      "INFO:tensorflow:Assets written to: model_5\\assets\n"
     ]
    },
    {
     "name": "stdout",
     "output_type": "stream",
     "text": [
      "1719/1719 [==============================] - 27s 16ms/step - loss: 0.0285 - root_mean_squared_error: 0.1688 - val_loss: 0.0431 - val_root_mean_squared_error: 0.2077\n",
      "Epoch 4/10\n",
      "1715/1719 [============================>.] - ETA: 0s - loss: 0.0241 - root_mean_squared_error: 0.1553"
     ]
    },
    {
     "name": "stderr",
     "output_type": "stream",
     "text": [
      "WARNING:absl:Found untraced functions such as lstm_cell_51_layer_call_fn, lstm_cell_51_layer_call_and_return_conditional_losses while saving (showing 2 of 2). These functions will not be directly callable after loading.\n"
     ]
    },
    {
     "name": "stdout",
     "output_type": "stream",
     "text": [
      "INFO:tensorflow:Assets written to: model_5\\assets\n"
     ]
    },
    {
     "name": "stderr",
     "output_type": "stream",
     "text": [
      "INFO:tensorflow:Assets written to: model_5\\assets\n"
     ]
    },
    {
     "name": "stdout",
     "output_type": "stream",
     "text": [
      "1719/1719 [==============================] - 27s 16ms/step - loss: 0.0241 - root_mean_squared_error: 0.1553 - val_loss: 0.0365 - val_root_mean_squared_error: 0.1911\n",
      "Epoch 5/10\n",
      "1719/1719 [==============================] - ETA: 0s - loss: 0.0212 - root_mean_squared_error: 0.1457"
     ]
    },
    {
     "name": "stderr",
     "output_type": "stream",
     "text": [
      "WARNING:absl:Found untraced functions such as lstm_cell_51_layer_call_fn, lstm_cell_51_layer_call_and_return_conditional_losses while saving (showing 2 of 2). These functions will not be directly callable after loading.\n"
     ]
    },
    {
     "name": "stdout",
     "output_type": "stream",
     "text": [
      "INFO:tensorflow:Assets written to: model_5\\assets\n"
     ]
    },
    {
     "name": "stderr",
     "output_type": "stream",
     "text": [
      "INFO:tensorflow:Assets written to: model_5\\assets\n"
     ]
    },
    {
     "name": "stdout",
     "output_type": "stream",
     "text": [
      "1719/1719 [==============================] - 27s 16ms/step - loss: 0.0212 - root_mean_squared_error: 0.1457 - val_loss: 0.0333 - val_root_mean_squared_error: 0.1824\n",
      "Epoch 6/10\n",
      "1714/1719 [============================>.] - ETA: 0s - loss: 0.0195 - root_mean_squared_error: 0.1396"
     ]
    },
    {
     "name": "stderr",
     "output_type": "stream",
     "text": [
      "WARNING:absl:Found untraced functions such as lstm_cell_51_layer_call_fn, lstm_cell_51_layer_call_and_return_conditional_losses while saving (showing 2 of 2). These functions will not be directly callable after loading.\n"
     ]
    },
    {
     "name": "stdout",
     "output_type": "stream",
     "text": [
      "INFO:tensorflow:Assets written to: model_5\\assets\n"
     ]
    },
    {
     "name": "stderr",
     "output_type": "stream",
     "text": [
      "INFO:tensorflow:Assets written to: model_5\\assets\n"
     ]
    },
    {
     "name": "stdout",
     "output_type": "stream",
     "text": [
      "1719/1719 [==============================] - 27s 16ms/step - loss: 0.0195 - root_mean_squared_error: 0.1395 - val_loss: 0.0299 - val_root_mean_squared_error: 0.1729\n",
      "Epoch 7/10\n",
      "1719/1719 [==============================] - ETA: 0s - loss: 0.0183 - root_mean_squared_error: 0.1351"
     ]
    },
    {
     "name": "stderr",
     "output_type": "stream",
     "text": [
      "WARNING:absl:Found untraced functions such as lstm_cell_51_layer_call_fn, lstm_cell_51_layer_call_and_return_conditional_losses while saving (showing 2 of 2). These functions will not be directly callable after loading.\n"
     ]
    },
    {
     "name": "stdout",
     "output_type": "stream",
     "text": [
      "INFO:tensorflow:Assets written to: model_5\\assets\n"
     ]
    },
    {
     "name": "stderr",
     "output_type": "stream",
     "text": [
      "INFO:tensorflow:Assets written to: model_5\\assets\n"
     ]
    },
    {
     "name": "stdout",
     "output_type": "stream",
     "text": [
      "1719/1719 [==============================] - 27s 16ms/step - loss: 0.0183 - root_mean_squared_error: 0.1351 - val_loss: 0.0293 - val_root_mean_squared_error: 0.1711\n",
      "Epoch 8/10\n",
      "1719/1719 [==============================] - ETA: 0s - loss: 0.0174 - root_mean_squared_error: 0.1320"
     ]
    },
    {
     "name": "stderr",
     "output_type": "stream",
     "text": [
      "WARNING:absl:Found untraced functions such as lstm_cell_51_layer_call_fn, lstm_cell_51_layer_call_and_return_conditional_losses while saving (showing 2 of 2). These functions will not be directly callable after loading.\n"
     ]
    },
    {
     "name": "stdout",
     "output_type": "stream",
     "text": [
      "INFO:tensorflow:Assets written to: model_5\\assets\n"
     ]
    },
    {
     "name": "stderr",
     "output_type": "stream",
     "text": [
      "INFO:tensorflow:Assets written to: model_5\\assets\n"
     ]
    },
    {
     "name": "stdout",
     "output_type": "stream",
     "text": [
      "1719/1719 [==============================] - 27s 16ms/step - loss: 0.0174 - root_mean_squared_error: 0.1320 - val_loss: 0.0271 - val_root_mean_squared_error: 0.1646\n",
      "Epoch 9/10\n",
      "1719/1719 [==============================] - 22s 13ms/step - loss: 0.0165 - root_mean_squared_error: 0.1285 - val_loss: 0.0281 - val_root_mean_squared_error: 0.1676\n",
      "Epoch 10/10\n",
      "1719/1719 [==============================] - ETA: 0s - loss: 0.0159 - root_mean_squared_error: 0.1259"
     ]
    },
    {
     "name": "stderr",
     "output_type": "stream",
     "text": [
      "WARNING:absl:Found untraced functions such as lstm_cell_51_layer_call_fn, lstm_cell_51_layer_call_and_return_conditional_losses while saving (showing 2 of 2). These functions will not be directly callable after loading.\n"
     ]
    },
    {
     "name": "stdout",
     "output_type": "stream",
     "text": [
      "INFO:tensorflow:Assets written to: model_5\\assets\n"
     ]
    },
    {
     "name": "stderr",
     "output_type": "stream",
     "text": [
      "INFO:tensorflow:Assets written to: model_5\\assets\n"
     ]
    },
    {
     "name": "stdout",
     "output_type": "stream",
     "text": [
      "1719/1719 [==============================] - 29s 17ms/step - loss: 0.0159 - root_mean_squared_error: 0.1259 - val_loss: 0.0252 - val_root_mean_squared_error: 0.1587\n"
     ]
    },
    {
     "data": {
      "text/plain": [
       "<keras.callbacks.History at 0x23959ee6c10>"
      ]
     },
     "execution_count": 136,
     "metadata": {},
     "output_type": "execute_result"
    }
   ],
   "source": [
    "model_5.fit(X_train_normalized, y_train_normalized, validation_data=(X_val_normalized, y_val_normalized), epochs=10, callbacks=[cp_5], batch_size=32)"
   ]
  },
  {
   "cell_type": "code",
   "execution_count": 137,
   "metadata": {},
   "outputs": [
    {
     "name": "stdout",
     "output_type": "stream",
     "text": [
      "Epoch 1/90\n",
      "1718/1719 [============================>.] - ETA: 0s - loss: 0.0155 - root_mean_squared_error: 0.1244"
     ]
    },
    {
     "name": "stderr",
     "output_type": "stream",
     "text": [
      "WARNING:absl:Found untraced functions such as lstm_cell_51_layer_call_fn, lstm_cell_51_layer_call_and_return_conditional_losses while saving (showing 2 of 2). These functions will not be directly callable after loading.\n"
     ]
    },
    {
     "name": "stdout",
     "output_type": "stream",
     "text": [
      "INFO:tensorflow:Assets written to: model_5\\assets\n"
     ]
    },
    {
     "name": "stderr",
     "output_type": "stream",
     "text": [
      "INFO:tensorflow:Assets written to: model_5\\assets\n"
     ]
    },
    {
     "name": "stdout",
     "output_type": "stream",
     "text": [
      "1719/1719 [==============================] - 28s 16ms/step - loss: 0.0155 - root_mean_squared_error: 0.1244 - val_loss: 0.0233 - val_root_mean_squared_error: 0.1528\n",
      "Epoch 2/90\n",
      "1719/1719 [==============================] - 19s 11ms/step - loss: 0.0148 - root_mean_squared_error: 0.1217 - val_loss: 0.0234 - val_root_mean_squared_error: 0.1531\n",
      "Epoch 3/90\n",
      "1717/1719 [============================>.] - ETA: 0s - loss: 0.0145 - root_mean_squared_error: 0.1205"
     ]
    },
    {
     "name": "stderr",
     "output_type": "stream",
     "text": [
      "WARNING:absl:Found untraced functions such as lstm_cell_51_layer_call_fn, lstm_cell_51_layer_call_and_return_conditional_losses while saving (showing 2 of 2). These functions will not be directly callable after loading.\n"
     ]
    },
    {
     "name": "stdout",
     "output_type": "stream",
     "text": [
      "INFO:tensorflow:Assets written to: model_5\\assets\n"
     ]
    },
    {
     "name": "stderr",
     "output_type": "stream",
     "text": [
      "INFO:tensorflow:Assets written to: model_5\\assets\n"
     ]
    },
    {
     "name": "stdout",
     "output_type": "stream",
     "text": [
      "1719/1719 [==============================] - 25s 14ms/step - loss: 0.0145 - root_mean_squared_error: 0.1205 - val_loss: 0.0213 - val_root_mean_squared_error: 0.1459\n",
      "Epoch 4/90\n",
      "1719/1719 [==============================] - ETA: 0s - loss: 0.0142 - root_mean_squared_error: 0.1191"
     ]
    },
    {
     "name": "stderr",
     "output_type": "stream",
     "text": [
      "WARNING:absl:Found untraced functions such as lstm_cell_51_layer_call_fn, lstm_cell_51_layer_call_and_return_conditional_losses while saving (showing 2 of 2). These functions will not be directly callable after loading.\n"
     ]
    },
    {
     "name": "stdout",
     "output_type": "stream",
     "text": [
      "INFO:tensorflow:Assets written to: model_5\\assets\n"
     ]
    },
    {
     "name": "stderr",
     "output_type": "stream",
     "text": [
      "INFO:tensorflow:Assets written to: model_5\\assets\n"
     ]
    },
    {
     "name": "stdout",
     "output_type": "stream",
     "text": [
      "1719/1719 [==============================] - 23s 14ms/step - loss: 0.0142 - root_mean_squared_error: 0.1191 - val_loss: 0.0206 - val_root_mean_squared_error: 0.1434\n",
      "Epoch 5/90\n",
      "1719/1719 [==============================] - 19s 11ms/step - loss: 0.0138 - root_mean_squared_error: 0.1173 - val_loss: 0.0222 - val_root_mean_squared_error: 0.1490\n",
      "Epoch 6/90\n",
      "1719/1719 [==============================] - 18s 11ms/step - loss: 0.0134 - root_mean_squared_error: 0.1158 - val_loss: 0.0211 - val_root_mean_squared_error: 0.1451\n",
      "Epoch 7/90\n",
      "1719/1719 [==============================] - 18s 11ms/step - loss: 0.0130 - root_mean_squared_error: 0.1141 - val_loss: 0.0215 - val_root_mean_squared_error: 0.1467\n",
      "Epoch 8/90\n",
      "1719/1719 [==============================] - 18s 10ms/step - loss: 0.0128 - root_mean_squared_error: 0.1132 - val_loss: 0.0228 - val_root_mean_squared_error: 0.1510\n",
      "Epoch 9/90\n",
      "1716/1719 [============================>.] - ETA: 0s - loss: 0.0126 - root_mean_squared_error: 0.1122"
     ]
    },
    {
     "name": "stderr",
     "output_type": "stream",
     "text": [
      "WARNING:absl:Found untraced functions such as lstm_cell_51_layer_call_fn, lstm_cell_51_layer_call_and_return_conditional_losses while saving (showing 2 of 2). These functions will not be directly callable after loading.\n"
     ]
    },
    {
     "name": "stdout",
     "output_type": "stream",
     "text": [
      "INFO:tensorflow:Assets written to: model_5\\assets\n"
     ]
    },
    {
     "name": "stderr",
     "output_type": "stream",
     "text": [
      "INFO:tensorflow:Assets written to: model_5\\assets\n"
     ]
    },
    {
     "name": "stdout",
     "output_type": "stream",
     "text": [
      "1719/1719 [==============================] - 21s 12ms/step - loss: 0.0126 - root_mean_squared_error: 0.1122 - val_loss: 0.0195 - val_root_mean_squared_error: 0.1396\n",
      "Epoch 10/90\n",
      "1719/1719 [==============================] - 15s 9ms/step - loss: 0.0123 - root_mean_squared_error: 0.1108 - val_loss: 0.0222 - val_root_mean_squared_error: 0.1490\n",
      "Epoch 11/90\n",
      "1719/1719 [==============================] - 17s 10ms/step - loss: 0.0121 - root_mean_squared_error: 0.1102 - val_loss: 0.0224 - val_root_mean_squared_error: 0.1496\n",
      "Epoch 12/90\n",
      "1719/1719 [==============================] - 18s 11ms/step - loss: 0.0117 - root_mean_squared_error: 0.1083 - val_loss: 0.0212 - val_root_mean_squared_error: 0.1456\n",
      "Epoch 13/90\n",
      "1719/1719 [==============================] - 18s 11ms/step - loss: 0.0115 - root_mean_squared_error: 0.1072 - val_loss: 0.0218 - val_root_mean_squared_error: 0.1476\n",
      "Epoch 14/90\n",
      "1719/1719 [==============================] - 18s 11ms/step - loss: 0.0114 - root_mean_squared_error: 0.1068 - val_loss: 0.0200 - val_root_mean_squared_error: 0.1416\n",
      "Epoch 15/90\n",
      "1719/1719 [==============================] - 19s 11ms/step - loss: 0.0112 - root_mean_squared_error: 0.1056 - val_loss: 0.0226 - val_root_mean_squared_error: 0.1505\n",
      "Epoch 16/90\n",
      "1719/1719 [==============================] - 19s 11ms/step - loss: 0.0109 - root_mean_squared_error: 0.1045 - val_loss: 0.0218 - val_root_mean_squared_error: 0.1475\n",
      "Epoch 17/90\n",
      "1719/1719 [==============================] - 19s 11ms/step - loss: 0.0108 - root_mean_squared_error: 0.1039 - val_loss: 0.0221 - val_root_mean_squared_error: 0.1485\n",
      "Epoch 18/90\n",
      "1719/1719 [==============================] - 18s 11ms/step - loss: 0.0106 - root_mean_squared_error: 0.1028 - val_loss: 0.0232 - val_root_mean_squared_error: 0.1523\n",
      "Epoch 19/90\n",
      "1719/1719 [==============================] - 19s 11ms/step - loss: 0.0103 - root_mean_squared_error: 0.1017 - val_loss: 0.0226 - val_root_mean_squared_error: 0.1503\n",
      "Epoch 20/90\n",
      "1719/1719 [==============================] - 20s 11ms/step - loss: 0.0101 - root_mean_squared_error: 0.1006 - val_loss: 0.0245 - val_root_mean_squared_error: 0.1566\n",
      "Epoch 21/90\n",
      "1719/1719 [==============================] - 19s 11ms/step - loss: 0.0098 - root_mean_squared_error: 0.0991 - val_loss: 0.0229 - val_root_mean_squared_error: 0.1513\n",
      "Epoch 22/90\n",
      "1719/1719 [==============================] - 19s 11ms/step - loss: 0.0097 - root_mean_squared_error: 0.0987 - val_loss: 0.0257 - val_root_mean_squared_error: 0.1604\n",
      "Epoch 23/90\n",
      "1719/1719 [==============================] - 20s 11ms/step - loss: 0.0096 - root_mean_squared_error: 0.0978 - val_loss: 0.0259 - val_root_mean_squared_error: 0.1608\n",
      "Epoch 24/90\n",
      "1719/1719 [==============================] - 19s 11ms/step - loss: 0.0093 - root_mean_squared_error: 0.0966 - val_loss: 0.0268 - val_root_mean_squared_error: 0.1637\n",
      "Epoch 25/90\n",
      "1719/1719 [==============================] - 19s 11ms/step - loss: 0.0092 - root_mean_squared_error: 0.0957 - val_loss: 0.0274 - val_root_mean_squared_error: 0.1655\n",
      "Epoch 26/90\n",
      "1719/1719 [==============================] - 22s 13ms/step - loss: 0.0091 - root_mean_squared_error: 0.0956 - val_loss: 0.0274 - val_root_mean_squared_error: 0.1655\n",
      "Epoch 27/90\n",
      "1719/1719 [==============================] - 21s 12ms/step - loss: 0.0089 - root_mean_squared_error: 0.0945 - val_loss: 0.0271 - val_root_mean_squared_error: 0.1647\n",
      "Epoch 28/90\n",
      "1719/1719 [==============================] - 21s 12ms/step - loss: 0.0088 - root_mean_squared_error: 0.0936 - val_loss: 0.0291 - val_root_mean_squared_error: 0.1707\n",
      "Epoch 29/90\n",
      "1719/1719 [==============================] - 19s 11ms/step - loss: 0.0086 - root_mean_squared_error: 0.0926 - val_loss: 0.0288 - val_root_mean_squared_error: 0.1698\n",
      "Epoch 30/90\n",
      "1719/1719 [==============================] - 19s 11ms/step - loss: 0.0085 - root_mean_squared_error: 0.0921 - val_loss: 0.0295 - val_root_mean_squared_error: 0.1717\n",
      "Epoch 31/90\n",
      "1719/1719 [==============================] - 20s 12ms/step - loss: 0.0083 - root_mean_squared_error: 0.0910 - val_loss: 0.0288 - val_root_mean_squared_error: 0.1697\n",
      "Epoch 32/90\n",
      "1719/1719 [==============================] - 19s 11ms/step - loss: 0.0082 - root_mean_squared_error: 0.0907 - val_loss: 0.0306 - val_root_mean_squared_error: 0.1750\n",
      "Epoch 33/90\n",
      "1719/1719 [==============================] - 19s 11ms/step - loss: 0.0080 - root_mean_squared_error: 0.0893 - val_loss: 0.0303 - val_root_mean_squared_error: 0.1741\n",
      "Epoch 34/90\n",
      "1719/1719 [==============================] - 19s 11ms/step - loss: 0.0079 - root_mean_squared_error: 0.0888 - val_loss: 0.0299 - val_root_mean_squared_error: 0.1730\n",
      "Epoch 35/90\n",
      "1719/1719 [==============================] - 20s 11ms/step - loss: 0.0078 - root_mean_squared_error: 0.0885 - val_loss: 0.0317 - val_root_mean_squared_error: 0.1780\n",
      "Epoch 36/90\n",
      "1719/1719 [==============================] - 24s 14ms/step - loss: 0.0076 - root_mean_squared_error: 0.0874 - val_loss: 0.0318 - val_root_mean_squared_error: 0.1782\n",
      "Epoch 37/90\n",
      "1719/1719 [==============================] - 21s 12ms/step - loss: 0.0076 - root_mean_squared_error: 0.0869 - val_loss: 0.0333 - val_root_mean_squared_error: 0.1825\n",
      "Epoch 38/90\n",
      "1719/1719 [==============================] - 22s 13ms/step - loss: 0.0075 - root_mean_squared_error: 0.0863 - val_loss: 0.0316 - val_root_mean_squared_error: 0.1777\n",
      "Epoch 39/90\n",
      "1719/1719 [==============================] - 21s 12ms/step - loss: 0.0074 - root_mean_squared_error: 0.0860 - val_loss: 0.0338 - val_root_mean_squared_error: 0.1839\n",
      "Epoch 40/90\n",
      "1719/1719 [==============================] - 21s 12ms/step - loss: 0.0072 - root_mean_squared_error: 0.0849 - val_loss: 0.0314 - val_root_mean_squared_error: 0.1771\n",
      "Epoch 41/90\n",
      "1719/1719 [==============================] - 22s 13ms/step - loss: 0.0071 - root_mean_squared_error: 0.0844 - val_loss: 0.0325 - val_root_mean_squared_error: 0.1802\n",
      "Epoch 42/90\n",
      "1719/1719 [==============================] - 20s 12ms/step - loss: 0.0072 - root_mean_squared_error: 0.0846 - val_loss: 0.0340 - val_root_mean_squared_error: 0.1845\n",
      "Epoch 43/90\n",
      "1719/1719 [==============================] - 19s 11ms/step - loss: 0.0070 - root_mean_squared_error: 0.0837 - val_loss: 0.0344 - val_root_mean_squared_error: 0.1856\n",
      "Epoch 44/90\n",
      "1719/1719 [==============================] - 20s 11ms/step - loss: 0.0069 - root_mean_squared_error: 0.0832 - val_loss: 0.0338 - val_root_mean_squared_error: 0.1839\n",
      "Epoch 45/90\n",
      "1719/1719 [==============================] - 17s 10ms/step - loss: 0.0068 - root_mean_squared_error: 0.0822 - val_loss: 0.0330 - val_root_mean_squared_error: 0.1817\n",
      "Epoch 46/90\n",
      "1719/1719 [==============================] - 16s 9ms/step - loss: 0.0068 - root_mean_squared_error: 0.0825 - val_loss: 0.0342 - val_root_mean_squared_error: 0.1850\n",
      "Epoch 47/90\n",
      "1719/1719 [==============================] - 17s 10ms/step - loss: 0.0067 - root_mean_squared_error: 0.0819 - val_loss: 0.0358 - val_root_mean_squared_error: 0.1893\n",
      "Epoch 48/90\n",
      "1719/1719 [==============================] - 19s 11ms/step - loss: 0.0066 - root_mean_squared_error: 0.0812 - val_loss: 0.0347 - val_root_mean_squared_error: 0.1864\n",
      "Epoch 49/90\n",
      "1719/1719 [==============================] - 20s 12ms/step - loss: 0.0066 - root_mean_squared_error: 0.0810 - val_loss: 0.0357 - val_root_mean_squared_error: 0.1889\n",
      "Epoch 50/90\n",
      "1719/1719 [==============================] - 19s 11ms/step - loss: 0.0065 - root_mean_squared_error: 0.0806 - val_loss: 0.0345 - val_root_mean_squared_error: 0.1859\n",
      "Epoch 51/90\n",
      "1719/1719 [==============================] - 21s 12ms/step - loss: 0.0064 - root_mean_squared_error: 0.0800 - val_loss: 0.0338 - val_root_mean_squared_error: 0.1839\n",
      "Epoch 52/90\n",
      "1719/1719 [==============================] - 19s 11ms/step - loss: 0.0063 - root_mean_squared_error: 0.0795 - val_loss: 0.0350 - val_root_mean_squared_error: 0.1870\n",
      "Epoch 53/90\n",
      "1719/1719 [==============================] - 20s 11ms/step - loss: 0.0063 - root_mean_squared_error: 0.0792 - val_loss: 0.0325 - val_root_mean_squared_error: 0.1803\n",
      "Epoch 54/90\n",
      "1719/1719 [==============================] - 21s 12ms/step - loss: 0.0062 - root_mean_squared_error: 0.0789 - val_loss: 0.0339 - val_root_mean_squared_error: 0.1842\n",
      "Epoch 55/90\n",
      "1719/1719 [==============================] - 18s 10ms/step - loss: 0.0061 - root_mean_squared_error: 0.0780 - val_loss: 0.0355 - val_root_mean_squared_error: 0.1885\n",
      "Epoch 56/90\n",
      "1719/1719 [==============================] - 19s 11ms/step - loss: 0.0060 - root_mean_squared_error: 0.0775 - val_loss: 0.0340 - val_root_mean_squared_error: 0.1844\n",
      "Epoch 57/90\n",
      "1719/1719 [==============================] - 19s 11ms/step - loss: 0.0061 - root_mean_squared_error: 0.0784 - val_loss: 0.0344 - val_root_mean_squared_error: 0.1854\n",
      "Epoch 58/90\n",
      "1719/1719 [==============================] - 18s 11ms/step - loss: 0.0059 - root_mean_squared_error: 0.0766 - val_loss: 0.0343 - val_root_mean_squared_error: 0.1853\n",
      "Epoch 59/90\n",
      "1719/1719 [==============================] - 18s 11ms/step - loss: 0.0059 - root_mean_squared_error: 0.0771 - val_loss: 0.0341 - val_root_mean_squared_error: 0.1848\n",
      "Epoch 60/90\n",
      "1719/1719 [==============================] - 18s 11ms/step - loss: 0.0059 - root_mean_squared_error: 0.0771 - val_loss: 0.0338 - val_root_mean_squared_error: 0.1840\n",
      "Epoch 61/90\n",
      "1719/1719 [==============================] - 18s 11ms/step - loss: 0.0058 - root_mean_squared_error: 0.0760 - val_loss: 0.0346 - val_root_mean_squared_error: 0.1861\n",
      "Epoch 62/90\n",
      "1719/1719 [==============================] - 18s 11ms/step - loss: 0.0057 - root_mean_squared_error: 0.0758 - val_loss: 0.0343 - val_root_mean_squared_error: 0.1851\n",
      "Epoch 63/90\n",
      "1719/1719 [==============================] - 16s 9ms/step - loss: 0.0057 - root_mean_squared_error: 0.0755 - val_loss: 0.0341 - val_root_mean_squared_error: 0.1846\n",
      "Epoch 64/90\n",
      "1719/1719 [==============================] - 17s 10ms/step - loss: 0.0058 - root_mean_squared_error: 0.0759 - val_loss: 0.0348 - val_root_mean_squared_error: 0.1866\n",
      "Epoch 65/90\n",
      "1719/1719 [==============================] - 17s 10ms/step - loss: 0.0056 - root_mean_squared_error: 0.0750 - val_loss: 0.0347 - val_root_mean_squared_error: 0.1863\n",
      "Epoch 66/90\n",
      "1719/1719 [==============================] - 16s 9ms/step - loss: 0.0056 - root_mean_squared_error: 0.0747 - val_loss: 0.0346 - val_root_mean_squared_error: 0.1861\n",
      "Epoch 67/90\n",
      "1719/1719 [==============================] - 16s 9ms/step - loss: 0.0056 - root_mean_squared_error: 0.0747 - val_loss: 0.0352 - val_root_mean_squared_error: 0.1876\n",
      "Epoch 68/90\n",
      "1719/1719 [==============================] - 15s 9ms/step - loss: 0.0055 - root_mean_squared_error: 0.0744 - val_loss: 0.0337 - val_root_mean_squared_error: 0.1836\n",
      "Epoch 69/90\n",
      "1719/1719 [==============================] - 17s 10ms/step - loss: 0.0055 - root_mean_squared_error: 0.0740 - val_loss: 0.0349 - val_root_mean_squared_error: 0.1869\n",
      "Epoch 70/90\n",
      "1719/1719 [==============================] - 16s 9ms/step - loss: 0.0054 - root_mean_squared_error: 0.0736 - val_loss: 0.0334 - val_root_mean_squared_error: 0.1828\n",
      "Epoch 71/90\n",
      "1719/1719 [==============================] - 17s 10ms/step - loss: 0.0054 - root_mean_squared_error: 0.0733 - val_loss: 0.0352 - val_root_mean_squared_error: 0.1876\n",
      "Epoch 72/90\n",
      "1719/1719 [==============================] - 18s 11ms/step - loss: 0.0053 - root_mean_squared_error: 0.0727 - val_loss: 0.0340 - val_root_mean_squared_error: 0.1843\n",
      "Epoch 73/90\n",
      "1719/1719 [==============================] - 19s 11ms/step - loss: 0.0053 - root_mean_squared_error: 0.0730 - val_loss: 0.0330 - val_root_mean_squared_error: 0.1818\n",
      "Epoch 74/90\n",
      "1719/1719 [==============================] - 20s 12ms/step - loss: 0.0053 - root_mean_squared_error: 0.0729 - val_loss: 0.0353 - val_root_mean_squared_error: 0.1879\n",
      "Epoch 75/90\n",
      "1719/1719 [==============================] - 21s 12ms/step - loss: 0.0053 - root_mean_squared_error: 0.0725 - val_loss: 0.0344 - val_root_mean_squared_error: 0.1855\n",
      "Epoch 76/90\n",
      "1719/1719 [==============================] - 20s 11ms/step - loss: 0.0052 - root_mean_squared_error: 0.0719 - val_loss: 0.0338 - val_root_mean_squared_error: 0.1839\n",
      "Epoch 77/90\n",
      "1719/1719 [==============================] - 19s 11ms/step - loss: 0.0051 - root_mean_squared_error: 0.0713 - val_loss: 0.0348 - val_root_mean_squared_error: 0.1866\n",
      "Epoch 78/90\n",
      "1719/1719 [==============================] - 19s 11ms/step - loss: 0.0051 - root_mean_squared_error: 0.0715 - val_loss: 0.0353 - val_root_mean_squared_error: 0.1880\n",
      "Epoch 79/90\n",
      "1719/1719 [==============================] - 20s 12ms/step - loss: 0.0051 - root_mean_squared_error: 0.0712 - val_loss: 0.0343 - val_root_mean_squared_error: 0.1852\n",
      "Epoch 80/90\n",
      "1719/1719 [==============================] - 19s 11ms/step - loss: 0.0051 - root_mean_squared_error: 0.0712 - val_loss: 0.0351 - val_root_mean_squared_error: 0.1874\n",
      "Epoch 81/90\n",
      "1719/1719 [==============================] - 18s 11ms/step - loss: 0.0050 - root_mean_squared_error: 0.0708 - val_loss: 0.0335 - val_root_mean_squared_error: 0.1831\n",
      "Epoch 82/90\n",
      "1719/1719 [==============================] - 18s 11ms/step - loss: 0.0050 - root_mean_squared_error: 0.0707 - val_loss: 0.0354 - val_root_mean_squared_error: 0.1881\n",
      "Epoch 83/90\n",
      "1719/1719 [==============================] - 19s 11ms/step - loss: 0.0049 - root_mean_squared_error: 0.0702 - val_loss: 0.0357 - val_root_mean_squared_error: 0.1889\n",
      "Epoch 84/90\n",
      "1719/1719 [==============================] - 20s 11ms/step - loss: 0.0050 - root_mean_squared_error: 0.0706 - val_loss: 0.0367 - val_root_mean_squared_error: 0.1915\n",
      "Epoch 85/90\n",
      "1719/1719 [==============================] - 20s 12ms/step - loss: 0.0049 - root_mean_squared_error: 0.0698 - val_loss: 0.0355 - val_root_mean_squared_error: 0.1883\n",
      "Epoch 86/90\n",
      "1719/1719 [==============================] - 17s 10ms/step - loss: 0.0049 - root_mean_squared_error: 0.0701 - val_loss: 0.0348 - val_root_mean_squared_error: 0.1866\n",
      "Epoch 87/90\n",
      "1719/1719 [==============================] - 15s 9ms/step - loss: 0.0049 - root_mean_squared_error: 0.0697 - val_loss: 0.0362 - val_root_mean_squared_error: 0.1903\n",
      "Epoch 88/90\n",
      "1719/1719 [==============================] - 16s 9ms/step - loss: 0.0048 - root_mean_squared_error: 0.0691 - val_loss: 0.0338 - val_root_mean_squared_error: 0.1838\n",
      "Epoch 89/90\n",
      "1719/1719 [==============================] - 18s 11ms/step - loss: 0.0048 - root_mean_squared_error: 0.0692 - val_loss: 0.0356 - val_root_mean_squared_error: 0.1888\n",
      "Epoch 90/90\n",
      "1719/1719 [==============================] - 17s 10ms/step - loss: 0.0047 - root_mean_squared_error: 0.0689 - val_loss: 0.0349 - val_root_mean_squared_error: 0.1867\n"
     ]
    },
    {
     "data": {
      "text/plain": [
       "<keras.callbacks.History at 0x238ccf5eaf0>"
      ]
     },
     "execution_count": 137,
     "metadata": {},
     "output_type": "execute_result"
    }
   ],
   "source": [
    "model_5.fit(X_train_normalized, y_train_normalized, validation_data=(X_val_normalized, y_val_normalized), epochs=90, callbacks=[cp_5], batch_size=32)"
   ]
  },
  {
   "cell_type": "code",
   "execution_count": null,
   "metadata": {},
   "outputs": [],
   "source": [
    "# EXPERIMENT RESULTS AND PLOTS"
   ]
  },
  {
   "cell_type": "code",
   "execution_count": 138,
   "metadata": {},
   "outputs": [],
   "source": [
    "def get_normalized_predictions(model, X_normalized):\n",
    "    normalized_predictions = model.predict(X_normalized)\n",
    "    return normalized_predictions"
   ]
  },
  {
   "cell_type": "code",
   "execution_count": 139,
   "metadata": {},
   "outputs": [
    {
     "name": "stdout",
     "output_type": "stream",
     "text": [
      "325/325 [==============================] - 2s 5ms/step\n"
     ]
    }
   ],
   "source": [
    "normalized_predictions_5 = get_normalized_predictions(model_5, X_test_normalized)"
   ]
  },
  {
   "cell_type": "code",
   "execution_count": 140,
   "metadata": {},
   "outputs": [],
   "source": [
    "# Постобработка нормализованных выходных данных (predictions)\n",
    "def postprocess_predictions(y):\n",
    "  postprocessed_y = np.copy(y)\n",
    "  for i in range(y.shape[1]):\n",
    "    mean, std = y_means[i], y_stds[i]\n",
    "    postprocessed_y[:, i] = y[ :, i] * std + mean\n",
    "  return postprocessed_y\n",
    "\n",
    "def get_postprocessed_predictions(normalized_predictions):\n",
    "  post_predictions = postprocess_predictions(normalized_predictions)\n",
    "  return post_predictions\n",
    "\n",
    "#postprocessed_predictions = get_postprocessed_predictions(model_1, X_test)"
   ]
  },
  {
   "cell_type": "code",
   "execution_count": 141,
   "metadata": {},
   "outputs": [],
   "source": [
    "postprocessed_predictions_5 = get_postprocessed_predictions(normalized_predictions_5)"
   ]
  },
  {
   "cell_type": "code",
   "execution_count": 45,
   "metadata": {},
   "outputs": [],
   "source": [
    "def plot_predictions(predictions, actuals_y, start, end):\n",
    "  CubFlexL_preds, CubFlexR_preds, CubPronL_preds, CubPronR_preds = predictions[:, 0], predictions[:, 1], predictions[:, 2], predictions[:, 3]\n",
    "  CubFlexL_actuals, CubFlexR_actuals, CubPronL_actuals, CubPronR_actuals = actuals_y[:, 0], actuals_y[:, 1], actuals_y[:, 2], actuals_y[:, 3],\n",
    "  df = pd.DataFrame(data={'CubFlex-L Predictions': CubFlexL_preds,\n",
    "                          'CubFlex-L Actuals':CubFlexL_actuals,\n",
    "                          'CubFlex-R Predictions': CubFlexR_preds,\n",
    "                          'CubFlex-R Actuals':CubFlexR_actuals,\n",
    "                          'CubPron-L Predictions': CubPronL_preds,\n",
    "                          'CubPron-L Actuals':CubPronL_actuals,\n",
    "                          'CubPron-R Predictions': CubPronR_preds,\n",
    "                          'CubPron-R Actuals':CubPronR_actuals,\n",
    "                          })\n",
    "  fig = plt.figure(figsize=[12, 7])\n",
    "  plt.subplot(2, 2, 1)\n",
    "  plt.grid()\n",
    "  #plt.yticks([y*0.4 for y in range(-9, 5)])\n",
    "  plt.title('CubFlex-L')\n",
    "  l1 = plt.plot(df['CubFlex-L Predictions'][start:end], 'r--')\n",
    "  l2 = plt.plot(df['CubFlex-L Actuals'][start:end], 'green')\n",
    "\n",
    "  plt.subplot(2, 2, 2)\n",
    "  plt.grid()\n",
    "  #plt.yticks([y*0.5 for y in range(-3, 11)])\n",
    "  plt.title('CubFlex-R')\n",
    "  plt.plot(df['CubFlex-R Predictions'][start:end], 'r--')\n",
    "  plt.plot(df['CubFlex-R Actuals'][start:end], 'green')\n",
    "  \n",
    "  plt.subplot(2, 2, 3)\n",
    "  plt.grid()\n",
    "  #plt.yticks([y*0.4 for y in range(-9, 7)])\n",
    "  plt.title('CubPron-L')\n",
    "  plt.plot(df['CubPron-L Predictions'][start:end], 'r--')\n",
    "  plt.plot(df['CubPron-L Actuals'][start:end], 'green')\n",
    "\n",
    "  plt.subplot(2, 2, 4)\n",
    "  plt.grid()\n",
    "  #plt.yticks([y*0.5 for y in range(-3, 11)])\n",
    "  plt.title('CubPron-R')\n",
    "  plt.plot(df['CubPron-R Predictions'][start:end], 'r--',)\n",
    "  plt.plot(df['CubPron-R Actuals'][start:end], 'green')\n",
    "\n",
    "  plt.subplots_adjust( hspace=0.4)\n",
    "  fig.legend([l1, l2], labels=['Прогнозируемые значения', 'Истинные значения'], loc=\"center\")\n",
    "  \n",
    "  return df"
   ]
  },
  {
   "cell_type": "code",
   "execution_count": 144,
   "metadata": {},
   "outputs": [
    {
     "name": "stderr",
     "output_type": "stream",
     "text": [
      "C:\\Users\\660\\AppData\\Local\\Temp\\ipykernel_19496\\2568925126.py:43: UserWarning: You have mixed positional and keyword arguments, some input may be discarded.\n",
      "  fig.legend([l1, l2], labels=['Прогнозируемые значения', 'Истинные значения'], loc=\"center\")\n"
     ]
    },
    {
     "data": {
      "text/html": [
       "<div>\n",
       "<style scoped>\n",
       "    .dataframe tbody tr th:only-of-type {\n",
       "        vertical-align: middle;\n",
       "    }\n",
       "\n",
       "    .dataframe tbody tr th {\n",
       "        vertical-align: top;\n",
       "    }\n",
       "\n",
       "    .dataframe thead th {\n",
       "        text-align: right;\n",
       "    }\n",
       "</style>\n",
       "<table border=\"1\" class=\"dataframe\">\n",
       "  <thead>\n",
       "    <tr style=\"text-align: right;\">\n",
       "      <th></th>\n",
       "      <th>CubFlex-L Predictions</th>\n",
       "      <th>CubFlex-L Actuals</th>\n",
       "      <th>CubFlex-R Predictions</th>\n",
       "      <th>CubFlex-R Actuals</th>\n",
       "      <th>CubPron-L Predictions</th>\n",
       "      <th>CubPron-L Actuals</th>\n",
       "      <th>CubPron-R Predictions</th>\n",
       "      <th>CubPron-R Actuals</th>\n",
       "    </tr>\n",
       "  </thead>\n",
       "  <tbody>\n",
       "    <tr>\n",
       "      <th>0</th>\n",
       "      <td>142.113602</td>\n",
       "      <td>150.480</td>\n",
       "      <td>22.949860</td>\n",
       "      <td>42.5271</td>\n",
       "      <td>19.652790</td>\n",
       "      <td>19.7555</td>\n",
       "      <td>-77.129166</td>\n",
       "      <td>-81.5597</td>\n",
       "    </tr>\n",
       "    <tr>\n",
       "      <th>1</th>\n",
       "      <td>142.113419</td>\n",
       "      <td>150.480</td>\n",
       "      <td>22.946373</td>\n",
       "      <td>42.5271</td>\n",
       "      <td>19.646393</td>\n",
       "      <td>19.7555</td>\n",
       "      <td>-77.128693</td>\n",
       "      <td>-81.5597</td>\n",
       "    </tr>\n",
       "    <tr>\n",
       "      <th>2</th>\n",
       "      <td>142.114761</td>\n",
       "      <td>150.492</td>\n",
       "      <td>22.944212</td>\n",
       "      <td>42.5178</td>\n",
       "      <td>19.641382</td>\n",
       "      <td>19.7512</td>\n",
       "      <td>-77.128792</td>\n",
       "      <td>-81.5607</td>\n",
       "    </tr>\n",
       "    <tr>\n",
       "      <th>3</th>\n",
       "      <td>142.115250</td>\n",
       "      <td>150.492</td>\n",
       "      <td>22.941072</td>\n",
       "      <td>42.5178</td>\n",
       "      <td>19.635340</td>\n",
       "      <td>19.7512</td>\n",
       "      <td>-77.128540</td>\n",
       "      <td>-81.5607</td>\n",
       "    </tr>\n",
       "    <tr>\n",
       "      <th>4</th>\n",
       "      <td>142.116928</td>\n",
       "      <td>150.503</td>\n",
       "      <td>22.939112</td>\n",
       "      <td>42.5067</td>\n",
       "      <td>19.630592</td>\n",
       "      <td>19.7480</td>\n",
       "      <td>-77.128754</td>\n",
       "      <td>-81.5618</td>\n",
       "    </tr>\n",
       "    <tr>\n",
       "      <th>...</th>\n",
       "      <td>...</td>\n",
       "      <td>...</td>\n",
       "      <td>...</td>\n",
       "      <td>...</td>\n",
       "      <td>...</td>\n",
       "      <td>...</td>\n",
       "      <td>...</td>\n",
       "      <td>...</td>\n",
       "    </tr>\n",
       "    <tr>\n",
       "      <th>10375</th>\n",
       "      <td>143.391251</td>\n",
       "      <td>149.520</td>\n",
       "      <td>23.153423</td>\n",
       "      <td>44.0545</td>\n",
       "      <td>25.017744</td>\n",
       "      <td>31.3010</td>\n",
       "      <td>-75.022964</td>\n",
       "      <td>-80.1557</td>\n",
       "    </tr>\n",
       "    <tr>\n",
       "      <th>10376</th>\n",
       "      <td>143.391098</td>\n",
       "      <td>149.519</td>\n",
       "      <td>23.153843</td>\n",
       "      <td>44.0548</td>\n",
       "      <td>25.018202</td>\n",
       "      <td>31.3012</td>\n",
       "      <td>-75.023125</td>\n",
       "      <td>-80.1564</td>\n",
       "    </tr>\n",
       "    <tr>\n",
       "      <th>10377</th>\n",
       "      <td>143.390671</td>\n",
       "      <td>149.519</td>\n",
       "      <td>23.154261</td>\n",
       "      <td>44.0548</td>\n",
       "      <td>25.018898</td>\n",
       "      <td>31.3012</td>\n",
       "      <td>-75.023384</td>\n",
       "      <td>-80.1564</td>\n",
       "    </tr>\n",
       "    <tr>\n",
       "      <th>10378</th>\n",
       "      <td>143.390228</td>\n",
       "      <td>149.519</td>\n",
       "      <td>23.154667</td>\n",
       "      <td>44.0552</td>\n",
       "      <td>25.019505</td>\n",
       "      <td>31.3014</td>\n",
       "      <td>-75.023598</td>\n",
       "      <td>-80.1570</td>\n",
       "    </tr>\n",
       "    <tr>\n",
       "      <th>10379</th>\n",
       "      <td>143.389725</td>\n",
       "      <td>149.519</td>\n",
       "      <td>23.155121</td>\n",
       "      <td>44.0552</td>\n",
       "      <td>25.020164</td>\n",
       "      <td>31.3014</td>\n",
       "      <td>-75.023872</td>\n",
       "      <td>-80.1570</td>\n",
       "    </tr>\n",
       "  </tbody>\n",
       "</table>\n",
       "<p>10380 rows × 8 columns</p>\n",
       "</div>"
      ],
      "text/plain": [
       "       CubFlex-L Predictions  CubFlex-L Actuals  CubFlex-R Predictions  \\\n",
       "0                 142.113602            150.480              22.949860   \n",
       "1                 142.113419            150.480              22.946373   \n",
       "2                 142.114761            150.492              22.944212   \n",
       "3                 142.115250            150.492              22.941072   \n",
       "4                 142.116928            150.503              22.939112   \n",
       "...                      ...                ...                    ...   \n",
       "10375             143.391251            149.520              23.153423   \n",
       "10376             143.391098            149.519              23.153843   \n",
       "10377             143.390671            149.519              23.154261   \n",
       "10378             143.390228            149.519              23.154667   \n",
       "10379             143.389725            149.519              23.155121   \n",
       "\n",
       "       CubFlex-R Actuals  CubPron-L Predictions  CubPron-L Actuals  \\\n",
       "0                42.5271              19.652790            19.7555   \n",
       "1                42.5271              19.646393            19.7555   \n",
       "2                42.5178              19.641382            19.7512   \n",
       "3                42.5178              19.635340            19.7512   \n",
       "4                42.5067              19.630592            19.7480   \n",
       "...                  ...                    ...                ...   \n",
       "10375            44.0545              25.017744            31.3010   \n",
       "10376            44.0548              25.018202            31.3012   \n",
       "10377            44.0548              25.018898            31.3012   \n",
       "10378            44.0552              25.019505            31.3014   \n",
       "10379            44.0552              25.020164            31.3014   \n",
       "\n",
       "       CubPron-R Predictions  CubPron-R Actuals  \n",
       "0                 -77.129166           -81.5597  \n",
       "1                 -77.128693           -81.5597  \n",
       "2                 -77.128792           -81.5607  \n",
       "3                 -77.128540           -81.5607  \n",
       "4                 -77.128754           -81.5618  \n",
       "...                      ...                ...  \n",
       "10375             -75.022964           -80.1557  \n",
       "10376             -75.023125           -80.1564  \n",
       "10377             -75.023384           -80.1564  \n",
       "10378             -75.023598           -80.1570  \n",
       "10379             -75.023872           -80.1570  \n",
       "\n",
       "[10380 rows x 8 columns]"
      ]
     },
     "execution_count": 144,
     "metadata": {},
     "output_type": "execute_result"
    },
    {
     "data": {
      "image/png": "[encoded data removed]",
      "text/plain": [
       "<Figure size 1200x700 with 4 Axes>"
      ]
     },
     "metadata": {},
     "output_type": "display_data"
    }
   ],
   "source": [
    "plot_predictions(postprocessed_predictions_5, y_test, 0, 11000)"
   ]
  },
  {
   "cell_type": "code",
   "execution_count": 145,
   "metadata": {},
   "outputs": [],
   "source": [
    "def rmse(predictions, actuals):\n",
    "    return np.sqrt(((predictions - actuals) ** 2).mean())"
   ]
  },
  {
   "cell_type": "code",
   "execution_count": 146,
   "metadata": {},
   "outputs": [
    {
     "data": {
      "text/plain": [
       "11.264567546619828"
      ]
     },
     "execution_count": 146,
     "metadata": {},
     "output_type": "execute_result"
    }
   ],
   "source": [
    "rmse(postprocessed_predictions_5, y_test)"
   ]
  }
 ],
 "metadata": {
  "kernelspec": {
   "display_name": "tf",
   "language": "python",
   "name": "python3"
  },
  "language_info": {
   "codemirror_mode": {
    "name": "ipython",
    "version": 3
   },
   "file_extension": ".py",
   "mimetype": "text/x-python",
   "name": "python",
   "nbconvert_exporter": "python",
   "pygments_lexer": "ipython3",
   "version": "3.9.19"
  }
 },
 "nbformat": 4,
 "nbformat_minor": 2
}
